{
 "cells": [
  {
   "cell_type": "markdown",
   "metadata": {},
   "source": [
    "<pre><code>Prabhu Kiran<br>20K45A0215<br><a href=\"https://www.github.com/Prabhukiran8790\">Github/PrabhuKiran8790</a></code></pre>\n",
    "### About Optimization using SciPy linprog"
   ]
  },
  {
   "cell_type": "markdown",
   "metadata": {},
   "source": [
    "# Importing Packages"
   ]
  },
  {
   "cell_type": "code",
   "execution_count": 12,
   "metadata": {},
   "outputs": [],
   "source": [
    "import numpy as np\n",
    "import pandas as pd\n",
    "import matplotlib.pyplot as plt\n",
    "from sklearn.linear_model import SGDRegressor\n",
    "from sklearn.model_selection import train_test_split\n",
    "from sklearn.metrics import mean_squared_error\n",
    "import seaborn as sns"
   ]
  },
  {
   "cell_type": "markdown",
   "metadata": {},
   "source": [
    "# Getting Dataset"
   ]
  },
  {
   "cell_type": "code",
   "execution_count": 13,
   "metadata": {},
   "outputs": [
    {
     "data": {
      "text/html": [
       "<div>\n",
       "<style scoped>\n",
       "    .dataframe tbody tr th:only-of-type {\n",
       "        vertical-align: middle;\n",
       "    }\n",
       "\n",
       "    .dataframe tbody tr th {\n",
       "        vertical-align: top;\n",
       "    }\n",
       "\n",
       "    .dataframe thead th {\n",
       "        text-align: right;\n",
       "    }\n",
       "</style>\n",
       "<table border=\"1\" class=\"dataframe\">\n",
       "  <thead>\n",
       "    <tr style=\"text-align: right;\">\n",
       "      <th></th>\n",
       "      <th>pH_level</th>\n",
       "      <th>Bicarbonates</th>\n",
       "    </tr>\n",
       "  </thead>\n",
       "  <tbody>\n",
       "    <tr>\n",
       "      <th>0</th>\n",
       "      <td>7.6</td>\n",
       "      <td>157</td>\n",
       "    </tr>\n",
       "    <tr>\n",
       "      <th>1</th>\n",
       "      <td>7.1</td>\n",
       "      <td>174</td>\n",
       "    </tr>\n",
       "    <tr>\n",
       "      <th>2</th>\n",
       "      <td>8.2</td>\n",
       "      <td>175</td>\n",
       "    </tr>\n",
       "    <tr>\n",
       "      <th>3</th>\n",
       "      <td>7.5</td>\n",
       "      <td>188</td>\n",
       "    </tr>\n",
       "    <tr>\n",
       "      <th>4</th>\n",
       "      <td>7.4</td>\n",
       "      <td>171</td>\n",
       "    </tr>\n",
       "  </tbody>\n",
       "</table>\n",
       "</div>"
      ],
      "text/plain": [
       "   pH_level  Bicarbonates\n",
       "0       7.6           157\n",
       "1       7.1           174\n",
       "2       8.2           175\n",
       "3       7.5           188\n",
       "4       7.4           171"
      ]
     },
     "execution_count": 13,
     "metadata": {},
     "output_type": "execute_result"
    }
   ],
   "source": [
    "dataset = pd.read_csv('pH-Bicarbonate.csv')\n",
    "dataset = dataset.rename(columns={'X':'pH_level', 'Y':'Bicarbonates'})\n",
    "\n",
    "dataset.head()"
   ]
  },
  {
   "cell_type": "markdown",
   "metadata": {},
   "source": [
    "# Missing Value Treatment"
   ]
  },
  {
   "cell_type": "code",
   "execution_count": 14,
   "metadata": {},
   "outputs": [
    {
     "data": {
      "text/plain": [
       "pH_level        0\n",
       "Bicarbonates    0\n",
       "dtype: int64"
      ]
     },
     "execution_count": 14,
     "metadata": {},
     "output_type": "execute_result"
    }
   ],
   "source": [
    "dataset.isnull().sum()"
   ]
  },
  {
   "cell_type": "markdown",
   "metadata": {},
   "source": [
    "# Outliers Treatment"
   ]
  },
  {
   "cell_type": "code",
   "execution_count": 15,
   "metadata": {},
   "outputs": [
    {
     "name": "stdout",
     "output_type": "stream",
     "text": [
      "Outliers in 'pH_level' column from Z-scores method: 0\n",
      "Outliers in 'Bicarbonates' column from Z-scores method: 0\n"
     ]
    }
   ],
   "source": [
    "outliers = []\n",
    "def detect_outliers_zscore(dataset):\n",
    "    thres = 3\n",
    "    mean = np.mean(dataset)\n",
    "    std = np.std(dataset)\n",
    "    # print(mean, std)\n",
    "    for i in dataset:\n",
    "        z_score = (i-mean)/std\n",
    "        if (np.abs(z_score) > thres):\n",
    "            outliers.append(i)\n",
    "    return outliers\n",
    "\n",
    "sample_outliers_X = detect_outliers_zscore(dataset['pH_level'])\n",
    "sample_outliers_Y = detect_outliers_zscore(dataset['Bicarbonates'])\n",
    "print(f\"Outliers in '{dataset.columns[0]}' column from Z-scores method: {len(sample_outliers_X)}\")\n",
    "print(f\"Outliers in '{dataset.columns[1]}' column from Z-scores method: {len(sample_outliers_Y)}\")"
   ]
  },
  {
   "cell_type": "markdown",
   "metadata": {},
   "source": [
    "# Data Split\n",
    "- 90:10\n",
    "- 90% training\n",
    "- 10% testing"
   ]
  },
  {
   "cell_type": "code",
   "execution_count": 16,
   "metadata": {},
   "outputs": [],
   "source": [
    "x = dataset['pH_level'].values.reshape(-1,1)\n",
    "y = dataset['Bicarbonates'].values.reshape(-1,1)\n",
    "x_train,x_test,y_train,y_test = train_test_split(x,y,test_size=0.1,random_state=0)"
   ]
  },
  {
   "cell_type": "code",
   "execution_count": 17,
   "metadata": {},
   "outputs": [
    {
     "name": "stdout",
     "output_type": "stream",
     "text": [
      "\n",
      "pH Level Shape (rows, columns): (34, 1)\n",
      "Bicarbonat Shape (rows, columns): (34, 1)\n",
      "\n",
      "pH Level(training data) shape: (30, 1)\n",
      "Bicarbonate(training data) shape: (30, 1)\n",
      "\n"
     ]
    },
    {
     "data": {
      "text/plain": [
       "<seaborn.axisgrid.PairGrid at 0x27502bf0df0>"
      ]
     },
     "execution_count": 17,
     "metadata": {},
     "output_type": "execute_result"
    },
    {
     "data": {
      "image/png": "[encoded data removed]",
      "text/plain": [
       "<Figure size 360x360 with 6 Axes>"
      ]
     },
     "metadata": {
      "needs_background": "light"
     },
     "output_type": "display_data"
    }
   ],
   "source": [
    "print(f\"\"\"\n",
    "pH Level Shape (rows, columns): {x.shape}\n",
    "Bicarbonat Shape (rows, columns): {x.shape}\n",
    "\n",
    "pH Level(training data) shape: {x_train.shape}\n",
    "Bicarbonate(training data) shape: {y_train.shape}\n",
    "\"\"\")\n",
    "sns.pairplot(dataset, diag_kind='kde')"
   ]
  },
  {
   "cell_type": "markdown",
   "metadata": {},
   "source": [
    "# Initializing SGDRegressor Parameters\n",
    "- 500000\n",
    "- tolerance = 0.0001\n",
    "- learning rate = 0.01"
   ]
  },
  {
   "cell_type": "code",
   "execution_count": 18,
   "metadata": {},
   "outputs": [
    {
     "data": {
      "text/plain": [
       "SGDRegressor(learning_rate='adaptive', max_iter=500000, n_iter_no_change=50000,\n",
       "             tol=0.0001)"
      ]
     },
     "execution_count": 18,
     "metadata": {},
     "output_type": "execute_result"
    }
   ],
   "source": [
    "sgd_reg = SGDRegressor(max_iter=500000,\n",
    "                       tol=0.0001,\n",
    "                       eta0=0.01,\n",
    "                       learning_rate='adaptive',\n",
    "                       n_iter_no_change=50000)\n",
    "sgd_reg.fit(x_train,y_train.ravel())"
   ]
  },
  {
   "cell_type": "code",
   "execution_count": 19,
   "metadata": {},
   "outputs": [
    {
     "name": "stdout",
     "output_type": "stream",
     "text": [
      "\n",
      "coeffecient: [-31.04911742]\n",
      "Intercept: [378.38458312]\n",
      "\n"
     ]
    }
   ],
   "source": [
    "print(f\"\"\"\n",
    "coeffecient: {sgd_reg.coef_}\n",
    "Intercept: {sgd_reg.intercept_}\n",
    "\"\"\")"
   ]
  },
  {
   "cell_type": "markdown",
   "metadata": {},
   "source": [
    "# Error Metrics of testing Data.\n",
    "- actual vs predicted"
   ]
  },
  {
   "cell_type": "code",
   "execution_count": 20,
   "metadata": {},
   "outputs": [
    {
     "name": "stdout",
     "output_type": "stream",
     "text": [
      "RMSE:  35.55430916751813\n",
      "RSE:  36.648543035885886\n",
      "R²: 0.1369429312536199\n"
     ]
    }
   ],
   "source": [
    "from math import sqrt\n",
    "num_data = x.shape[0]\n",
    "y_pred = sgd_reg.predict(x_test)\n",
    "mse = mean_squared_error(y_test, y_pred)\n",
    "rmse = sqrt(mse)\n",
    "rse = mse*num_data\n",
    "rse /= num_data-2\n",
    "rse = sqrt(rse)\n",
    "r2_score = sgd_reg.score(x_test,y_test)\n",
    "print('RMSE: ', rmse)\n",
    "print('RSE: ', rse)\n",
    "print('R²:' , sgd_reg.score(x_test,y_test))"
   ]
  },
  {
   "cell_type": "code",
   "execution_count": 21,
   "metadata": {},
   "outputs": [
    {
     "data": {
      "image/png": "[encoded data removed]",
      "text/plain": [
       "<Figure size 432x288 with 1 Axes>"
      ]
     },
     "metadata": {
      "needs_background": "light"
     },
     "output_type": "display_data"
    },
    {
     "data": {
      "image/png": "[encoded data removed]",
      "text/plain": [
       "<Figure size 432x288 with 2 Axes>"
      ]
     },
     "metadata": {
      "needs_background": "light"
     },
     "output_type": "display_data"
    },
    {
     "data": {
      "text/plain": [
       "<AxesSubplot:xlabel='pH_level', ylabel='Bicarbonates'>"
      ]
     },
     "execution_count": 21,
     "metadata": {},
     "output_type": "execute_result"
    },
    {
     "data": {
      "image/png": "[encoded data removed]",
      "text/plain": [
       "<Figure size 432x288 with 1 Axes>"
      ]
     },
     "metadata": {
      "needs_background": "light"
     },
     "output_type": "display_data"
    }
   ],
   "source": [
    "plt.scatter(x, y, color='g') # Scatter-plot of X & Y as in Step 3\n",
    "plt.xlabel('pH Level')\n",
    "plt.ylabel('Bicarbonates')\n",
    "x_ht_samples = np.linspace(x.min(), x.max(), num=50)\n",
    "y_ht_prediction = sgd_reg.predict(x_ht_samples.reshape(-1,1))\n",
    "plt.plot(x_ht_samples, y_ht_prediction, color='r', linewidth=3)\n",
    "plt.show()\n",
    "\n",
    "corr_matrix = dataset.corr()\n",
    "sns.heatmap(corr_matrix, annot = True)\n",
    "plt.show()\n",
    "sns.regplot(x = 'pH_level', y = 'Bicarbonates', data = dataset)"
   ]
  },
  {
   "cell_type": "markdown",
   "metadata": {},
   "source": [
    "# Training and Testing Scores"
   ]
  },
  {
   "cell_type": "code",
   "execution_count": 22,
   "metadata": {},
   "outputs": [
    {
     "name": "stdout",
     "output_type": "stream",
     "text": [
      "Training set score: 0.0768313721567484\n",
      "Test set score: 0.1369429312536199\n"
     ]
    }
   ],
   "source": [
    "print(\"Training set score:\",sgd_reg.score(x_train,y_train))\n",
    "print(\"Test set score:\",sgd_reg.score(x_test,y_test))"
   ]
  },
  {
   "cell_type": "markdown",
   "metadata": {},
   "source": [
    "# Model dumping and Deployment"
   ]
  },
  {
   "cell_type": "code",
   "execution_count": 23,
   "metadata": {},
   "outputs": [],
   "source": [
    "import pickle\n",
    "# Save the model\n",
    "filename = 'Assignment4_sgd.pkl'\n",
    "pickle.dump(sgd_reg, open(filename, 'wb'))"
   ]
  },
  {
   "cell_type": "code",
   "execution_count": 24,
   "metadata": {},
   "outputs": [
    {
     "name": "stdout",
     "output_type": "stream",
     "text": [
      "pH Level:  7.5\n",
      "Bicarbonates:  [145.51620245]\n"
     ]
    }
   ],
   "source": [
    "user_ip = float(input(\"Enter pH Level: \"))\n",
    "adv = np.array(float(user_ip))\n",
    "adv = adv.reshape(-1,1)\n",
    "sales=sgd_reg.predict(adv)\n",
    "print('pH Level: ',float(user_ip))\n",
    "print('Bicarbonates: ',sales)"
   ]
  },
  {
   "cell_type": "markdown",
   "metadata": {},
   "source": [
    "# Predicting using Saved Model"
   ]
  },
  {
   "cell_type": "code",
   "execution_count": 26,
   "metadata": {},
   "outputs": [
    {
     "name": "stdout",
     "output_type": "stream",
     "text": [
      "pH Level:  7.5\n",
      "Bicarbonates:  [145.51620245]\n"
     ]
    }
   ],
   "source": [
    "model = pickle.load(open('Assignment4_sgd.pkl', 'rb'))\n",
    "user_ip = float(input(\"Enter pH Level: \"))\n",
    "adv=np.array(float(user_ip))\n",
    "adv=adv.reshape(-1,1)\n",
    "prediction = model.predict(adv)\n",
    "result = prediction[0]\n",
    "print('pH Level: ',float(user_ip))\n",
    "print('Bicarbonates: ',sales)"
   ]
  },
  {
   "cell_type": "code",
   "execution_count": null,
   "metadata": {},
   "outputs": [],
   "source": []
  }
 ],
 "metadata": {
  "interpreter": {
   "hash": "b3ba2566441a7c06988d0923437866b63cedc61552a5af99d1f4fb67d367b25f"
  },
  "kernelspec": {
   "display_name": "Python 3",
   "language": "python",
   "name": "python3"
  },
  "language_info": {
   "codemirror_mode": {
    "name": "ipython",
    "version": 3
   },
   "file_extension": ".py",
   "mimetype": "text/x-python",
   "name": "python",
   "nbconvert_exporter": "python",
   "pygments_lexer": "ipython3",
   "version": "3.8.8"
  }
 },
 "nbformat": 4,
 "nbformat_minor": 2
}
