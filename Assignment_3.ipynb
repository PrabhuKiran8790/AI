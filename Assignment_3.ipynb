{
  "nbformat": 4,
  "nbformat_minor": 0,
  "metadata": {
    "colab": {
      "name": "Assignment_3.ipynb",
      "provenance": [],
      "collapsed_sections": [],
      "authorship_tag": "ABX9TyOf/cNXRb6GRVwgtCq/5se5",
      "include_colab_link": true
    },
    "kernelspec": {
      "name": "python3",
      "display_name": "Python 3"
    },
    "language_info": {
      "name": "python"
    }
  },
  "cells": [
    {
      "cell_type": "markdown",
      "metadata": {
        "id": "view-in-github",
        "colab_type": "text"
      },
      "source": [
        "<a href=\"https://colab.research.google.com/github/PrabhuKiran8790/AI/blob/main/Assignment_3.ipynb\" target=\"_parent\"><img src=\"https://colab.research.google.com/assets/colab-badge.svg\" alt=\"Open In Colab\"/></a>"
      ]
    },
    {
      "cell_type": "markdown",
      "metadata": {
        "id": "6eVpOva072iH"
      },
      "source": [
        "# Assignment 3\n",
        "<code>Prabhu Kiran<br>20K45A0215<br><a href = \"https://github.com/Prabhukiran8790/AI\">Github Link</a></code>\n",
        "<h4> Finding global minimum of the given function <h4> ${f(x, y) = 3x^2 + 5e^{-y} + 10}$ </h4> <h4> and finding the optimal solution using <b>Gradient Descent Algorithim</b> </h4>"
      ]
    },
    {
      "cell_type": "code",
      "metadata": {
        "colab": {
          "base_uri": "https://localhost:8080/"
        },
        "id": "y6rI4iPOZKko",
        "outputId": "b4bee34e-0b10-4508-a87e-36364f308769"
      },
      "source": [
        "from math import exp\n",
        "import numpy as np\n",
        "\n",
        "# Initializing the parameters\n",
        "x = np.random.uniform(-10, 10)\n",
        "y = np.random.uniform(-10, 10)\n",
        "learning_rate = 0.152  \n",
        "\n",
        "steps = 0\n",
        "max_steps = 1000   # taking more than 1000 steps to find the minimum value is prohibited.\n",
        "pre_step_size_x = 1\n",
        "pre_step_size_y = 1\n",
        "\n",
        "print(f\"Initial values of\\nx = {x}\\ny = {y}\")\n",
        "\n",
        "function = lambda x, y: 3*x**2 + 5*exp(-y) + 10 \n",
        "grad_x = lambda x: 6*x          # Gradient of the function\n",
        "grad_y = lambda y: -5*exp(-y)\n",
        "\n",
        "# iterating till the x value reaches minimum possible value.\n",
        "while pre_step_size_x or pre_step_size_y  > 0.0000001 and steps < max_steps:\n",
        "    previous_x = x\n",
        "    previous_y = y\n",
        "    x = x - learning_rate * grad_x(previous_x)\n",
        "    y = y - learning_rate * grad_y(previous_y)\n",
        "    pre_step_size_x = abs(x - previous_x)\n",
        "    pre_step_size_y = abs(y - previous_y)\n",
        "    steps += 1\n",
        "\n",
        "print(f\"\\nThe Local minumum / Global minimum occurs at:\\nx = {round(x)}\\ny = {round(y)}\\n\")\n",
        "print(f\"steps taken : {steps}\")\n",
        "print(f\"\\nObjective function value = {round(function(x, y))}\")"
      ],
      "execution_count": 2,
      "outputs": [
        {
          "output_type": "stream",
          "name": "stdout",
          "text": [
            "Initial values of\n",
            "x = -1.9304922778353237\n",
            "y = -4.0444297296889715\n",
            "\n",
            "The Local minumum / Global minimum occurs at:\n",
            "x = 0\n",
            "y = 39\n",
            "\n",
            "steps taken : 308\n",
            "\n",
            "Objective function value = 10\n"
          ]
        }
      ]
    },
    {
      "cell_type": "markdown",
      "metadata": {
        "id": "yDoDT4T8P94V"
      },
      "source": [
        "# Manual Calculations"
      ]
    },
    {
      "cell_type": "markdown",
      "metadata": {
        "id": "HHoIzF2PBM7d"
      },
      "source": [
        "![Manual Calculations](https://raw.githubusercontent.com/PrabhuKiran8790/AI/main/src/images/assignment%203%20manual%20calculations.PNG)"
      ]
    }
  ]
}