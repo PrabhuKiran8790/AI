{
 "cells": [
  {
   "cell_type": "code",
   "execution_count": 1,
   "metadata": {},
   "outputs": [],
   "source": [
    "import pandas as pd\n",
    "import seaborn as sns\n",
    "import matplotlib.pyplot as plt"
   ]
  },
  {
   "cell_type": "code",
   "execution_count": 4,
   "metadata": {},
   "outputs": [
    {
     "data": {
      "text/html": [
       "<div><div id=0b7d032e-d197-461f-ba27-62def7865220 style=\"display:none; background-color:#9D6CFF; color:white; width:200px; height:30px; padding-left:5px; border-radius:4px; flex-direction:row; justify-content:space-around; align-items:center;\" onmouseover=\"this.style.backgroundColor='#BA9BF8'\" onmouseout=\"this.style.backgroundColor='#9D6CFF'\" onclick=\"window.commands?.execute('create-mitosheet-from-dataframe-output');\">See Full Dataframe in Mito</div> <script> if (window.commands.hasCommand('create-mitosheet-from-dataframe-output')) document.getElementById('0b7d032e-d197-461f-ba27-62def7865220').style.display = 'flex' </script> <table border=\"1\" class=\"dataframe\">\n",
       "  <thead>\n",
       "    <tr style=\"text-align: right;\">\n",
       "      <th></th>\n",
       "      <th>ResponseId</th>\n",
       "      <th>MainBranch</th>\n",
       "      <th>Employment</th>\n",
       "      <th>Country</th>\n",
       "      <th>US_State</th>\n",
       "      <th>UK_Country</th>\n",
       "      <th>EdLevel</th>\n",
       "      <th>Age1stCode</th>\n",
       "      <th>LearnCode</th>\n",
       "      <th>YearsCode</th>\n",
       "      <th>YearsCodePro</th>\n",
       "      <th>DevType</th>\n",
       "      <th>OrgSize</th>\n",
       "      <th>Currency</th>\n",
       "      <th>CompTotal</th>\n",
       "      <th>CompFreq</th>\n",
       "      <th>LanguageHaveWorkedWith</th>\n",
       "      <th>LanguageWantToWorkWith</th>\n",
       "      <th>DatabaseHaveWorkedWith</th>\n",
       "      <th>DatabaseWantToWorkWith</th>\n",
       "      <th>PlatformHaveWorkedWith</th>\n",
       "      <th>PlatformWantToWorkWith</th>\n",
       "      <th>WebframeHaveWorkedWith</th>\n",
       "      <th>WebframeWantToWorkWith</th>\n",
       "      <th>MiscTechHaveWorkedWith</th>\n",
       "      <th>MiscTechWantToWorkWith</th>\n",
       "      <th>ToolsTechHaveWorkedWith</th>\n",
       "      <th>ToolsTechWantToWorkWith</th>\n",
       "      <th>NEWCollabToolsHaveWorkedWith</th>\n",
       "      <th>NEWCollabToolsWantToWorkWith</th>\n",
       "      <th>OpSys</th>\n",
       "      <th>NEWStuck</th>\n",
       "      <th>NEWSOSites</th>\n",
       "      <th>SOVisitFreq</th>\n",
       "      <th>SOAccount</th>\n",
       "      <th>SOPartFreq</th>\n",
       "      <th>SOComm</th>\n",
       "      <th>NEWOtherComms</th>\n",
       "      <th>Age</th>\n",
       "      <th>Gender</th>\n",
       "      <th>Trans</th>\n",
       "      <th>Sexuality</th>\n",
       "      <th>Ethnicity</th>\n",
       "      <th>Accessibility</th>\n",
       "      <th>MentalHealth</th>\n",
       "      <th>SurveyLength</th>\n",
       "      <th>SurveyEase</th>\n",
       "      <th>ConvertedCompYearly</th>\n",
       "    </tr>\n",
       "  </thead>\n",
       "  <tbody>\n",
       "    <tr>\n",
       "      <th>0</th>\n",
       "      <td>1</td>\n",
       "      <td>I am a developer by profession</td>\n",
       "      <td>Independent contractor, freelancer, or self-employed</td>\n",
       "      <td>Slovakia</td>\n",
       "      <td>NaN</td>\n",
       "      <td>NaN</td>\n",
       "      <td>Secondary school (e.g. American high school, German Realschule or Gymnasium, etc.)</td>\n",
       "      <td>18 - 24 years</td>\n",
       "      <td>Coding Bootcamp;Other online resources (ex: videos, blogs, etc)</td>\n",
       "      <td>NaN</td>\n",
       "      <td>NaN</td>\n",
       "      <td>Developer, mobile</td>\n",
       "      <td>20 to 99 employees</td>\n",
       "      <td>EUR European Euro</td>\n",
       "      <td>4800.0</td>\n",
       "      <td>Monthly</td>\n",
       "      <td>C++;HTML/CSS;JavaScript;Objective-C;PHP;Swift</td>\n",
       "      <td>Swift</td>\n",
       "      <td>PostgreSQL;SQLite</td>\n",
       "      <td>SQLite</td>\n",
       "      <td>NaN</td>\n",
       "      <td>NaN</td>\n",
       "      <td>Laravel;Symfony</td>\n",
       "      <td>NaN</td>\n",
       "      <td>NaN</td>\n",
       "      <td>NaN</td>\n",
       "      <td>NaN</td>\n",
       "      <td>NaN</td>\n",
       "      <td>PHPStorm;Xcode</td>\n",
       "      <td>Atom;Xcode</td>\n",
       "      <td>MacOS</td>\n",
       "      <td>Call a coworker or friend;Visit Stack Overflow;Go for a walk or other physical activity;Google it</td>\n",
       "      <td>Stack Overflow</td>\n",
       "      <td>Multiple times per day</td>\n",
       "      <td>Yes</td>\n",
       "      <td>A few times per month or weekly</td>\n",
       "      <td>Yes, definitely</td>\n",
       "      <td>No</td>\n",
       "      <td>25-34 years old</td>\n",
       "      <td>Man</td>\n",
       "      <td>No</td>\n",
       "      <td>Straight / Heterosexual</td>\n",
       "      <td>White or of European descent</td>\n",
       "      <td>None of the above</td>\n",
       "      <td>None of the above</td>\n",
       "      <td>Appropriate in length</td>\n",
       "      <td>Easy</td>\n",
       "      <td>62268.0</td>\n",
       "    </tr>\n",
       "    <tr>\n",
       "      <th>1</th>\n",
       "      <td>2</td>\n",
       "      <td>I am a student who is learning to code</td>\n",
       "      <td>Student, full-time</td>\n",
       "      <td>Netherlands</td>\n",
       "      <td>NaN</td>\n",
       "      <td>NaN</td>\n",
       "      <td>Bachelor’s degree (B.A., B.S., B.Eng., etc.)</td>\n",
       "      <td>11 - 17 years</td>\n",
       "      <td>Other online resources (ex: videos, blogs, etc);School</td>\n",
       "      <td>7</td>\n",
       "      <td>NaN</td>\n",
       "      <td>NaN</td>\n",
       "      <td>NaN</td>\n",
       "      <td>NaN</td>\n",
       "      <td>NaN</td>\n",
       "      <td>NaN</td>\n",
       "      <td>JavaScript;Python</td>\n",
       "      <td>NaN</td>\n",
       "      <td>PostgreSQL</td>\n",
       "      <td>NaN</td>\n",
       "      <td>NaN</td>\n",
       "      <td>NaN</td>\n",
       "      <td>Angular;Flask;Vue.js</td>\n",
       "      <td>NaN</td>\n",
       "      <td>Cordova</td>\n",
       "      <td>NaN</td>\n",
       "      <td>Docker;Git;Yarn</td>\n",
       "      <td>Git</td>\n",
       "      <td>Android Studio;IntelliJ;Notepad++;PyCharm</td>\n",
       "      <td>NaN</td>\n",
       "      <td>Windows</td>\n",
       "      <td>Visit Stack Overflow;Google it</td>\n",
       "      <td>Stack Overflow</td>\n",
       "      <td>Daily or almost daily</td>\n",
       "      <td>Yes</td>\n",
       "      <td>Daily or almost daily</td>\n",
       "      <td>Yes, definitely</td>\n",
       "      <td>No</td>\n",
       "      <td>18-24 years old</td>\n",
       "      <td>Man</td>\n",
       "      <td>No</td>\n",
       "      <td>Straight / Heterosexual</td>\n",
       "      <td>White or of European descent</td>\n",
       "      <td>None of the above</td>\n",
       "      <td>None of the above</td>\n",
       "      <td>Appropriate in length</td>\n",
       "      <td>Easy</td>\n",
       "      <td>NaN</td>\n",
       "    </tr>\n",
       "    <tr>\n",
       "      <th>2</th>\n",
       "      <td>3</td>\n",
       "      <td>I am not primarily a developer, but I write code sometimes as part of my work</td>\n",
       "      <td>Student, full-time</td>\n",
       "      <td>Russian Federation</td>\n",
       "      <td>NaN</td>\n",
       "      <td>NaN</td>\n",
       "      <td>Bachelor’s degree (B.A., B.S., B.Eng., etc.)</td>\n",
       "      <td>11 - 17 years</td>\n",
       "      <td>Other online resources (ex: videos, blogs, etc);Online Forum</td>\n",
       "      <td>NaN</td>\n",
       "      <td>NaN</td>\n",
       "      <td>NaN</td>\n",
       "      <td>NaN</td>\n",
       "      <td>NaN</td>\n",
       "      <td>NaN</td>\n",
       "      <td>NaN</td>\n",
       "      <td>Assembly;C;Python;R;Rust</td>\n",
       "      <td>Julia;Python;Rust</td>\n",
       "      <td>SQLite</td>\n",
       "      <td>SQLite</td>\n",
       "      <td>Heroku</td>\n",
       "      <td>NaN</td>\n",
       "      <td>Flask</td>\n",
       "      <td>Flask</td>\n",
       "      <td>NumPy;Pandas;TensorFlow;Torch/PyTorch</td>\n",
       "      <td>Keras;NumPy;Pandas;TensorFlow;Torch/PyTorch</td>\n",
       "      <td>NaN</td>\n",
       "      <td>NaN</td>\n",
       "      <td>IPython/Jupyter;PyCharm;RStudio;Sublime Text;Visual Studio Code</td>\n",
       "      <td>IPython/Jupyter;RStudio;Sublime Text;Visual Studio Code</td>\n",
       "      <td>MacOS</td>\n",
       "      <td>Visit Stack Overflow;Google it;Watch help / tutorial videos;Do other work and come back later</td>\n",
       "      <td>Stack Overflow;Stack Exchange</td>\n",
       "      <td>Multiple times per day</td>\n",
       "      <td>Yes</td>\n",
       "      <td>Multiple times per day</td>\n",
       "      <td>Yes, definitely</td>\n",
       "      <td>Yes</td>\n",
       "      <td>18-24 years old</td>\n",
       "      <td>Man</td>\n",
       "      <td>No</td>\n",
       "      <td>Prefer not to say</td>\n",
       "      <td>Prefer not to say</td>\n",
       "      <td>None of the above</td>\n",
       "      <td>None of the above</td>\n",
       "      <td>Appropriate in length</td>\n",
       "      <td>Easy</td>\n",
       "      <td>NaN</td>\n",
       "    </tr>\n",
       "    <tr>\n",
       "      <th>3</th>\n",
       "      <td>4</td>\n",
       "      <td>I am a developer by profession</td>\n",
       "      <td>Employed full-time</td>\n",
       "      <td>Austria</td>\n",
       "      <td>NaN</td>\n",
       "      <td>NaN</td>\n",
       "      <td>Master’s degree (M.A., M.S., M.Eng., MBA, etc.)</td>\n",
       "      <td>11 - 17 years</td>\n",
       "      <td>NaN</td>\n",
       "      <td>NaN</td>\n",
       "      <td>NaN</td>\n",
       "      <td>Developer, front-end</td>\n",
       "      <td>100 to 499 employees</td>\n",
       "      <td>EUR European Euro</td>\n",
       "      <td>NaN</td>\n",
       "      <td>Monthly</td>\n",
       "      <td>JavaScript;TypeScript</td>\n",
       "      <td>JavaScript;TypeScript</td>\n",
       "      <td>NaN</td>\n",
       "      <td>NaN</td>\n",
       "      <td>NaN</td>\n",
       "      <td>NaN</td>\n",
       "      <td>Angular;jQuery</td>\n",
       "      <td>Angular;jQuery</td>\n",
       "      <td>NaN</td>\n",
       "      <td>NaN</td>\n",
       "      <td>NaN</td>\n",
       "      <td>NaN</td>\n",
       "      <td>NaN</td>\n",
       "      <td>NaN</td>\n",
       "      <td>Windows</td>\n",
       "      <td>Call a coworker or friend;Visit Stack Overflow;Go for a walk or other physical activity;Google it</td>\n",
       "      <td>Stack Overflow</td>\n",
       "      <td>Daily or almost daily</td>\n",
       "      <td>Yes</td>\n",
       "      <td>Daily or almost daily</td>\n",
       "      <td>Neutral</td>\n",
       "      <td>No</td>\n",
       "      <td>35-44 years old</td>\n",
       "      <td>Man</td>\n",
       "      <td>No</td>\n",
       "      <td>Straight / Heterosexual</td>\n",
       "      <td>White or of European descent</td>\n",
       "      <td>I am deaf / hard of hearing</td>\n",
       "      <td>NaN</td>\n",
       "      <td>Appropriate in length</td>\n",
       "      <td>Neither easy nor difficult</td>\n",
       "      <td>NaN</td>\n",
       "    </tr>\n",
       "    <tr>\n",
       "      <th>4</th>\n",
       "      <td>5</td>\n",
       "      <td>I am a developer by profession</td>\n",
       "      <td>Independent contractor, freelancer, or self-employed</td>\n",
       "      <td>United Kingdom</td>\n",
       "      <td>NaN</td>\n",
       "      <td>England</td>\n",
       "      <td>Master’s degree (M.A., M.S., M.Eng., MBA, etc.)</td>\n",
       "      <td>5 - 10 years</td>\n",
       "      <td>Friend or family member</td>\n",
       "      <td>17</td>\n",
       "      <td>10</td>\n",
       "      <td>Developer, desktop or enterprise applications;Developer, full-stack;Engineer, data;Other (please specify):</td>\n",
       "      <td>Just me - I am a freelancer, sole proprietor, etc.</td>\n",
       "      <td>GBP\\tPound sterling</td>\n",
       "      <td>NaN</td>\n",
       "      <td>NaN</td>\n",
       "      <td>Bash/Shell;HTML/CSS;Python;SQL</td>\n",
       "      <td>Bash/Shell;HTML/CSS;Python;SQL</td>\n",
       "      <td>Elasticsearch;PostgreSQL;Redis</td>\n",
       "      <td>Cassandra;Elasticsearch;PostgreSQL;Redis</td>\n",
       "      <td>NaN</td>\n",
       "      <td>NaN</td>\n",
       "      <td>Flask</td>\n",
       "      <td>Flask</td>\n",
       "      <td>Apache Spark;Hadoop;NumPy;Pandas</td>\n",
       "      <td>Hadoop;NumPy;Pandas</td>\n",
       "      <td>Docker;Git;Kubernetes;Yarn</td>\n",
       "      <td>Docker;Git;Kubernetes;Yarn</td>\n",
       "      <td>Atom;IPython/Jupyter;Notepad++;PyCharm;Vim</td>\n",
       "      <td>Atom;IPython/Jupyter;Notepad++;PyCharm;Vim;Visual Studio Code</td>\n",
       "      <td>Linux-based</td>\n",
       "      <td>Visit Stack Overflow;Go for a walk or other physical activity;Google it;Watch help / tutorial videos;Do other work and come back later</td>\n",
       "      <td>Stack Overflow;Stack Exchange</td>\n",
       "      <td>Daily or almost daily</td>\n",
       "      <td>Yes</td>\n",
       "      <td>A few times per week</td>\n",
       "      <td>Yes, somewhat</td>\n",
       "      <td>No</td>\n",
       "      <td>25-34 years old</td>\n",
       "      <td>Man</td>\n",
       "      <td>No</td>\n",
       "      <td>NaN</td>\n",
       "      <td>White or of European descent</td>\n",
       "      <td>None of the above</td>\n",
       "      <td>NaN</td>\n",
       "      <td>Appropriate in length</td>\n",
       "      <td>Easy</td>\n",
       "      <td>NaN</td>\n",
       "    </tr>\n",
       "  </tbody>\n",
       "</table></div>"
      ],
      "text/plain": [
       "   ResponseId                                         MainBranch  \\\n",
       "0           1                     I am a developer by profession   \n",
       "1           2             I am a student who is learning to code   \n",
       "2           3  I am not primarily a developer, but I write co...   \n",
       "3           4                     I am a developer by profession   \n",
       "4           5                     I am a developer by profession   \n",
       "\n",
       "                                          Employment             Country  \\\n",
       "0  Independent contractor, freelancer, or self-em...            Slovakia   \n",
       "1                                 Student, full-time         Netherlands   \n",
       "2                                 Student, full-time  Russian Federation   \n",
       "3                                 Employed full-time             Austria   \n",
       "4  Independent contractor, freelancer, or self-em...      United Kingdom   \n",
       "\n",
       "  US_State UK_Country                                            EdLevel  \\\n",
       "0      NaN        NaN  Secondary school (e.g. American high school, G...   \n",
       "1      NaN        NaN       Bachelor’s degree (B.A., B.S., B.Eng., etc.)   \n",
       "2      NaN        NaN       Bachelor’s degree (B.A., B.S., B.Eng., etc.)   \n",
       "3      NaN        NaN    Master’s degree (M.A., M.S., M.Eng., MBA, etc.)   \n",
       "4      NaN    England    Master’s degree (M.A., M.S., M.Eng., MBA, etc.)   \n",
       "\n",
       "      Age1stCode                                          LearnCode YearsCode  \\\n",
       "0  18 - 24 years  Coding Bootcamp;Other online resources (ex: vi...       NaN   \n",
       "1  11 - 17 years  Other online resources (ex: videos, blogs, etc...         7   \n",
       "2  11 - 17 years  Other online resources (ex: videos, blogs, etc...       NaN   \n",
       "3  11 - 17 years                                                NaN       NaN   \n",
       "4   5 - 10 years                            Friend or family member        17   \n",
       "\n",
       "  YearsCodePro                                            DevType  \\\n",
       "0          NaN                                  Developer, mobile   \n",
       "1          NaN                                                NaN   \n",
       "2          NaN                                                NaN   \n",
       "3          NaN                               Developer, front-end   \n",
       "4           10  Developer, desktop or enterprise applications;...   \n",
       "\n",
       "                                             OrgSize             Currency  \\\n",
       "0                                 20 to 99 employees    EUR European Euro   \n",
       "1                                                NaN                  NaN   \n",
       "2                                                NaN                  NaN   \n",
       "3                               100 to 499 employees    EUR European Euro   \n",
       "4  Just me - I am a freelancer, sole proprietor, ...  GBP\\tPound sterling   \n",
       "\n",
       "   CompTotal CompFreq                         LanguageHaveWorkedWith  \\\n",
       "0     4800.0  Monthly  C++;HTML/CSS;JavaScript;Objective-C;PHP;Swift   \n",
       "1        NaN      NaN                              JavaScript;Python   \n",
       "2        NaN      NaN                       Assembly;C;Python;R;Rust   \n",
       "3        NaN  Monthly                          JavaScript;TypeScript   \n",
       "4        NaN      NaN                 Bash/Shell;HTML/CSS;Python;SQL   \n",
       "\n",
       "           LanguageWantToWorkWith          DatabaseHaveWorkedWith  \\\n",
       "0                           Swift               PostgreSQL;SQLite   \n",
       "1                             NaN                      PostgreSQL   \n",
       "2               Julia;Python;Rust                          SQLite   \n",
       "3           JavaScript;TypeScript                             NaN   \n",
       "4  Bash/Shell;HTML/CSS;Python;SQL  Elasticsearch;PostgreSQL;Redis   \n",
       "\n",
       "                     DatabaseWantToWorkWith PlatformHaveWorkedWith  \\\n",
       "0                                    SQLite                    NaN   \n",
       "1                                       NaN                    NaN   \n",
       "2                                    SQLite                 Heroku   \n",
       "3                                       NaN                    NaN   \n",
       "4  Cassandra;Elasticsearch;PostgreSQL;Redis                    NaN   \n",
       "\n",
       "  PlatformWantToWorkWith WebframeHaveWorkedWith WebframeWantToWorkWith  \\\n",
       "0                    NaN        Laravel;Symfony                    NaN   \n",
       "1                    NaN   Angular;Flask;Vue.js                    NaN   \n",
       "2                    NaN                  Flask                  Flask   \n",
       "3                    NaN         Angular;jQuery         Angular;jQuery   \n",
       "4                    NaN                  Flask                  Flask   \n",
       "\n",
       "                  MiscTechHaveWorkedWith  \\\n",
       "0                                    NaN   \n",
       "1                                Cordova   \n",
       "2  NumPy;Pandas;TensorFlow;Torch/PyTorch   \n",
       "3                                    NaN   \n",
       "4       Apache Spark;Hadoop;NumPy;Pandas   \n",
       "\n",
       "                        MiscTechWantToWorkWith     ToolsTechHaveWorkedWith  \\\n",
       "0                                          NaN                         NaN   \n",
       "1                                          NaN             Docker;Git;Yarn   \n",
       "2  Keras;NumPy;Pandas;TensorFlow;Torch/PyTorch                         NaN   \n",
       "3                                          NaN                         NaN   \n",
       "4                          Hadoop;NumPy;Pandas  Docker;Git;Kubernetes;Yarn   \n",
       "\n",
       "      ToolsTechWantToWorkWith  \\\n",
       "0                         NaN   \n",
       "1                         Git   \n",
       "2                         NaN   \n",
       "3                         NaN   \n",
       "4  Docker;Git;Kubernetes;Yarn   \n",
       "\n",
       "                        NEWCollabToolsHaveWorkedWith  \\\n",
       "0                                     PHPStorm;Xcode   \n",
       "1          Android Studio;IntelliJ;Notepad++;PyCharm   \n",
       "2  IPython/Jupyter;PyCharm;RStudio;Sublime Text;V...   \n",
       "3                                                NaN   \n",
       "4         Atom;IPython/Jupyter;Notepad++;PyCharm;Vim   \n",
       "\n",
       "                        NEWCollabToolsWantToWorkWith        OpSys  \\\n",
       "0                                         Atom;Xcode        MacOS   \n",
       "1                                                NaN      Windows   \n",
       "2  IPython/Jupyter;RStudio;Sublime Text;Visual St...        MacOS   \n",
       "3                                                NaN      Windows   \n",
       "4  Atom;IPython/Jupyter;Notepad++;PyCharm;Vim;Vis...  Linux-based   \n",
       "\n",
       "                                            NEWStuck  \\\n",
       "0  Call a coworker or friend;Visit Stack Overflow...   \n",
       "1                     Visit Stack Overflow;Google it   \n",
       "2  Visit Stack Overflow;Google it;Watch help / tu...   \n",
       "3  Call a coworker or friend;Visit Stack Overflow...   \n",
       "4  Visit Stack Overflow;Go for a walk or other ph...   \n",
       "\n",
       "                      NEWSOSites             SOVisitFreq SOAccount  \\\n",
       "0                 Stack Overflow  Multiple times per day       Yes   \n",
       "1                 Stack Overflow   Daily or almost daily       Yes   \n",
       "2  Stack Overflow;Stack Exchange  Multiple times per day       Yes   \n",
       "3                 Stack Overflow   Daily or almost daily       Yes   \n",
       "4  Stack Overflow;Stack Exchange   Daily or almost daily       Yes   \n",
       "\n",
       "                        SOPartFreq           SOComm NEWOtherComms  \\\n",
       "0  A few times per month or weekly  Yes, definitely            No   \n",
       "1            Daily or almost daily  Yes, definitely            No   \n",
       "2           Multiple times per day  Yes, definitely           Yes   \n",
       "3            Daily or almost daily          Neutral            No   \n",
       "4             A few times per week    Yes, somewhat            No   \n",
       "\n",
       "               Age Gender Trans                Sexuality  \\\n",
       "0  25-34 years old    Man    No  Straight / Heterosexual   \n",
       "1  18-24 years old    Man    No  Straight / Heterosexual   \n",
       "2  18-24 years old    Man    No        Prefer not to say   \n",
       "3  35-44 years old    Man    No  Straight / Heterosexual   \n",
       "4  25-34 years old    Man    No                      NaN   \n",
       "\n",
       "                      Ethnicity                Accessibility  \\\n",
       "0  White or of European descent            None of the above   \n",
       "1  White or of European descent            None of the above   \n",
       "2             Prefer not to say            None of the above   \n",
       "3  White or of European descent  I am deaf / hard of hearing   \n",
       "4  White or of European descent            None of the above   \n",
       "\n",
       "        MentalHealth           SurveyLength                  SurveyEase  \\\n",
       "0  None of the above  Appropriate in length                        Easy   \n",
       "1  None of the above  Appropriate in length                        Easy   \n",
       "2  None of the above  Appropriate in length                        Easy   \n",
       "3                NaN  Appropriate in length  Neither easy nor difficult   \n",
       "4                NaN  Appropriate in length                        Easy   \n",
       "\n",
       "   ConvertedCompYearly  \n",
       "0              62268.0  \n",
       "1                  NaN  \n",
       "2                  NaN  \n",
       "3                  NaN  \n",
       "4                  NaN  "
      ]
     },
     "execution_count": 4,
     "metadata": {},
     "output_type": "execute_result"
    }
   ],
   "source": [
    "df = pd.read_csv(\"C:/Users/Sherlock/Desktop/AI_Capstone_Project/survey_results_public.csv\")\n",
    "pd.set_option('display.max_columns', None) # for displaying all columns\n",
    "df.head()"
   ]
  },
  {
   "cell_type": "code",
   "execution_count": 5,
   "metadata": {},
   "outputs": [],
   "source": [
    "df = df[[\"Country\",\n",
    "         \"EdLevel\",\n",
    "         \"YearsCodePro\",\n",
    "         \"Employment\",\n",
    "         \"ConvertedCompYearly\",\n",
    "         \"DevType\",\n",
    "         \"LanguageHaveWorkedWith\",\n",
    "         \"MiscTechHaveWorkedWith\",\n",
    "         \"WebframeHaveWorkedWith\"]]"
   ]
  },
  {
   "cell_type": "code",
   "execution_count": 6,
   "metadata": {},
   "outputs": [
    {
     "data": {
      "text/html": [
       "<div><div id=00793747-1557-44b0-97cb-b6a7ce4c0bf7 style=\"display:none; background-color:#9D6CFF; color:white; width:200px; height:30px; padding-left:5px; border-radius:4px; flex-direction:row; justify-content:space-around; align-items:center;\" onmouseover=\"this.style.backgroundColor='#BA9BF8'\" onmouseout=\"this.style.backgroundColor='#9D6CFF'\" onclick=\"window.commands?.execute('create-mitosheet-from-dataframe-output');\">See Full Dataframe in Mito</div> <script> if (window.commands.hasCommand('create-mitosheet-from-dataframe-output')) document.getElementById('00793747-1557-44b0-97cb-b6a7ce4c0bf7').style.display = 'flex' </script> <table border=\"1\" class=\"dataframe\">\n",
       "  <thead>\n",
       "    <tr style=\"text-align: right;\">\n",
       "      <th></th>\n",
       "      <th>Country</th>\n",
       "      <th>EdLevel</th>\n",
       "      <th>YearsCodePro</th>\n",
       "      <th>Employment</th>\n",
       "      <th>Salary</th>\n",
       "      <th>DevType</th>\n",
       "      <th>LanguageHaveWorkedWith</th>\n",
       "      <th>MiscTechHaveWorkedWith</th>\n",
       "      <th>WebframeHaveWorkedWith</th>\n",
       "    </tr>\n",
       "  </thead>\n",
       "  <tbody>\n",
       "    <tr>\n",
       "      <th>0</th>\n",
       "      <td>Slovakia</td>\n",
       "      <td>Secondary school (e.g. American high school, German Realschule or Gymnasium, etc.)</td>\n",
       "      <td>NaN</td>\n",
       "      <td>Independent contractor, freelancer, or self-employed</td>\n",
       "      <td>62268.0</td>\n",
       "      <td>Developer, mobile</td>\n",
       "      <td>C++;HTML/CSS;JavaScript;Objective-C;PHP;Swift</td>\n",
       "      <td>NaN</td>\n",
       "      <td>Laravel;Symfony</td>\n",
       "    </tr>\n",
       "    <tr>\n",
       "      <th>1</th>\n",
       "      <td>Netherlands</td>\n",
       "      <td>Bachelor’s degree (B.A., B.S., B.Eng., etc.)</td>\n",
       "      <td>NaN</td>\n",
       "      <td>Student, full-time</td>\n",
       "      <td>NaN</td>\n",
       "      <td>NaN</td>\n",
       "      <td>JavaScript;Python</td>\n",
       "      <td>Cordova</td>\n",
       "      <td>Angular;Flask;Vue.js</td>\n",
       "    </tr>\n",
       "    <tr>\n",
       "      <th>2</th>\n",
       "      <td>Russian Federation</td>\n",
       "      <td>Bachelor’s degree (B.A., B.S., B.Eng., etc.)</td>\n",
       "      <td>NaN</td>\n",
       "      <td>Student, full-time</td>\n",
       "      <td>NaN</td>\n",
       "      <td>NaN</td>\n",
       "      <td>Assembly;C;Python;R;Rust</td>\n",
       "      <td>NumPy;Pandas;TensorFlow;Torch/PyTorch</td>\n",
       "      <td>Flask</td>\n",
       "    </tr>\n",
       "    <tr>\n",
       "      <th>3</th>\n",
       "      <td>Austria</td>\n",
       "      <td>Master’s degree (M.A., M.S., M.Eng., MBA, etc.)</td>\n",
       "      <td>NaN</td>\n",
       "      <td>Employed full-time</td>\n",
       "      <td>NaN</td>\n",
       "      <td>Developer, front-end</td>\n",
       "      <td>JavaScript;TypeScript</td>\n",
       "      <td>NaN</td>\n",
       "      <td>Angular;jQuery</td>\n",
       "    </tr>\n",
       "    <tr>\n",
       "      <th>4</th>\n",
       "      <td>United Kingdom</td>\n",
       "      <td>Master’s degree (M.A., M.S., M.Eng., MBA, etc.)</td>\n",
       "      <td>10</td>\n",
       "      <td>Independent contractor, freelancer, or self-employed</td>\n",
       "      <td>NaN</td>\n",
       "      <td>Developer, desktop or enterprise applications;Developer, full-stack;Engineer, data;Other (please specify):</td>\n",
       "      <td>Bash/Shell;HTML/CSS;Python;SQL</td>\n",
       "      <td>Apache Spark;Hadoop;NumPy;Pandas</td>\n",
       "      <td>Flask</td>\n",
       "    </tr>\n",
       "  </tbody>\n",
       "</table></div>"
      ],
      "text/plain": [
       "              Country                                            EdLevel  \\\n",
       "0            Slovakia  Secondary school (e.g. American high school, G...   \n",
       "1         Netherlands       Bachelor’s degree (B.A., B.S., B.Eng., etc.)   \n",
       "2  Russian Federation       Bachelor’s degree (B.A., B.S., B.Eng., etc.)   \n",
       "3             Austria    Master’s degree (M.A., M.S., M.Eng., MBA, etc.)   \n",
       "4      United Kingdom    Master’s degree (M.A., M.S., M.Eng., MBA, etc.)   \n",
       "\n",
       "  YearsCodePro                                         Employment   Salary  \\\n",
       "0          NaN  Independent contractor, freelancer, or self-em...  62268.0   \n",
       "1          NaN                                 Student, full-time      NaN   \n",
       "2          NaN                                 Student, full-time      NaN   \n",
       "3          NaN                                 Employed full-time      NaN   \n",
       "4           10  Independent contractor, freelancer, or self-em...      NaN   \n",
       "\n",
       "                                             DevType  \\\n",
       "0                                  Developer, mobile   \n",
       "1                                                NaN   \n",
       "2                                                NaN   \n",
       "3                               Developer, front-end   \n",
       "4  Developer, desktop or enterprise applications;...   \n",
       "\n",
       "                          LanguageHaveWorkedWith  \\\n",
       "0  C++;HTML/CSS;JavaScript;Objective-C;PHP;Swift   \n",
       "1                              JavaScript;Python   \n",
       "2                       Assembly;C;Python;R;Rust   \n",
       "3                          JavaScript;TypeScript   \n",
       "4                 Bash/Shell;HTML/CSS;Python;SQL   \n",
       "\n",
       "                  MiscTechHaveWorkedWith WebframeHaveWorkedWith  \n",
       "0                                    NaN        Laravel;Symfony  \n",
       "1                                Cordova   Angular;Flask;Vue.js  \n",
       "2  NumPy;Pandas;TensorFlow;Torch/PyTorch                  Flask  \n",
       "3                                    NaN         Angular;jQuery  \n",
       "4       Apache Spark;Hadoop;NumPy;Pandas                  Flask  "
      ]
     },
     "execution_count": 6,
     "metadata": {},
     "output_type": "execute_result"
    }
   ],
   "source": [
    "df = df.rename({\"ConvertedCompYearly\": \"Salary\"}, axis=1)\n",
    "df.head()"
   ]
  },
  {
   "cell_type": "code",
   "execution_count": 7,
   "metadata": {},
   "outputs": [
    {
     "data": {
      "text/plain": [
       "Country                   0\n",
       "EdLevel                   0\n",
       "YearsCodePro              0\n",
       "Employment                0\n",
       "Salary                    0\n",
       "DevType                   0\n",
       "LanguageHaveWorkedWith    0\n",
       "MiscTechHaveWorkedWith    0\n",
       "WebframeHaveWorkedWith    0\n",
       "dtype: int64"
      ]
     },
     "execution_count": 7,
     "metadata": {},
     "output_type": "execute_result"
    }
   ],
   "source": [
    "# droping null vallues\n",
    "\n",
    "df = df[df[\"Salary\"].notnull()]\n",
    "df = df.dropna()\n",
    "df.isnull().sum()"
   ]
  },
  {
   "cell_type": "code",
   "execution_count": 8,
   "metadata": {},
   "outputs": [
    {
     "name": "stdout",
     "output_type": "stream",
     "text": [
      "<class 'pandas.core.frame.DataFrame'>\n",
      "Int64Index: 18568 entries, 12 to 83437\n",
      "Data columns (total 8 columns):\n",
      " #   Column                  Non-Null Count  Dtype  \n",
      "---  ------                  --------------  -----  \n",
      " 0   Country                 18568 non-null  object \n",
      " 1   EdLevel                 18568 non-null  object \n",
      " 2   YearsCodePro            18568 non-null  object \n",
      " 3   Salary                  18568 non-null  float64\n",
      " 4   DevType                 18568 non-null  object \n",
      " 5   LanguageHaveWorkedWith  18568 non-null  object \n",
      " 6   MiscTechHaveWorkedWith  18568 non-null  object \n",
      " 7   WebframeHaveWorkedWith  18568 non-null  object \n",
      "dtypes: float64(1), object(7)\n",
      "memory usage: 1.3+ MB\n"
     ]
    }
   ],
   "source": [
    "df = df[df[\"Employment\"] == \"Employed full-time\"]\n",
    "df = df.drop(\"Employment\", axis=1)\n",
    "df.info()"
   ]
  },
  {
   "cell_type": "code",
   "execution_count": 9,
   "metadata": {},
   "outputs": [
    {
     "data": {
      "text/plain": [
       "United States of America    4123\n",
       "India                       1613\n",
       "United Kingdom              1185\n",
       "Germany                     1089\n",
       "Canada                       716\n",
       "                            ... \n",
       "Botswana                       1\n",
       "Guinea                         1\n",
       "Madagascar                     1\n",
       "Benin                          1\n",
       "Mauritania                     1\n",
       "Name: Country, Length: 159, dtype: int64"
      ]
     },
     "execution_count": 9,
     "metadata": {},
     "output_type": "execute_result"
    }
   ],
   "source": [
    "df['Country'].value_counts()"
   ]
  },
  {
   "cell_type": "code",
   "execution_count": 10,
   "metadata": {},
   "outputs": [],
   "source": [
    "def shorten_categories(categories, cutoff):\n",
    "    return {\n",
    "        categories.index[i]: categories.index[i]\n",
    "        if categories.values[i] >= cutoff\n",
    "        else 'Other'\n",
    "        for i in range(len(categories))\n",
    "    }"
   ]
  },
  {
   "cell_type": "code",
   "execution_count": 11,
   "metadata": {},
   "outputs": [
    {
     "data": {
      "text/plain": [
       "Other                       5611\n",
       "United States of America    4123\n",
       "India                       1613\n",
       "United Kingdom              1185\n",
       "Germany                     1089\n",
       "Canada                       716\n",
       "Brazil                       680\n",
       "France                       560\n",
       "Australia                    404\n",
       "Spain                        392\n",
       "Italy                        378\n",
       "Netherlands                  374\n",
       "Sweden                       345\n",
       "Poland                       304\n",
       "Russian Federation           291\n",
       "Turkey                       283\n",
       "Mexico                       220\n",
       "Name: Country, dtype: int64"
      ]
     },
     "execution_count": 11,
     "metadata": {},
     "output_type": "execute_result"
    }
   ],
   "source": [
    "country_map = shorten_categories(df.Country.value_counts(), 200)\n",
    "df['Country'] = df['Country'].map(country_map)\n",
    "df.Country.value_counts()"
   ]
  },
  {
   "cell_type": "code",
   "execution_count": 15,
   "metadata": {},
   "outputs": [],
   "source": [
    "dataset_country = df.Country.value_counts()\n",
    "pd.DataFrame(dataset_country)\n",
    "dataset_country.to_csv('countries1.csv')"
   ]
  },
  {
   "cell_type": "code",
   "execution_count": 18,
   "metadata": {},
   "outputs": [
    {
     "data": {
      "application/vnd.plotly.v1+json": {
       "config": {
        "plotlyServerURL": "https://plot.ly"
       },
       "data": [
        {
         "domain": {
          "x": [
           0,
           1
          ],
          "y": [
           0,
           1
          ]
         },
         "hovertemplate": "Country=%{label}<br>Count=%{value}<extra></extra>",
         "labels": [
          "Other",
          "United States of America",
          "India",
          "United Kingdom",
          "Germany",
          "Canada",
          "Brazil",
          "France",
          "Australia",
          "Spain",
          "Italy",
          "Netherlands",
          "Sweden",
          "Poland",
          "Russian Federation",
          "Turkey",
          "Mexico"
         ],
         "legendgroup": "",
         "name": "",
         "showlegend": true,
         "type": "pie",
         "values": [
          5611,
          4123,
          1613,
          1185,
          1089,
          716,
          680,
          560,
          404,
          392,
          378,
          374,
          345,
          304,
          291,
          283,
          220
         ]
        }
       ],
       "layout": {
        "legend": {
         "tracegroupgap": 0
        },
        "margin": {
         "t": 60
        },
        "template": {
         "data": {
          "bar": [
           {
            "error_x": {
             "color": "#2a3f5f"
            },
            "error_y": {
             "color": "#2a3f5f"
            },
            "marker": {
             "line": {
              "color": "#E5ECF6",
              "width": 0.5
             },
             "pattern": {
              "fillmode": "overlay",
              "size": 10,
              "solidity": 0.2
             }
            },
            "type": "bar"
           }
          ],
          "barpolar": [
           {
            "marker": {
             "line": {
              "color": "#E5ECF6",
              "width": 0.5
             },
             "pattern": {
              "fillmode": "overlay",
              "size": 10,
              "solidity": 0.2
             }
            },
            "type": "barpolar"
           }
          ],
          "carpet": [
           {
            "aaxis": {
             "endlinecolor": "#2a3f5f",
             "gridcolor": "white",
             "linecolor": "white",
             "minorgridcolor": "white",
             "startlinecolor": "#2a3f5f"
            },
            "baxis": {
             "endlinecolor": "#2a3f5f",
             "gridcolor": "white",
             "linecolor": "white",
             "minorgridcolor": "white",
             "startlinecolor": "#2a3f5f"
            },
            "type": "carpet"
           }
          ],
          "choropleth": [
           {
            "colorbar": {
             "outlinewidth": 0,
             "ticks": ""
            },
            "type": "choropleth"
           }
          ],
          "contour": [
           {
            "colorbar": {
             "outlinewidth": 0,
             "ticks": ""
            },
            "colorscale": [
             [
              0,
              "#0d0887"
             ],
             [
              0.1111111111111111,
              "#46039f"
             ],
             [
              0.2222222222222222,
              "#7201a8"
             ],
             [
              0.3333333333333333,
              "#9c179e"
             ],
             [
              0.4444444444444444,
              "#bd3786"
             ],
             [
              0.5555555555555556,
              "#d8576b"
             ],
             [
              0.6666666666666666,
              "#ed7953"
             ],
             [
              0.7777777777777778,
              "#fb9f3a"
             ],
             [
              0.8888888888888888,
              "#fdca26"
             ],
             [
              1,
              "#f0f921"
             ]
            ],
            "type": "contour"
           }
          ],
          "contourcarpet": [
           {
            "colorbar": {
             "outlinewidth": 0,
             "ticks": ""
            },
            "type": "contourcarpet"
           }
          ],
          "heatmap": [
           {
            "colorbar": {
             "outlinewidth": 0,
             "ticks": ""
            },
            "colorscale": [
             [
              0,
              "#0d0887"
             ],
             [
              0.1111111111111111,
              "#46039f"
             ],
             [
              0.2222222222222222,
              "#7201a8"
             ],
             [
              0.3333333333333333,
              "#9c179e"
             ],
             [
              0.4444444444444444,
              "#bd3786"
             ],
             [
              0.5555555555555556,
              "#d8576b"
             ],
             [
              0.6666666666666666,
              "#ed7953"
             ],
             [
              0.7777777777777778,
              "#fb9f3a"
             ],
             [
              0.8888888888888888,
              "#fdca26"
             ],
             [
              1,
              "#f0f921"
             ]
            ],
            "type": "heatmap"
           }
          ],
          "heatmapgl": [
           {
            "colorbar": {
             "outlinewidth": 0,
             "ticks": ""
            },
            "colorscale": [
             [
              0,
              "#0d0887"
             ],
             [
              0.1111111111111111,
              "#46039f"
             ],
             [
              0.2222222222222222,
              "#7201a8"
             ],
             [
              0.3333333333333333,
              "#9c179e"
             ],
             [
              0.4444444444444444,
              "#bd3786"
             ],
             [
              0.5555555555555556,
              "#d8576b"
             ],
             [
              0.6666666666666666,
              "#ed7953"
             ],
             [
              0.7777777777777778,
              "#fb9f3a"
             ],
             [
              0.8888888888888888,
              "#fdca26"
             ],
             [
              1,
              "#f0f921"
             ]
            ],
            "type": "heatmapgl"
           }
          ],
          "histogram": [
           {
            "marker": {
             "pattern": {
              "fillmode": "overlay",
              "size": 10,
              "solidity": 0.2
             }
            },
            "type": "histogram"
           }
          ],
          "histogram2d": [
           {
            "colorbar": {
             "outlinewidth": 0,
             "ticks": ""
            },
            "colorscale": [
             [
              0,
              "#0d0887"
             ],
             [
              0.1111111111111111,
              "#46039f"
             ],
             [
              0.2222222222222222,
              "#7201a8"
             ],
             [
              0.3333333333333333,
              "#9c179e"
             ],
             [
              0.4444444444444444,
              "#bd3786"
             ],
             [
              0.5555555555555556,
              "#d8576b"
             ],
             [
              0.6666666666666666,
              "#ed7953"
             ],
             [
              0.7777777777777778,
              "#fb9f3a"
             ],
             [
              0.8888888888888888,
              "#fdca26"
             ],
             [
              1,
              "#f0f921"
             ]
            ],
            "type": "histogram2d"
           }
          ],
          "histogram2dcontour": [
           {
            "colorbar": {
             "outlinewidth": 0,
             "ticks": ""
            },
            "colorscale": [
             [
              0,
              "#0d0887"
             ],
             [
              0.1111111111111111,
              "#46039f"
             ],
             [
              0.2222222222222222,
              "#7201a8"
             ],
             [
              0.3333333333333333,
              "#9c179e"
             ],
             [
              0.4444444444444444,
              "#bd3786"
             ],
             [
              0.5555555555555556,
              "#d8576b"
             ],
             [
              0.6666666666666666,
              "#ed7953"
             ],
             [
              0.7777777777777778,
              "#fb9f3a"
             ],
             [
              0.8888888888888888,
              "#fdca26"
             ],
             [
              1,
              "#f0f921"
             ]
            ],
            "type": "histogram2dcontour"
           }
          ],
          "mesh3d": [
           {
            "colorbar": {
             "outlinewidth": 0,
             "ticks": ""
            },
            "type": "mesh3d"
           }
          ],
          "parcoords": [
           {
            "line": {
             "colorbar": {
              "outlinewidth": 0,
              "ticks": ""
             }
            },
            "type": "parcoords"
           }
          ],
          "pie": [
           {
            "automargin": true,
            "type": "pie"
           }
          ],
          "scatter": [
           {
            "marker": {
             "colorbar": {
              "outlinewidth": 0,
              "ticks": ""
             }
            },
            "type": "scatter"
           }
          ],
          "scatter3d": [
           {
            "line": {
             "colorbar": {
              "outlinewidth": 0,
              "ticks": ""
             }
            },
            "marker": {
             "colorbar": {
              "outlinewidth": 0,
              "ticks": ""
             }
            },
            "type": "scatter3d"
           }
          ],
          "scattercarpet": [
           {
            "marker": {
             "colorbar": {
              "outlinewidth": 0,
              "ticks": ""
             }
            },
            "type": "scattercarpet"
           }
          ],
          "scattergeo": [
           {
            "marker": {
             "colorbar": {
              "outlinewidth": 0,
              "ticks": ""
             }
            },
            "type": "scattergeo"
           }
          ],
          "scattergl": [
           {
            "marker": {
             "colorbar": {
              "outlinewidth": 0,
              "ticks": ""
             }
            },
            "type": "scattergl"
           }
          ],
          "scattermapbox": [
           {
            "marker": {
             "colorbar": {
              "outlinewidth": 0,
              "ticks": ""
             }
            },
            "type": "scattermapbox"
           }
          ],
          "scatterpolar": [
           {
            "marker": {
             "colorbar": {
              "outlinewidth": 0,
              "ticks": ""
             }
            },
            "type": "scatterpolar"
           }
          ],
          "scatterpolargl": [
           {
            "marker": {
             "colorbar": {
              "outlinewidth": 0,
              "ticks": ""
             }
            },
            "type": "scatterpolargl"
           }
          ],
          "scatterternary": [
           {
            "marker": {
             "colorbar": {
              "outlinewidth": 0,
              "ticks": ""
             }
            },
            "type": "scatterternary"
           }
          ],
          "surface": [
           {
            "colorbar": {
             "outlinewidth": 0,
             "ticks": ""
            },
            "colorscale": [
             [
              0,
              "#0d0887"
             ],
             [
              0.1111111111111111,
              "#46039f"
             ],
             [
              0.2222222222222222,
              "#7201a8"
             ],
             [
              0.3333333333333333,
              "#9c179e"
             ],
             [
              0.4444444444444444,
              "#bd3786"
             ],
             [
              0.5555555555555556,
              "#d8576b"
             ],
             [
              0.6666666666666666,
              "#ed7953"
             ],
             [
              0.7777777777777778,
              "#fb9f3a"
             ],
             [
              0.8888888888888888,
              "#fdca26"
             ],
             [
              1,
              "#f0f921"
             ]
            ],
            "type": "surface"
           }
          ],
          "table": [
           {
            "cells": {
             "fill": {
              "color": "#EBF0F8"
             },
             "line": {
              "color": "white"
             }
            },
            "header": {
             "fill": {
              "color": "#C8D4E3"
             },
             "line": {
              "color": "white"
             }
            },
            "type": "table"
           }
          ]
         },
         "layout": {
          "annotationdefaults": {
           "arrowcolor": "#2a3f5f",
           "arrowhead": 0,
           "arrowwidth": 1
          },
          "autotypenumbers": "strict",
          "coloraxis": {
           "colorbar": {
            "outlinewidth": 0,
            "ticks": ""
           }
          },
          "colorscale": {
           "diverging": [
            [
             0,
             "#8e0152"
            ],
            [
             0.1,
             "#c51b7d"
            ],
            [
             0.2,
             "#de77ae"
            ],
            [
             0.3,
             "#f1b6da"
            ],
            [
             0.4,
             "#fde0ef"
            ],
            [
             0.5,
             "#f7f7f7"
            ],
            [
             0.6,
             "#e6f5d0"
            ],
            [
             0.7,
             "#b8e186"
            ],
            [
             0.8,
             "#7fbc41"
            ],
            [
             0.9,
             "#4d9221"
            ],
            [
             1,
             "#276419"
            ]
           ],
           "sequential": [
            [
             0,
             "#0d0887"
            ],
            [
             0.1111111111111111,
             "#46039f"
            ],
            [
             0.2222222222222222,
             "#7201a8"
            ],
            [
             0.3333333333333333,
             "#9c179e"
            ],
            [
             0.4444444444444444,
             "#bd3786"
            ],
            [
             0.5555555555555556,
             "#d8576b"
            ],
            [
             0.6666666666666666,
             "#ed7953"
            ],
            [
             0.7777777777777778,
             "#fb9f3a"
            ],
            [
             0.8888888888888888,
             "#fdca26"
            ],
            [
             1,
             "#f0f921"
            ]
           ],
           "sequentialminus": [
            [
             0,
             "#0d0887"
            ],
            [
             0.1111111111111111,
             "#46039f"
            ],
            [
             0.2222222222222222,
             "#7201a8"
            ],
            [
             0.3333333333333333,
             "#9c179e"
            ],
            [
             0.4444444444444444,
             "#bd3786"
            ],
            [
             0.5555555555555556,
             "#d8576b"
            ],
            [
             0.6666666666666666,
             "#ed7953"
            ],
            [
             0.7777777777777778,
             "#fb9f3a"
            ],
            [
             0.8888888888888888,
             "#fdca26"
            ],
            [
             1,
             "#f0f921"
            ]
           ]
          },
          "colorway": [
           "#636efa",
           "#EF553B",
           "#00cc96",
           "#ab63fa",
           "#FFA15A",
           "#19d3f3",
           "#FF6692",
           "#B6E880",
           "#FF97FF",
           "#FECB52"
          ],
          "font": {
           "color": "#2a3f5f"
          },
          "geo": {
           "bgcolor": "white",
           "lakecolor": "white",
           "landcolor": "#E5ECF6",
           "showlakes": true,
           "showland": true,
           "subunitcolor": "white"
          },
          "hoverlabel": {
           "align": "left"
          },
          "hovermode": "closest",
          "mapbox": {
           "style": "light"
          },
          "paper_bgcolor": "white",
          "plot_bgcolor": "#E5ECF6",
          "polar": {
           "angularaxis": {
            "gridcolor": "white",
            "linecolor": "white",
            "ticks": ""
           },
           "bgcolor": "#E5ECF6",
           "radialaxis": {
            "gridcolor": "white",
            "linecolor": "white",
            "ticks": ""
           }
          },
          "scene": {
           "xaxis": {
            "backgroundcolor": "#E5ECF6",
            "gridcolor": "white",
            "gridwidth": 2,
            "linecolor": "white",
            "showbackground": true,
            "ticks": "",
            "zerolinecolor": "white"
           },
           "yaxis": {
            "backgroundcolor": "#E5ECF6",
            "gridcolor": "white",
            "gridwidth": 2,
            "linecolor": "white",
            "showbackground": true,
            "ticks": "",
            "zerolinecolor": "white"
           },
           "zaxis": {
            "backgroundcolor": "#E5ECF6",
            "gridcolor": "white",
            "gridwidth": 2,
            "linecolor": "white",
            "showbackground": true,
            "ticks": "",
            "zerolinecolor": "white"
           }
          },
          "shapedefaults": {
           "line": {
            "color": "#2a3f5f"
           }
          },
          "ternary": {
           "aaxis": {
            "gridcolor": "white",
            "linecolor": "white",
            "ticks": ""
           },
           "baxis": {
            "gridcolor": "white",
            "linecolor": "white",
            "ticks": ""
           },
           "bgcolor": "#E5ECF6",
           "caxis": {
            "gridcolor": "white",
            "linecolor": "white",
            "ticks": ""
           }
          },
          "title": {
           "x": 0.05
          },
          "xaxis": {
           "automargin": true,
           "gridcolor": "white",
           "linecolor": "white",
           "ticks": "",
           "title": {
            "standoff": 15
           },
           "zerolinecolor": "white",
           "zerolinewidth": 2
          },
          "yaxis": {
           "automargin": true,
           "gridcolor": "white",
           "linecolor": "white",
           "ticks": "",
           "title": {
            "standoff": 15
           },
           "zerolinecolor": "white",
           "zerolinewidth": 2
          }
         }
        }
       }
      }
     },
     "metadata": {},
     "output_type": "display_data"
    }
   ],
   "source": [
    "import plotly.express as px\n",
    "countriesDaata_ = pd.read_csv('countries.csv')\n",
    "fig = px.pie(countriesDaata_, values='Count', names='Country')\n",
    "fig.show()"
   ]
  }
 ],
 "metadata": {
  "interpreter": {
   "hash": "b3ba2566441a7c06988d0923437866b63cedc61552a5af99d1f4fb67d367b25f"
  },
  "kernelspec": {
   "display_name": "Python 3.9.7 64-bit ('base': conda)",
   "language": "python",
   "name": "python3"
  },
  "language_info": {
   "codemirror_mode": {
    "name": "ipython",
    "version": 3
   },
   "file_extension": ".py",
   "mimetype": "text/x-python",
   "name": "python",
   "nbconvert_exporter": "python",
   "pygments_lexer": "ipython3",
   "version": "3.9.7"
  },
  "orig_nbformat": 4
 },
 "nbformat": 4,
 "nbformat_minor": 2
}
