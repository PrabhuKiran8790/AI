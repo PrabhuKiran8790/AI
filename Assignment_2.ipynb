{
  "nbformat": 4,
  "nbformat_minor": 0,
  "metadata": {
    "colab": {
      "name": "Assignment_2.ipynb",
      "provenance": [],
      "collapsed_sections": [],
      "authorship_tag": "ABX9TyPL2t80H7Y7CFiHPoqfaKqC",
      "include_colab_link": true
    },
    "kernelspec": {
      "name": "python3",
      "display_name": "Python 3"
    },
    "language_info": {
      "name": "python"
    }
  },
  "cells": [
    {
      "cell_type": "markdown",
      "metadata": {
        "id": "view-in-github",
        "colab_type": "text"
      },
      "source": [
        "<a href=\"https://colab.research.google.com/github/PrabhuKiran8790/AI/blob/main/Assignment_2.ipynb\" target=\"_parent\"><img src=\"https://colab.research.google.com/assets/colab-badge.svg\" alt=\"Open In Colab\"/></a>"
      ]
    },
    {
      "cell_type": "markdown",
      "metadata": {
        "id": "hKL2UlRTWwIA"
      },
      "source": [
        "# Assignment 2\n",
        "<code>Prabhu Kiran<br>20K45A0215<br><a href = \"https://github.com/Prabhukiran8790/AI\">Github Link</a></code>\n",
        "<h4> Finding global minimum of the given function <h4> ${f(x) = x^4 + 3x^2 + 10}$ </h4> <h4> and finding the optimal solution using <b>Gradient Descent Algorithim</b> </h4>\n"
      ]
    },
    {
      "cell_type": "markdown",
      "metadata": {
        "id": "el3Wgcedx2lA"
      },
      "source": [
        "\n",
        "---\n",
        "<p align=\"left\"> <figure> <img width=\"350\" height=\"350\" src=\"https://raw.githubusercontent.com/PrabhuKiran8790/AI/2bc551f55e15305c7bb2d054584f99a5af09fb3b/assignment_2_graph.PNG\", alt = \"function_plot\"><figcaption> ${f(x) = x^4 + 3x^2 + 10}$</figcaption> </figure>  </p>\n",
        "\n",
        "---\n"
      ]
    },
    {
      "cell_type": "markdown",
      "metadata": {
        "id": "4uJEo7ydy1-E"
      },
      "source": [
        "## Manual Calulations\n",
        "\n",
        "---\n",
        "![AI_Manual_calculations.jpeg](https://raw.githubusercontent.com/PrabhuKiran8790/AI/main/AI_Manual_calculations.jpeg)\n",
        "\n",
        "---"
      ]
    },
    {
      "cell_type": "code",
      "metadata": {
        "id": "lneZpyKgW0BO",
        "colab": {
          "base_uri": "https://localhost:8080/",
          "height": 194
        },
        "outputId": "32d50ee3-ddb9-471b-9ee8-06327929ee9c"
      },
      "source": [
        "import numpy as np\n",
        "from IPython.display import display, Latex\n",
        "\n",
        "# Initializing the parameters\n",
        "\n",
        "#initial value of x, ranges from 1 to 1.3\n",
        "init_x = np.random.uniform(1, 1.3)\n",
        "learning_rate = 0.15   # Each time for finding the next step size, the step size will be multiplied by the learning rate.\n",
        "'''\n",
        "with the sepcified parameters, changing the learning rate above 0.15 often leads to the overshoot and the x value never reaches minimum.\n",
        "Raises OverflowError: (34, 'Numerical result out of range') (recomended rate is 0.149 or 0.15)\n",
        "with the above initialized paramenters, existing learning rate is the the most optimal learning rate.\n",
        "\n",
        "'''\n",
        "steps = 0\n",
        "max_steps = 1000   # taking more than 1000 steps to find the minimum value is prohibited.\n",
        "pre_step_size = 1\n",
        "\n",
        "display(Latex('$f(x) = x^4 + 3x^2 + 10$'))\n",
        "print(f\"\\nInitial x value : {init_x}\")\n",
        "\n",
        "function = lambda x: x**4 + 3*(x**2) + 10 \n",
        "grad_f = lambda x: 4*(x**3) + 6*x          # Gradient of the function\n",
        "\n",
        "\n",
        "# iterating till the x value reaches minimum possible value.\n",
        "while pre_step_size > 0.0000001 and steps < max_steps:\n",
        "    previous_x = init_x\n",
        "    init_x = init_x - learning_rate * grad_f(previous_x)\n",
        "    pre_step_size = abs(init_x - previous_x)\n",
        "    steps += 1\n",
        "    # print(f\"step No.: {steps} \\nValue of x is {init_x}\") # uncomment the print statement to see the steps and it's respctive x values.\n",
        "\n",
        "print(f\"\\nThe Local minumum / Global minimum occurs at: {round(init_x)}\")\n",
        "print(f\"steps taken to reach the minimum: {steps}\\n\")\n",
        "print(f\"for x = {round(init_x)} in : \", )\n",
        "display(Latex('$f(x) = x^4 + 3x^2 + 10$'))\n",
        "print(f\"gives the value for the fucntion = {round(function(init_x))}\")"
      ],
      "execution_count": 1,
      "outputs": [
        {
          "output_type": "display_data",
          "data": {
            "text/latex": "$f(x) = x^4 + 3x^2 + 10$",
            "text/plain": [
              "<IPython.core.display.Latex object>"
            ]
          },
          "metadata": {
            "tags": []
          }
        },
        {
          "output_type": "stream",
          "text": [
            "\n",
            "Initial x value : 1.185425524709031\n",
            "\n",
            "The Local minumum / Global minimum occurs at: 0\n",
            "steps taken to reach the minimum: 10\n",
            "\n",
            "for x = 0 in : \n"
          ],
          "name": "stdout"
        },
        {
          "output_type": "display_data",
          "data": {
            "text/latex": "$f(x) = x^4 + 3x^2 + 10$",
            "text/plain": [
              "<IPython.core.display.Latex object>"
            ]
          },
          "metadata": {
            "tags": []
          }
        },
        {
          "output_type": "stream",
          "text": [
            "gives the value for the fucntion = 10\n"
          ],
          "name": "stdout"
        }
      ]
    },
    {
      "cell_type": "code",
      "metadata": {
        "colab": {
          "base_uri": "https://localhost:8080/",
          "height": 505
        },
        "id": "oYqHpZqByQXR",
        "outputId": "6d1794a1-161b-4b85-efef-024072235d91"
      },
      "source": [
        "import matplotlib.pyplot as plt\n",
        "# import numpy as np\n",
        "  \n",
        "# Creating vectors X and Y\n",
        "x = np.linspace(-2, 2, 100)\n",
        "y = x**4 + 3*x**2 + 10\n",
        "\n",
        "fig = plt.figure(figsize = (8, 8))\n",
        "# Create the plot\n",
        "plt.plot(x, y)\n",
        "\n",
        "# Show the plot\n",
        "plt.grid()\n",
        "plt.axvline(color = \"red\")\n",
        "plt.annotate('local minimum', xy=(round(init_x), round(function(init_x))),  xycoords='data',\n",
        "            xytext=(0.8, 0.95), textcoords='axes fraction',\n",
        "            arrowprops=dict(facecolor='black', shrink=0.05),\n",
        "            horizontalalignment='right', verticalalignment='top',\n",
        "            )\n",
        "plt.annotate(\"Minimum Point of x \",(round(init_x), function(init_x)))    # labelling Min. Point (x, y coordinates)\n",
        "plt.title(display(Latex('$Graph, f(x) = x^4 + 3x^2 + 10$')))\n",
        "plt.show()"
      ],
      "execution_count": 3,
      "outputs": [
        {
          "output_type": "display_data",
          "data": {
            "text/latex": "$Graph, f(x) = x^4 + 3x^2 + 10$",
            "text/plain": [
              "<IPython.core.display.Latex object>"
            ]
          },
          "metadata": {
            "tags": []
          }
        },
        {
          "output_type": "display_data",
          "data": {
            "image/png": "[encoded data removed]",
            "text/plain": [
              "<Figure size 576x576 with 1 Axes>"
            ]
          },
          "metadata": {
            "tags": [],
            "needs_background": "light"
          }
        }
      ]
    }
  ]
}