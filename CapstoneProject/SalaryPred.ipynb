{
 "cells": [
  {
   "cell_type": "markdown",
   "metadata": {},
   "source": [
    "# Software Developer Salary Prediction\n",
    "## AI Capstone Project  \n",
    "Team 23\n",
    "\n",
    "- 19K41A05E9\n",
    "- 19K41A05E7\n",
    "- 20K45A0215"
   ]
  },
  {
   "cell_type": "code",
   "execution_count": 1,
   "metadata": {},
   "outputs": [],
   "source": [
    "import pandas as pd\n",
    "import seaborn as sns\n",
    "import matplotlib.pyplot as plt\n",
    "\n",
    "df = pd.read_csv(\"survey_results_public.csv\")"
   ]
  },
  {
   "cell_type": "code",
   "execution_count": 2,
   "metadata": {},
   "outputs": [
    {
     "data": {
      "text/html": [
       "<div><div id=a41a88ee-9898-41c5-9f99-068707f88332 style=\"display:none; background-color:#9D6CFF; color:white; width:200px; height:30px; padding-left:5px; border-radius:4px; flex-direction:row; justify-content:space-around; align-items:center;\" onmouseover=\"this.style.backgroundColor='#BA9BF8'\" onmouseout=\"this.style.backgroundColor='#9D6CFF'\" onclick=\"window.commands?.execute('create-mitosheet-from-dataframe-output');\">See Full Dataframe in Mito</div> <script> if (window.commands.hasCommand('create-mitosheet-from-dataframe-output')) document.getElementById('a41a88ee-9898-41c5-9f99-068707f88332').style.display = 'flex' </script> <table border=\"1\" class=\"dataframe\">\n",
       "  <thead>\n",
       "    <tr style=\"text-align: right;\">\n",
       "      <th></th>\n",
       "      <th>ResponseId</th>\n",
       "      <th>MainBranch</th>\n",
       "      <th>Employment</th>\n",
       "      <th>Country</th>\n",
       "      <th>US_State</th>\n",
       "      <th>UK_Country</th>\n",
       "      <th>EdLevel</th>\n",
       "      <th>Age1stCode</th>\n",
       "      <th>LearnCode</th>\n",
       "      <th>YearsCode</th>\n",
       "      <th>YearsCodePro</th>\n",
       "      <th>DevType</th>\n",
       "      <th>OrgSize</th>\n",
       "      <th>Currency</th>\n",
       "      <th>CompTotal</th>\n",
       "      <th>CompFreq</th>\n",
       "      <th>LanguageHaveWorkedWith</th>\n",
       "      <th>LanguageWantToWorkWith</th>\n",
       "      <th>DatabaseHaveWorkedWith</th>\n",
       "      <th>DatabaseWantToWorkWith</th>\n",
       "      <th>PlatformHaveWorkedWith</th>\n",
       "      <th>PlatformWantToWorkWith</th>\n",
       "      <th>WebframeHaveWorkedWith</th>\n",
       "      <th>WebframeWantToWorkWith</th>\n",
       "      <th>MiscTechHaveWorkedWith</th>\n",
       "      <th>MiscTechWantToWorkWith</th>\n",
       "      <th>ToolsTechHaveWorkedWith</th>\n",
       "      <th>ToolsTechWantToWorkWith</th>\n",
       "      <th>NEWCollabToolsHaveWorkedWith</th>\n",
       "      <th>NEWCollabToolsWantToWorkWith</th>\n",
       "      <th>OpSys</th>\n",
       "      <th>NEWStuck</th>\n",
       "      <th>NEWSOSites</th>\n",
       "      <th>SOVisitFreq</th>\n",
       "      <th>SOAccount</th>\n",
       "      <th>SOPartFreq</th>\n",
       "      <th>SOComm</th>\n",
       "      <th>NEWOtherComms</th>\n",
       "      <th>Age</th>\n",
       "      <th>Gender</th>\n",
       "      <th>Trans</th>\n",
       "      <th>Sexuality</th>\n",
       "      <th>Ethnicity</th>\n",
       "      <th>Accessibility</th>\n",
       "      <th>MentalHealth</th>\n",
       "      <th>SurveyLength</th>\n",
       "      <th>SurveyEase</th>\n",
       "      <th>ConvertedCompYearly</th>\n",
       "    </tr>\n",
       "  </thead>\n",
       "  <tbody>\n",
       "    <tr>\n",
       "      <th>0</th>\n",
       "      <td>1</td>\n",
       "      <td>I am a developer by profession</td>\n",
       "      <td>Independent contractor, freelancer, or self-employed</td>\n",
       "      <td>Slovakia</td>\n",
       "      <td>NaN</td>\n",
       "      <td>NaN</td>\n",
       "      <td>Secondary school (e.g. American high school, German Realschule or Gymnasium, etc.)</td>\n",
       "      <td>18 - 24 years</td>\n",
       "      <td>Coding Bootcamp;Other online resources (ex: videos, blogs, etc)</td>\n",
       "      <td>NaN</td>\n",
       "      <td>NaN</td>\n",
       "      <td>Developer, mobile</td>\n",
       "      <td>20 to 99 employees</td>\n",
       "      <td>EUR European Euro</td>\n",
       "      <td>4800.0</td>\n",
       "      <td>Monthly</td>\n",
       "      <td>C++;HTML/CSS;JavaScript;Objective-C;PHP;Swift</td>\n",
       "      <td>Swift</td>\n",
       "      <td>PostgreSQL;SQLite</td>\n",
       "      <td>SQLite</td>\n",
       "      <td>NaN</td>\n",
       "      <td>NaN</td>\n",
       "      <td>Laravel;Symfony</td>\n",
       "      <td>NaN</td>\n",
       "      <td>NaN</td>\n",
       "      <td>NaN</td>\n",
       "      <td>NaN</td>\n",
       "      <td>NaN</td>\n",
       "      <td>PHPStorm;Xcode</td>\n",
       "      <td>Atom;Xcode</td>\n",
       "      <td>MacOS</td>\n",
       "      <td>Call a coworker or friend;Visit Stack Overflow;Go for a walk or other physical activity;Google it</td>\n",
       "      <td>Stack Overflow</td>\n",
       "      <td>Multiple times per day</td>\n",
       "      <td>Yes</td>\n",
       "      <td>A few times per month or weekly</td>\n",
       "      <td>Yes, definitely</td>\n",
       "      <td>No</td>\n",
       "      <td>25-34 years old</td>\n",
       "      <td>Man</td>\n",
       "      <td>No</td>\n",
       "      <td>Straight / Heterosexual</td>\n",
       "      <td>White or of European descent</td>\n",
       "      <td>None of the above</td>\n",
       "      <td>None of the above</td>\n",
       "      <td>Appropriate in length</td>\n",
       "      <td>Easy</td>\n",
       "      <td>62268.0</td>\n",
       "    </tr>\n",
       "    <tr>\n",
       "      <th>1</th>\n",
       "      <td>2</td>\n",
       "      <td>I am a student who is learning to code</td>\n",
       "      <td>Student, full-time</td>\n",
       "      <td>Netherlands</td>\n",
       "      <td>NaN</td>\n",
       "      <td>NaN</td>\n",
       "      <td>Bachelor’s degree (B.A., B.S., B.Eng., etc.)</td>\n",
       "      <td>11 - 17 years</td>\n",
       "      <td>Other online resources (ex: videos, blogs, etc);School</td>\n",
       "      <td>7</td>\n",
       "      <td>NaN</td>\n",
       "      <td>NaN</td>\n",
       "      <td>NaN</td>\n",
       "      <td>NaN</td>\n",
       "      <td>NaN</td>\n",
       "      <td>NaN</td>\n",
       "      <td>JavaScript;Python</td>\n",
       "      <td>NaN</td>\n",
       "      <td>PostgreSQL</td>\n",
       "      <td>NaN</td>\n",
       "      <td>NaN</td>\n",
       "      <td>NaN</td>\n",
       "      <td>Angular;Flask;Vue.js</td>\n",
       "      <td>NaN</td>\n",
       "      <td>Cordova</td>\n",
       "      <td>NaN</td>\n",
       "      <td>Docker;Git;Yarn</td>\n",
       "      <td>Git</td>\n",
       "      <td>Android Studio;IntelliJ;Notepad++;PyCharm</td>\n",
       "      <td>NaN</td>\n",
       "      <td>Windows</td>\n",
       "      <td>Visit Stack Overflow;Google it</td>\n",
       "      <td>Stack Overflow</td>\n",
       "      <td>Daily or almost daily</td>\n",
       "      <td>Yes</td>\n",
       "      <td>Daily or almost daily</td>\n",
       "      <td>Yes, definitely</td>\n",
       "      <td>No</td>\n",
       "      <td>18-24 years old</td>\n",
       "      <td>Man</td>\n",
       "      <td>No</td>\n",
       "      <td>Straight / Heterosexual</td>\n",
       "      <td>White or of European descent</td>\n",
       "      <td>None of the above</td>\n",
       "      <td>None of the above</td>\n",
       "      <td>Appropriate in length</td>\n",
       "      <td>Easy</td>\n",
       "      <td>NaN</td>\n",
       "    </tr>\n",
       "    <tr>\n",
       "      <th>2</th>\n",
       "      <td>3</td>\n",
       "      <td>I am not primarily a developer, but I write code sometimes as part of my work</td>\n",
       "      <td>Student, full-time</td>\n",
       "      <td>Russian Federation</td>\n",
       "      <td>NaN</td>\n",
       "      <td>NaN</td>\n",
       "      <td>Bachelor’s degree (B.A., B.S., B.Eng., etc.)</td>\n",
       "      <td>11 - 17 years</td>\n",
       "      <td>Other online resources (ex: videos, blogs, etc);Online Forum</td>\n",
       "      <td>NaN</td>\n",
       "      <td>NaN</td>\n",
       "      <td>NaN</td>\n",
       "      <td>NaN</td>\n",
       "      <td>NaN</td>\n",
       "      <td>NaN</td>\n",
       "      <td>NaN</td>\n",
       "      <td>Assembly;C;Python;R;Rust</td>\n",
       "      <td>Julia;Python;Rust</td>\n",
       "      <td>SQLite</td>\n",
       "      <td>SQLite</td>\n",
       "      <td>Heroku</td>\n",
       "      <td>NaN</td>\n",
       "      <td>Flask</td>\n",
       "      <td>Flask</td>\n",
       "      <td>NumPy;Pandas;TensorFlow;Torch/PyTorch</td>\n",
       "      <td>Keras;NumPy;Pandas;TensorFlow;Torch/PyTorch</td>\n",
       "      <td>NaN</td>\n",
       "      <td>NaN</td>\n",
       "      <td>IPython/Jupyter;PyCharm;RStudio;Sublime Text;Visual Studio Code</td>\n",
       "      <td>IPython/Jupyter;RStudio;Sublime Text;Visual Studio Code</td>\n",
       "      <td>MacOS</td>\n",
       "      <td>Visit Stack Overflow;Google it;Watch help / tutorial videos;Do other work and come back later</td>\n",
       "      <td>Stack Overflow;Stack Exchange</td>\n",
       "      <td>Multiple times per day</td>\n",
       "      <td>Yes</td>\n",
       "      <td>Multiple times per day</td>\n",
       "      <td>Yes, definitely</td>\n",
       "      <td>Yes</td>\n",
       "      <td>18-24 years old</td>\n",
       "      <td>Man</td>\n",
       "      <td>No</td>\n",
       "      <td>Prefer not to say</td>\n",
       "      <td>Prefer not to say</td>\n",
       "      <td>None of the above</td>\n",
       "      <td>None of the above</td>\n",
       "      <td>Appropriate in length</td>\n",
       "      <td>Easy</td>\n",
       "      <td>NaN</td>\n",
       "    </tr>\n",
       "    <tr>\n",
       "      <th>3</th>\n",
       "      <td>4</td>\n",
       "      <td>I am a developer by profession</td>\n",
       "      <td>Employed full-time</td>\n",
       "      <td>Austria</td>\n",
       "      <td>NaN</td>\n",
       "      <td>NaN</td>\n",
       "      <td>Master’s degree (M.A., M.S., M.Eng., MBA, etc.)</td>\n",
       "      <td>11 - 17 years</td>\n",
       "      <td>NaN</td>\n",
       "      <td>NaN</td>\n",
       "      <td>NaN</td>\n",
       "      <td>Developer, front-end</td>\n",
       "      <td>100 to 499 employees</td>\n",
       "      <td>EUR European Euro</td>\n",
       "      <td>NaN</td>\n",
       "      <td>Monthly</td>\n",
       "      <td>JavaScript;TypeScript</td>\n",
       "      <td>JavaScript;TypeScript</td>\n",
       "      <td>NaN</td>\n",
       "      <td>NaN</td>\n",
       "      <td>NaN</td>\n",
       "      <td>NaN</td>\n",
       "      <td>Angular;jQuery</td>\n",
       "      <td>Angular;jQuery</td>\n",
       "      <td>NaN</td>\n",
       "      <td>NaN</td>\n",
       "      <td>NaN</td>\n",
       "      <td>NaN</td>\n",
       "      <td>NaN</td>\n",
       "      <td>NaN</td>\n",
       "      <td>Windows</td>\n",
       "      <td>Call a coworker or friend;Visit Stack Overflow;Go for a walk or other physical activity;Google it</td>\n",
       "      <td>Stack Overflow</td>\n",
       "      <td>Daily or almost daily</td>\n",
       "      <td>Yes</td>\n",
       "      <td>Daily or almost daily</td>\n",
       "      <td>Neutral</td>\n",
       "      <td>No</td>\n",
       "      <td>35-44 years old</td>\n",
       "      <td>Man</td>\n",
       "      <td>No</td>\n",
       "      <td>Straight / Heterosexual</td>\n",
       "      <td>White or of European descent</td>\n",
       "      <td>I am deaf / hard of hearing</td>\n",
       "      <td>NaN</td>\n",
       "      <td>Appropriate in length</td>\n",
       "      <td>Neither easy nor difficult</td>\n",
       "      <td>NaN</td>\n",
       "    </tr>\n",
       "    <tr>\n",
       "      <th>4</th>\n",
       "      <td>5</td>\n",
       "      <td>I am a developer by profession</td>\n",
       "      <td>Independent contractor, freelancer, or self-employed</td>\n",
       "      <td>United Kingdom</td>\n",
       "      <td>NaN</td>\n",
       "      <td>England</td>\n",
       "      <td>Master’s degree (M.A., M.S., M.Eng., MBA, etc.)</td>\n",
       "      <td>5 - 10 years</td>\n",
       "      <td>Friend or family member</td>\n",
       "      <td>17</td>\n",
       "      <td>10</td>\n",
       "      <td>Developer, desktop or enterprise applications;Developer, full-stack;Engineer, data;Other (please specify):</td>\n",
       "      <td>Just me - I am a freelancer, sole proprietor, etc.</td>\n",
       "      <td>GBP\\tPound sterling</td>\n",
       "      <td>NaN</td>\n",
       "      <td>NaN</td>\n",
       "      <td>Bash/Shell;HTML/CSS;Python;SQL</td>\n",
       "      <td>Bash/Shell;HTML/CSS;Python;SQL</td>\n",
       "      <td>Elasticsearch;PostgreSQL;Redis</td>\n",
       "      <td>Cassandra;Elasticsearch;PostgreSQL;Redis</td>\n",
       "      <td>NaN</td>\n",
       "      <td>NaN</td>\n",
       "      <td>Flask</td>\n",
       "      <td>Flask</td>\n",
       "      <td>Apache Spark;Hadoop;NumPy;Pandas</td>\n",
       "      <td>Hadoop;NumPy;Pandas</td>\n",
       "      <td>Docker;Git;Kubernetes;Yarn</td>\n",
       "      <td>Docker;Git;Kubernetes;Yarn</td>\n",
       "      <td>Atom;IPython/Jupyter;Notepad++;PyCharm;Vim</td>\n",
       "      <td>Atom;IPython/Jupyter;Notepad++;PyCharm;Vim;Visual Studio Code</td>\n",
       "      <td>Linux-based</td>\n",
       "      <td>Visit Stack Overflow;Go for a walk or other physical activity;Google it;Watch help / tutorial videos;Do other work and come back later</td>\n",
       "      <td>Stack Overflow;Stack Exchange</td>\n",
       "      <td>Daily or almost daily</td>\n",
       "      <td>Yes</td>\n",
       "      <td>A few times per week</td>\n",
       "      <td>Yes, somewhat</td>\n",
       "      <td>No</td>\n",
       "      <td>25-34 years old</td>\n",
       "      <td>Man</td>\n",
       "      <td>No</td>\n",
       "      <td>NaN</td>\n",
       "      <td>White or of European descent</td>\n",
       "      <td>None of the above</td>\n",
       "      <td>NaN</td>\n",
       "      <td>Appropriate in length</td>\n",
       "      <td>Easy</td>\n",
       "      <td>NaN</td>\n",
       "    </tr>\n",
       "  </tbody>\n",
       "</table></div>"
      ],
      "text/plain": [
       "   ResponseId                                         MainBranch  \\\n",
       "0           1                     I am a developer by profession   \n",
       "1           2             I am a student who is learning to code   \n",
       "2           3  I am not primarily a developer, but I write co...   \n",
       "3           4                     I am a developer by profession   \n",
       "4           5                     I am a developer by profession   \n",
       "\n",
       "                                          Employment             Country  \\\n",
       "0  Independent contractor, freelancer, or self-em...            Slovakia   \n",
       "1                                 Student, full-time         Netherlands   \n",
       "2                                 Student, full-time  Russian Federation   \n",
       "3                                 Employed full-time             Austria   \n",
       "4  Independent contractor, freelancer, or self-em...      United Kingdom   \n",
       "\n",
       "  US_State UK_Country                                            EdLevel  \\\n",
       "0      NaN        NaN  Secondary school (e.g. American high school, G...   \n",
       "1      NaN        NaN       Bachelor’s degree (B.A., B.S., B.Eng., etc.)   \n",
       "2      NaN        NaN       Bachelor’s degree (B.A., B.S., B.Eng., etc.)   \n",
       "3      NaN        NaN    Master’s degree (M.A., M.S., M.Eng., MBA, etc.)   \n",
       "4      NaN    England    Master’s degree (M.A., M.S., M.Eng., MBA, etc.)   \n",
       "\n",
       "      Age1stCode                                          LearnCode YearsCode  \\\n",
       "0  18 - 24 years  Coding Bootcamp;Other online resources (ex: vi...       NaN   \n",
       "1  11 - 17 years  Other online resources (ex: videos, blogs, etc...         7   \n",
       "2  11 - 17 years  Other online resources (ex: videos, blogs, etc...       NaN   \n",
       "3  11 - 17 years                                                NaN       NaN   \n",
       "4   5 - 10 years                            Friend or family member        17   \n",
       "\n",
       "  YearsCodePro                                            DevType  \\\n",
       "0          NaN                                  Developer, mobile   \n",
       "1          NaN                                                NaN   \n",
       "2          NaN                                                NaN   \n",
       "3          NaN                               Developer, front-end   \n",
       "4           10  Developer, desktop or enterprise applications;...   \n",
       "\n",
       "                                             OrgSize             Currency  \\\n",
       "0                                 20 to 99 employees    EUR European Euro   \n",
       "1                                                NaN                  NaN   \n",
       "2                                                NaN                  NaN   \n",
       "3                               100 to 499 employees    EUR European Euro   \n",
       "4  Just me - I am a freelancer, sole proprietor, ...  GBP\\tPound sterling   \n",
       "\n",
       "   CompTotal CompFreq                         LanguageHaveWorkedWith  \\\n",
       "0     4800.0  Monthly  C++;HTML/CSS;JavaScript;Objective-C;PHP;Swift   \n",
       "1        NaN      NaN                              JavaScript;Python   \n",
       "2        NaN      NaN                       Assembly;C;Python;R;Rust   \n",
       "3        NaN  Monthly                          JavaScript;TypeScript   \n",
       "4        NaN      NaN                 Bash/Shell;HTML/CSS;Python;SQL   \n",
       "\n",
       "           LanguageWantToWorkWith          DatabaseHaveWorkedWith  \\\n",
       "0                           Swift               PostgreSQL;SQLite   \n",
       "1                             NaN                      PostgreSQL   \n",
       "2               Julia;Python;Rust                          SQLite   \n",
       "3           JavaScript;TypeScript                             NaN   \n",
       "4  Bash/Shell;HTML/CSS;Python;SQL  Elasticsearch;PostgreSQL;Redis   \n",
       "\n",
       "                     DatabaseWantToWorkWith PlatformHaveWorkedWith  \\\n",
       "0                                    SQLite                    NaN   \n",
       "1                                       NaN                    NaN   \n",
       "2                                    SQLite                 Heroku   \n",
       "3                                       NaN                    NaN   \n",
       "4  Cassandra;Elasticsearch;PostgreSQL;Redis                    NaN   \n",
       "\n",
       "  PlatformWantToWorkWith WebframeHaveWorkedWith WebframeWantToWorkWith  \\\n",
       "0                    NaN        Laravel;Symfony                    NaN   \n",
       "1                    NaN   Angular;Flask;Vue.js                    NaN   \n",
       "2                    NaN                  Flask                  Flask   \n",
       "3                    NaN         Angular;jQuery         Angular;jQuery   \n",
       "4                    NaN                  Flask                  Flask   \n",
       "\n",
       "                  MiscTechHaveWorkedWith  \\\n",
       "0                                    NaN   \n",
       "1                                Cordova   \n",
       "2  NumPy;Pandas;TensorFlow;Torch/PyTorch   \n",
       "3                                    NaN   \n",
       "4       Apache Spark;Hadoop;NumPy;Pandas   \n",
       "\n",
       "                        MiscTechWantToWorkWith     ToolsTechHaveWorkedWith  \\\n",
       "0                                          NaN                         NaN   \n",
       "1                                          NaN             Docker;Git;Yarn   \n",
       "2  Keras;NumPy;Pandas;TensorFlow;Torch/PyTorch                         NaN   \n",
       "3                                          NaN                         NaN   \n",
       "4                          Hadoop;NumPy;Pandas  Docker;Git;Kubernetes;Yarn   \n",
       "\n",
       "      ToolsTechWantToWorkWith  \\\n",
       "0                         NaN   \n",
       "1                         Git   \n",
       "2                         NaN   \n",
       "3                         NaN   \n",
       "4  Docker;Git;Kubernetes;Yarn   \n",
       "\n",
       "                        NEWCollabToolsHaveWorkedWith  \\\n",
       "0                                     PHPStorm;Xcode   \n",
       "1          Android Studio;IntelliJ;Notepad++;PyCharm   \n",
       "2  IPython/Jupyter;PyCharm;RStudio;Sublime Text;V...   \n",
       "3                                                NaN   \n",
       "4         Atom;IPython/Jupyter;Notepad++;PyCharm;Vim   \n",
       "\n",
       "                        NEWCollabToolsWantToWorkWith        OpSys  \\\n",
       "0                                         Atom;Xcode        MacOS   \n",
       "1                                                NaN      Windows   \n",
       "2  IPython/Jupyter;RStudio;Sublime Text;Visual St...        MacOS   \n",
       "3                                                NaN      Windows   \n",
       "4  Atom;IPython/Jupyter;Notepad++;PyCharm;Vim;Vis...  Linux-based   \n",
       "\n",
       "                                            NEWStuck  \\\n",
       "0  Call a coworker or friend;Visit Stack Overflow...   \n",
       "1                     Visit Stack Overflow;Google it   \n",
       "2  Visit Stack Overflow;Google it;Watch help / tu...   \n",
       "3  Call a coworker or friend;Visit Stack Overflow...   \n",
       "4  Visit Stack Overflow;Go for a walk or other ph...   \n",
       "\n",
       "                      NEWSOSites             SOVisitFreq SOAccount  \\\n",
       "0                 Stack Overflow  Multiple times per day       Yes   \n",
       "1                 Stack Overflow   Daily or almost daily       Yes   \n",
       "2  Stack Overflow;Stack Exchange  Multiple times per day       Yes   \n",
       "3                 Stack Overflow   Daily or almost daily       Yes   \n",
       "4  Stack Overflow;Stack Exchange   Daily or almost daily       Yes   \n",
       "\n",
       "                        SOPartFreq           SOComm NEWOtherComms  \\\n",
       "0  A few times per month or weekly  Yes, definitely            No   \n",
       "1            Daily or almost daily  Yes, definitely            No   \n",
       "2           Multiple times per day  Yes, definitely           Yes   \n",
       "3            Daily or almost daily          Neutral            No   \n",
       "4             A few times per week    Yes, somewhat            No   \n",
       "\n",
       "               Age Gender Trans                Sexuality  \\\n",
       "0  25-34 years old    Man    No  Straight / Heterosexual   \n",
       "1  18-24 years old    Man    No  Straight / Heterosexual   \n",
       "2  18-24 years old    Man    No        Prefer not to say   \n",
       "3  35-44 years old    Man    No  Straight / Heterosexual   \n",
       "4  25-34 years old    Man    No                      NaN   \n",
       "\n",
       "                      Ethnicity                Accessibility  \\\n",
       "0  White or of European descent            None of the above   \n",
       "1  White or of European descent            None of the above   \n",
       "2             Prefer not to say            None of the above   \n",
       "3  White or of European descent  I am deaf / hard of hearing   \n",
       "4  White or of European descent            None of the above   \n",
       "\n",
       "        MentalHealth           SurveyLength                  SurveyEase  \\\n",
       "0  None of the above  Appropriate in length                        Easy   \n",
       "1  None of the above  Appropriate in length                        Easy   \n",
       "2  None of the above  Appropriate in length                        Easy   \n",
       "3                NaN  Appropriate in length  Neither easy nor difficult   \n",
       "4                NaN  Appropriate in length                        Easy   \n",
       "\n",
       "   ConvertedCompYearly  \n",
       "0              62268.0  \n",
       "1                  NaN  \n",
       "2                  NaN  \n",
       "3                  NaN  \n",
       "4                  NaN  "
      ]
     },
     "execution_count": 2,
     "metadata": {},
     "output_type": "execute_result"
    }
   ],
   "source": [
    "pd.set_option('display.max_columns', None) # for displaying all columns\n",
    "df.head()"
   ]
  },
  {
   "cell_type": "code",
   "execution_count": 3,
   "metadata": {},
   "outputs": [],
   "source": [
    "# input features\n",
    "df = df[[\"Country\",\n",
    "         \"EdLevel\",\n",
    "         \"YearsCodePro\",\n",
    "         \"Employment\",\n",
    "         \"ConvertedCompYearly\",\n",
    "         \"DevType\",\n",
    "         \"LanguageHaveWorkedWith\",\n",
    "         \"MiscTechHaveWorkedWith\",\n",
    "         \"WebframeHaveWorkedWith\"]]"
   ]
  },
  {
   "cell_type": "code",
   "execution_count": 4,
   "metadata": {},
   "outputs": [
    {
     "data": {
      "text/html": [
       "<div><div id=8d370567-747a-46ff-9b66-653a324d447f style=\"display:none; background-color:#9D6CFF; color:white; width:200px; height:30px; padding-left:5px; border-radius:4px; flex-direction:row; justify-content:space-around; align-items:center;\" onmouseover=\"this.style.backgroundColor='#BA9BF8'\" onmouseout=\"this.style.backgroundColor='#9D6CFF'\" onclick=\"window.commands?.execute('create-mitosheet-from-dataframe-output');\">See Full Dataframe in Mito</div> <script> if (window.commands.hasCommand('create-mitosheet-from-dataframe-output')) document.getElementById('8d370567-747a-46ff-9b66-653a324d447f').style.display = 'flex' </script> <table border=\"1\" class=\"dataframe\">\n",
       "  <thead>\n",
       "    <tr style=\"text-align: right;\">\n",
       "      <th></th>\n",
       "      <th>Country</th>\n",
       "      <th>EdLevel</th>\n",
       "      <th>YearsCodePro</th>\n",
       "      <th>Employment</th>\n",
       "      <th>Salary</th>\n",
       "      <th>DevType</th>\n",
       "      <th>LanguageHaveWorkedWith</th>\n",
       "      <th>MiscTechHaveWorkedWith</th>\n",
       "      <th>WebframeHaveWorkedWith</th>\n",
       "    </tr>\n",
       "  </thead>\n",
       "  <tbody>\n",
       "    <tr>\n",
       "      <th>0</th>\n",
       "      <td>Slovakia</td>\n",
       "      <td>Secondary school (e.g. American high school, German Realschule or Gymnasium, etc.)</td>\n",
       "      <td>NaN</td>\n",
       "      <td>Independent contractor, freelancer, or self-employed</td>\n",
       "      <td>62268.0</td>\n",
       "      <td>Developer, mobile</td>\n",
       "      <td>C++;HTML/CSS;JavaScript;Objective-C;PHP;Swift</td>\n",
       "      <td>NaN</td>\n",
       "      <td>Laravel;Symfony</td>\n",
       "    </tr>\n",
       "    <tr>\n",
       "      <th>1</th>\n",
       "      <td>Netherlands</td>\n",
       "      <td>Bachelor’s degree (B.A., B.S., B.Eng., etc.)</td>\n",
       "      <td>NaN</td>\n",
       "      <td>Student, full-time</td>\n",
       "      <td>NaN</td>\n",
       "      <td>NaN</td>\n",
       "      <td>JavaScript;Python</td>\n",
       "      <td>Cordova</td>\n",
       "      <td>Angular;Flask;Vue.js</td>\n",
       "    </tr>\n",
       "    <tr>\n",
       "      <th>2</th>\n",
       "      <td>Russian Federation</td>\n",
       "      <td>Bachelor’s degree (B.A., B.S., B.Eng., etc.)</td>\n",
       "      <td>NaN</td>\n",
       "      <td>Student, full-time</td>\n",
       "      <td>NaN</td>\n",
       "      <td>NaN</td>\n",
       "      <td>Assembly;C;Python;R;Rust</td>\n",
       "      <td>NumPy;Pandas;TensorFlow;Torch/PyTorch</td>\n",
       "      <td>Flask</td>\n",
       "    </tr>\n",
       "    <tr>\n",
       "      <th>3</th>\n",
       "      <td>Austria</td>\n",
       "      <td>Master’s degree (M.A., M.S., M.Eng., MBA, etc.)</td>\n",
       "      <td>NaN</td>\n",
       "      <td>Employed full-time</td>\n",
       "      <td>NaN</td>\n",
       "      <td>Developer, front-end</td>\n",
       "      <td>JavaScript;TypeScript</td>\n",
       "      <td>NaN</td>\n",
       "      <td>Angular;jQuery</td>\n",
       "    </tr>\n",
       "    <tr>\n",
       "      <th>4</th>\n",
       "      <td>United Kingdom</td>\n",
       "      <td>Master’s degree (M.A., M.S., M.Eng., MBA, etc.)</td>\n",
       "      <td>10</td>\n",
       "      <td>Independent contractor, freelancer, or self-employed</td>\n",
       "      <td>NaN</td>\n",
       "      <td>Developer, desktop or enterprise applications;Developer, full-stack;Engineer, data;Other (please specify):</td>\n",
       "      <td>Bash/Shell;HTML/CSS;Python;SQL</td>\n",
       "      <td>Apache Spark;Hadoop;NumPy;Pandas</td>\n",
       "      <td>Flask</td>\n",
       "    </tr>\n",
       "  </tbody>\n",
       "</table></div>"
      ],
      "text/plain": [
       "              Country                                            EdLevel  \\\n",
       "0            Slovakia  Secondary school (e.g. American high school, G...   \n",
       "1         Netherlands       Bachelor’s degree (B.A., B.S., B.Eng., etc.)   \n",
       "2  Russian Federation       Bachelor’s degree (B.A., B.S., B.Eng., etc.)   \n",
       "3             Austria    Master’s degree (M.A., M.S., M.Eng., MBA, etc.)   \n",
       "4      United Kingdom    Master’s degree (M.A., M.S., M.Eng., MBA, etc.)   \n",
       "\n",
       "  YearsCodePro                                         Employment   Salary  \\\n",
       "0          NaN  Independent contractor, freelancer, or self-em...  62268.0   \n",
       "1          NaN                                 Student, full-time      NaN   \n",
       "2          NaN                                 Student, full-time      NaN   \n",
       "3          NaN                                 Employed full-time      NaN   \n",
       "4           10  Independent contractor, freelancer, or self-em...      NaN   \n",
       "\n",
       "                                             DevType  \\\n",
       "0                                  Developer, mobile   \n",
       "1                                                NaN   \n",
       "2                                                NaN   \n",
       "3                               Developer, front-end   \n",
       "4  Developer, desktop or enterprise applications;...   \n",
       "\n",
       "                          LanguageHaveWorkedWith  \\\n",
       "0  C++;HTML/CSS;JavaScript;Objective-C;PHP;Swift   \n",
       "1                              JavaScript;Python   \n",
       "2                       Assembly;C;Python;R;Rust   \n",
       "3                          JavaScript;TypeScript   \n",
       "4                 Bash/Shell;HTML/CSS;Python;SQL   \n",
       "\n",
       "                  MiscTechHaveWorkedWith WebframeHaveWorkedWith  \n",
       "0                                    NaN        Laravel;Symfony  \n",
       "1                                Cordova   Angular;Flask;Vue.js  \n",
       "2  NumPy;Pandas;TensorFlow;Torch/PyTorch                  Flask  \n",
       "3                                    NaN         Angular;jQuery  \n",
       "4       Apache Spark;Hadoop;NumPy;Pandas                  Flask  "
      ]
     },
     "execution_count": 4,
     "metadata": {},
     "output_type": "execute_result"
    }
   ],
   "source": [
    "df = df.rename({\"ConvertedCompYearly\": \"Salary\"}, axis=1)\n",
    "df.head()"
   ]
  },
  {
   "cell_type": "code",
   "execution_count": 5,
   "metadata": {},
   "outputs": [
    {
     "data": {
      "text/plain": [
       "Country                   0\n",
       "EdLevel                   0\n",
       "YearsCodePro              0\n",
       "Employment                0\n",
       "Salary                    0\n",
       "DevType                   0\n",
       "LanguageHaveWorkedWith    0\n",
       "MiscTechHaveWorkedWith    0\n",
       "WebframeHaveWorkedWith    0\n",
       "dtype: int64"
      ]
     },
     "execution_count": 5,
     "metadata": {},
     "output_type": "execute_result"
    }
   ],
   "source": [
    "# droping null vallues\n",
    "\n",
    "df = df[df[\"Salary\"].notnull()]\n",
    "df = df.dropna()\n",
    "df.isnull().sum()"
   ]
  },
  {
   "cell_type": "code",
   "execution_count": 6,
   "metadata": {},
   "outputs": [
    {
     "name": "stdout",
     "output_type": "stream",
     "text": [
      "<class 'pandas.core.frame.DataFrame'>\n",
      "Int64Index: 21613 entries, 12 to 83437\n",
      "Data columns (total 9 columns):\n",
      " #   Column                  Non-Null Count  Dtype  \n",
      "---  ------                  --------------  -----  \n",
      " 0   Country                 21613 non-null  object \n",
      " 1   EdLevel                 21613 non-null  object \n",
      " 2   YearsCodePro            21613 non-null  object \n",
      " 3   Employment              21613 non-null  object \n",
      " 4   Salary                  21613 non-null  float64\n",
      " 5   DevType                 21613 non-null  object \n",
      " 6   LanguageHaveWorkedWith  21613 non-null  object \n",
      " 7   MiscTechHaveWorkedWith  21613 non-null  object \n",
      " 8   WebframeHaveWorkedWith  21613 non-null  object \n",
      "dtypes: float64(1), object(8)\n",
      "memory usage: 1.6+ MB\n"
     ]
    }
   ],
   "source": [
    "df.info()"
   ]
  },
  {
   "cell_type": "markdown",
   "metadata": {},
   "source": [
    "considering only full time employed people and droping the employment column"
   ]
  },
  {
   "cell_type": "code",
   "execution_count": 7,
   "metadata": {},
   "outputs": [
    {
     "name": "stdout",
     "output_type": "stream",
     "text": [
      "<class 'pandas.core.frame.DataFrame'>\n",
      "Int64Index: 18568 entries, 12 to 83437\n",
      "Data columns (total 8 columns):\n",
      " #   Column                  Non-Null Count  Dtype  \n",
      "---  ------                  --------------  -----  \n",
      " 0   Country                 18568 non-null  object \n",
      " 1   EdLevel                 18568 non-null  object \n",
      " 2   YearsCodePro            18568 non-null  object \n",
      " 3   Salary                  18568 non-null  float64\n",
      " 4   DevType                 18568 non-null  object \n",
      " 5   LanguageHaveWorkedWith  18568 non-null  object \n",
      " 6   MiscTechHaveWorkedWith  18568 non-null  object \n",
      " 7   WebframeHaveWorkedWith  18568 non-null  object \n",
      "dtypes: float64(1), object(7)\n",
      "memory usage: 1.3+ MB\n"
     ]
    }
   ],
   "source": [
    "df = df[df[\"Employment\"] == \"Employed full-time\"]\n",
    "df = df.drop(\"Employment\", axis=1)\n",
    "df.info()"
   ]
  },
  {
   "cell_type": "code",
   "execution_count": 8,
   "metadata": {},
   "outputs": [
    {
     "data": {
      "text/plain": [
       "United States of America    4123\n",
       "India                       1613\n",
       "United Kingdom              1185\n",
       "Germany                     1089\n",
       "Canada                       716\n",
       "                            ... \n",
       "Botswana                       1\n",
       "Guinea                         1\n",
       "Madagascar                     1\n",
       "Benin                          1\n",
       "Mauritania                     1\n",
       "Name: Country, Length: 159, dtype: int64"
      ]
     },
     "execution_count": 8,
     "metadata": {},
     "output_type": "execute_result"
    }
   ],
   "source": [
    "df['Country'].value_counts()"
   ]
  },
  {
   "cell_type": "code",
   "execution_count": 9,
   "metadata": {},
   "outputs": [],
   "source": [
    "def shorten_categories(categories, cutoff):\n",
    "    return {\n",
    "        categories.index[i]: categories.index[i]\n",
    "        if categories.values[i] >= cutoff\n",
    "        else 'Other'\n",
    "        for i in range(len(categories))\n",
    "    }"
   ]
  },
  {
   "cell_type": "code",
   "execution_count": 10,
   "metadata": {},
   "outputs": [
    {
     "data": {
      "text/plain": [
       "Other                       5611\n",
       "United States of America    4123\n",
       "India                       1613\n",
       "United Kingdom              1185\n",
       "Germany                     1089\n",
       "Canada                       716\n",
       "Brazil                       680\n",
       "France                       560\n",
       "Australia                    404\n",
       "Spain                        392\n",
       "Italy                        378\n",
       "Netherlands                  374\n",
       "Sweden                       345\n",
       "Poland                       304\n",
       "Russian Federation           291\n",
       "Turkey                       283\n",
       "Mexico                       220\n",
       "Name: Country, dtype: int64"
      ]
     },
     "execution_count": 10,
     "metadata": {},
     "output_type": "execute_result"
    }
   ],
   "source": [
    "country_map = shorten_categories(df.Country.value_counts(), 200)\n",
    "df['Country'] = df['Country'].map(country_map)\n",
    "df.Country.value_counts()"
   ]
  },
  {
   "cell_type": "code",
   "execution_count": 11,
   "metadata": {},
   "outputs": [],
   "source": [
    "dataset_country = df.Country.value_counts()\n",
    "pd.DataFrame(dataset_country)\n",
    "dataset_country.to_csv('countries_shortened.csv')"
   ]
  },
  {
   "cell_type": "code",
   "execution_count": 12,
   "metadata": {},
   "outputs": [],
   "source": [
    "countries_csv = pd.read_csv('countries_shortened.csv')\n",
    "\n",
    "countries_csv.rename(columns={'Country': 'Count',\n",
    "                               'Unnamed: 0': 'Country'}, inplace=True)\n"
   ]
  },
  {
   "cell_type": "code",
   "execution_count": 13,
   "metadata": {},
   "outputs": [
    {
     "data": {
      "application/vnd.plotly.v1+json": {
       "config": {
        "plotlyServerURL": "https://plot.ly"
       },
       "data": [
        {
         "domain": {
          "x": [
           0,
           1
          ],
          "y": [
           0,
           1
          ]
         },
         "hovertemplate": "Country=%{label}<br>Count=%{value}<extra></extra>",
         "labels": [
          "Other",
          "United States of America",
          "India",
          "United Kingdom",
          "Germany",
          "Canada",
          "Brazil",
          "France",
          "Australia",
          "Spain",
          "Italy",
          "Netherlands",
          "Sweden",
          "Poland",
          "Russian Federation",
          "Turkey",
          "Mexico"
         ],
         "legendgroup": "",
         "name": "",
         "showlegend": true,
         "type": "pie",
         "values": [
          5611,
          4123,
          1613,
          1185,
          1089,
          716,
          680,
          560,
          404,
          392,
          378,
          374,
          345,
          304,
          291,
          283,
          220
         ]
        }
       ],
       "layout": {
        "legend": {
         "tracegroupgap": 0
        },
        "margin": {
         "t": 60
        },
        "template": {
         "data": {
          "bar": [
           {
            "error_x": {
             "color": "#2a3f5f"
            },
            "error_y": {
             "color": "#2a3f5f"
            },
            "marker": {
             "line": {
              "color": "#E5ECF6",
              "width": 0.5
             },
             "pattern": {
              "fillmode": "overlay",
              "size": 10,
              "solidity": 0.2
             }
            },
            "type": "bar"
           }
          ],
          "barpolar": [
           {
            "marker": {
             "line": {
              "color": "#E5ECF6",
              "width": 0.5
             },
             "pattern": {
              "fillmode": "overlay",
              "size": 10,
              "solidity": 0.2
             }
            },
            "type": "barpolar"
           }
          ],
          "carpet": [
           {
            "aaxis": {
             "endlinecolor": "#2a3f5f",
             "gridcolor": "white",
             "linecolor": "white",
             "minorgridcolor": "white",
             "startlinecolor": "#2a3f5f"
            },
            "baxis": {
             "endlinecolor": "#2a3f5f",
             "gridcolor": "white",
             "linecolor": "white",
             "minorgridcolor": "white",
             "startlinecolor": "#2a3f5f"
            },
            "type": "carpet"
           }
          ],
          "choropleth": [
           {
            "colorbar": {
             "outlinewidth": 0,
             "ticks": ""
            },
            "type": "choropleth"
           }
          ],
          "contour": [
           {
            "colorbar": {
             "outlinewidth": 0,
             "ticks": ""
            },
            "colorscale": [
             [
              0,
              "#0d0887"
             ],
             [
              0.1111111111111111,
              "#46039f"
             ],
             [
              0.2222222222222222,
              "#7201a8"
             ],
             [
              0.3333333333333333,
              "#9c179e"
             ],
             [
              0.4444444444444444,
              "#bd3786"
             ],
             [
              0.5555555555555556,
              "#d8576b"
             ],
             [
              0.6666666666666666,
              "#ed7953"
             ],
             [
              0.7777777777777778,
              "#fb9f3a"
             ],
             [
              0.8888888888888888,
              "#fdca26"
             ],
             [
              1,
              "#f0f921"
             ]
            ],
            "type": "contour"
           }
          ],
          "contourcarpet": [
           {
            "colorbar": {
             "outlinewidth": 0,
             "ticks": ""
            },
            "type": "contourcarpet"
           }
          ],
          "heatmap": [
           {
            "colorbar": {
             "outlinewidth": 0,
             "ticks": ""
            },
            "colorscale": [
             [
              0,
              "#0d0887"
             ],
             [
              0.1111111111111111,
              "#46039f"
             ],
             [
              0.2222222222222222,
              "#7201a8"
             ],
             [
              0.3333333333333333,
              "#9c179e"
             ],
             [
              0.4444444444444444,
              "#bd3786"
             ],
             [
              0.5555555555555556,
              "#d8576b"
             ],
             [
              0.6666666666666666,
              "#ed7953"
             ],
             [
              0.7777777777777778,
              "#fb9f3a"
             ],
             [
              0.8888888888888888,
              "#fdca26"
             ],
             [
              1,
              "#f0f921"
             ]
            ],
            "type": "heatmap"
           }
          ],
          "heatmapgl": [
           {
            "colorbar": {
             "outlinewidth": 0,
             "ticks": ""
            },
            "colorscale": [
             [
              0,
              "#0d0887"
             ],
             [
              0.1111111111111111,
              "#46039f"
             ],
             [
              0.2222222222222222,
              "#7201a8"
             ],
             [
              0.3333333333333333,
              "#9c179e"
             ],
             [
              0.4444444444444444,
              "#bd3786"
             ],
             [
              0.5555555555555556,
              "#d8576b"
             ],
             [
              0.6666666666666666,
              "#ed7953"
             ],
             [
              0.7777777777777778,
              "#fb9f3a"
             ],
             [
              0.8888888888888888,
              "#fdca26"
             ],
             [
              1,
              "#f0f921"
             ]
            ],
            "type": "heatmapgl"
           }
          ],
          "histogram": [
           {
            "marker": {
             "pattern": {
              "fillmode": "overlay",
              "size": 10,
              "solidity": 0.2
             }
            },
            "type": "histogram"
           }
          ],
          "histogram2d": [
           {
            "colorbar": {
             "outlinewidth": 0,
             "ticks": ""
            },
            "colorscale": [
             [
              0,
              "#0d0887"
             ],
             [
              0.1111111111111111,
              "#46039f"
             ],
             [
              0.2222222222222222,
              "#7201a8"
             ],
             [
              0.3333333333333333,
              "#9c179e"
             ],
             [
              0.4444444444444444,
              "#bd3786"
             ],
             [
              0.5555555555555556,
              "#d8576b"
             ],
             [
              0.6666666666666666,
              "#ed7953"
             ],
             [
              0.7777777777777778,
              "#fb9f3a"
             ],
             [
              0.8888888888888888,
              "#fdca26"
             ],
             [
              1,
              "#f0f921"
             ]
            ],
            "type": "histogram2d"
           }
          ],
          "histogram2dcontour": [
           {
            "colorbar": {
             "outlinewidth": 0,
             "ticks": ""
            },
            "colorscale": [
             [
              0,
              "#0d0887"
             ],
             [
              0.1111111111111111,
              "#46039f"
             ],
             [
              0.2222222222222222,
              "#7201a8"
             ],
             [
              0.3333333333333333,
              "#9c179e"
             ],
             [
              0.4444444444444444,
              "#bd3786"
             ],
             [
              0.5555555555555556,
              "#d8576b"
             ],
             [
              0.6666666666666666,
              "#ed7953"
             ],
             [
              0.7777777777777778,
              "#fb9f3a"
             ],
             [
              0.8888888888888888,
              "#fdca26"
             ],
             [
              1,
              "#f0f921"
             ]
            ],
            "type": "histogram2dcontour"
           }
          ],
          "mesh3d": [
           {
            "colorbar": {
             "outlinewidth": 0,
             "ticks": ""
            },
            "type": "mesh3d"
           }
          ],
          "parcoords": [
           {
            "line": {
             "colorbar": {
              "outlinewidth": 0,
              "ticks": ""
             }
            },
            "type": "parcoords"
           }
          ],
          "pie": [
           {
            "automargin": true,
            "type": "pie"
           }
          ],
          "scatter": [
           {
            "marker": {
             "colorbar": {
              "outlinewidth": 0,
              "ticks": ""
             }
            },
            "type": "scatter"
           }
          ],
          "scatter3d": [
           {
            "line": {
             "colorbar": {
              "outlinewidth": 0,
              "ticks": ""
             }
            },
            "marker": {
             "colorbar": {
              "outlinewidth": 0,
              "ticks": ""
             }
            },
            "type": "scatter3d"
           }
          ],
          "scattercarpet": [
           {
            "marker": {
             "colorbar": {
              "outlinewidth": 0,
              "ticks": ""
             }
            },
            "type": "scattercarpet"
           }
          ],
          "scattergeo": [
           {
            "marker": {
             "colorbar": {
              "outlinewidth": 0,
              "ticks": ""
             }
            },
            "type": "scattergeo"
           }
          ],
          "scattergl": [
           {
            "marker": {
             "colorbar": {
              "outlinewidth": 0,
              "ticks": ""
             }
            },
            "type": "scattergl"
           }
          ],
          "scattermapbox": [
           {
            "marker": {
             "colorbar": {
              "outlinewidth": 0,
              "ticks": ""
             }
            },
            "type": "scattermapbox"
           }
          ],
          "scatterpolar": [
           {
            "marker": {
             "colorbar": {
              "outlinewidth": 0,
              "ticks": ""
             }
            },
            "type": "scatterpolar"
           }
          ],
          "scatterpolargl": [
           {
            "marker": {
             "colorbar": {
              "outlinewidth": 0,
              "ticks": ""
             }
            },
            "type": "scatterpolargl"
           }
          ],
          "scatterternary": [
           {
            "marker": {
             "colorbar": {
              "outlinewidth": 0,
              "ticks": ""
             }
            },
            "type": "scatterternary"
           }
          ],
          "surface": [
           {
            "colorbar": {
             "outlinewidth": 0,
             "ticks": ""
            },
            "colorscale": [
             [
              0,
              "#0d0887"
             ],
             [
              0.1111111111111111,
              "#46039f"
             ],
             [
              0.2222222222222222,
              "#7201a8"
             ],
             [
              0.3333333333333333,
              "#9c179e"
             ],
             [
              0.4444444444444444,
              "#bd3786"
             ],
             [
              0.5555555555555556,
              "#d8576b"
             ],
             [
              0.6666666666666666,
              "#ed7953"
             ],
             [
              0.7777777777777778,
              "#fb9f3a"
             ],
             [
              0.8888888888888888,
              "#fdca26"
             ],
             [
              1,
              "#f0f921"
             ]
            ],
            "type": "surface"
           }
          ],
          "table": [
           {
            "cells": {
             "fill": {
              "color": "#EBF0F8"
             },
             "line": {
              "color": "white"
             }
            },
            "header": {
             "fill": {
              "color": "#C8D4E3"
             },
             "line": {
              "color": "white"
             }
            },
            "type": "table"
           }
          ]
         },
         "layout": {
          "annotationdefaults": {
           "arrowcolor": "#2a3f5f",
           "arrowhead": 0,
           "arrowwidth": 1
          },
          "autotypenumbers": "strict",
          "coloraxis": {
           "colorbar": {
            "outlinewidth": 0,
            "ticks": ""
           }
          },
          "colorscale": {
           "diverging": [
            [
             0,
             "#8e0152"
            ],
            [
             0.1,
             "#c51b7d"
            ],
            [
             0.2,
             "#de77ae"
            ],
            [
             0.3,
             "#f1b6da"
            ],
            [
             0.4,
             "#fde0ef"
            ],
            [
             0.5,
             "#f7f7f7"
            ],
            [
             0.6,
             "#e6f5d0"
            ],
            [
             0.7,
             "#b8e186"
            ],
            [
             0.8,
             "#7fbc41"
            ],
            [
             0.9,
             "#4d9221"
            ],
            [
             1,
             "#276419"
            ]
           ],
           "sequential": [
            [
             0,
             "#0d0887"
            ],
            [
             0.1111111111111111,
             "#46039f"
            ],
            [
             0.2222222222222222,
             "#7201a8"
            ],
            [
             0.3333333333333333,
             "#9c179e"
            ],
            [
             0.4444444444444444,
             "#bd3786"
            ],
            [
             0.5555555555555556,
             "#d8576b"
            ],
            [
             0.6666666666666666,
             "#ed7953"
            ],
            [
             0.7777777777777778,
             "#fb9f3a"
            ],
            [
             0.8888888888888888,
             "#fdca26"
            ],
            [
             1,
             "#f0f921"
            ]
           ],
           "sequentialminus": [
            [
             0,
             "#0d0887"
            ],
            [
             0.1111111111111111,
             "#46039f"
            ],
            [
             0.2222222222222222,
             "#7201a8"
            ],
            [
             0.3333333333333333,
             "#9c179e"
            ],
            [
             0.4444444444444444,
             "#bd3786"
            ],
            [
             0.5555555555555556,
             "#d8576b"
            ],
            [
             0.6666666666666666,
             "#ed7953"
            ],
            [
             0.7777777777777778,
             "#fb9f3a"
            ],
            [
             0.8888888888888888,
             "#fdca26"
            ],
            [
             1,
             "#f0f921"
            ]
           ]
          },
          "colorway": [
           "#636efa",
           "#EF553B",
           "#00cc96",
           "#ab63fa",
           "#FFA15A",
           "#19d3f3",
           "#FF6692",
           "#B6E880",
           "#FF97FF",
           "#FECB52"
          ],
          "font": {
           "color": "#2a3f5f"
          },
          "geo": {
           "bgcolor": "white",
           "lakecolor": "white",
           "landcolor": "#E5ECF6",
           "showlakes": true,
           "showland": true,
           "subunitcolor": "white"
          },
          "hoverlabel": {
           "align": "left"
          },
          "hovermode": "closest",
          "mapbox": {
           "style": "light"
          },
          "paper_bgcolor": "white",
          "plot_bgcolor": "#E5ECF6",
          "polar": {
           "angularaxis": {
            "gridcolor": "white",
            "linecolor": "white",
            "ticks": ""
           },
           "bgcolor": "#E5ECF6",
           "radialaxis": {
            "gridcolor": "white",
            "linecolor": "white",
            "ticks": ""
           }
          },
          "scene": {
           "xaxis": {
            "backgroundcolor": "#E5ECF6",
            "gridcolor": "white",
            "gridwidth": 2,
            "linecolor": "white",
            "showbackground": true,
            "ticks": "",
            "zerolinecolor": "white"
           },
           "yaxis": {
            "backgroundcolor": "#E5ECF6",
            "gridcolor": "white",
            "gridwidth": 2,
            "linecolor": "white",
            "showbackground": true,
            "ticks": "",
            "zerolinecolor": "white"
           },
           "zaxis": {
            "backgroundcolor": "#E5ECF6",
            "gridcolor": "white",
            "gridwidth": 2,
            "linecolor": "white",
            "showbackground": true,
            "ticks": "",
            "zerolinecolor": "white"
           }
          },
          "shapedefaults": {
           "line": {
            "color": "#2a3f5f"
           }
          },
          "ternary": {
           "aaxis": {
            "gridcolor": "white",
            "linecolor": "white",
            "ticks": ""
           },
           "baxis": {
            "gridcolor": "white",
            "linecolor": "white",
            "ticks": ""
           },
           "bgcolor": "#E5ECF6",
           "caxis": {
            "gridcolor": "white",
            "linecolor": "white",
            "ticks": ""
           }
          },
          "title": {
           "x": 0.05
          },
          "xaxis": {
           "automargin": true,
           "gridcolor": "white",
           "linecolor": "white",
           "ticks": "",
           "title": {
            "standoff": 15
           },
           "zerolinecolor": "white",
           "zerolinewidth": 2
          },
          "yaxis": {
           "automargin": true,
           "gridcolor": "white",
           "linecolor": "white",
           "ticks": "",
           "title": {
            "standoff": 15
           },
           "zerolinecolor": "white",
           "zerolinewidth": 2
          }
         }
        }
       }
      }
     },
     "metadata": {},
     "output_type": "display_data"
    }
   ],
   "source": [
    "import plotly.express as px\n",
    "\n",
    "fig = px.pie(countries_csv, values='Count', names='Country')\n",
    "fig.show()"
   ]
  },
  {
   "cell_type": "code",
   "execution_count": 14,
   "metadata": {},
   "outputs": [
    {
     "data": {
      "image/png": "[encoded data removed]",
      "text/plain": [
       "<Figure size 864x504 with 1 Axes>"
      ]
     },
     "metadata": {
      "needs_background": "light"
     },
     "output_type": "display_data"
    }
   ],
   "source": [
    "fig, ax = plt.subplots(1,1, figsize=(12, 7))\n",
    "df.boxplot('Salary', 'Country', ax=ax)\n",
    "plt.suptitle('Salary (US$) v Country')\n",
    "plt.title('')\n",
    "plt.ylabel('Salary')\n",
    "plt.xticks(rotation=90)\n",
    "plt.show()"
   ]
  },
  {
   "cell_type": "code",
   "execution_count": 15,
   "metadata": {},
   "outputs": [],
   "source": [
    "df = df[df[\"Salary\"] <= 250000]\n",
    "df = df[df[\"Salary\"] >= 8000]\n",
    "df = df[df['Country'] != 'Other']"
   ]
  },
  {
   "cell_type": "code",
   "execution_count": 16,
   "metadata": {},
   "outputs": [
    {
     "data": {
      "image/png": "[encoded data removed]",
      "text/plain": [
       "<Figure size 864x504 with 1 Axes>"
      ]
     },
     "metadata": {
      "needs_background": "light"
     },
     "output_type": "display_data"
    }
   ],
   "source": [
    "fig, ax = plt.subplots(1,1, figsize=(12, 7))\n",
    "df.boxplot('Salary', 'Country', ax=ax)\n",
    "plt.suptitle('Salary (US$) v Country')\n",
    "plt.title('')\n",
    "plt.ylabel('Salary')\n",
    "plt.xticks(rotation=90)\n",
    "plt.show()"
   ]
  },
  {
   "cell_type": "markdown",
   "metadata": {},
   "source": [
    "---\n",
    "# Label Encoding\n",
    "---"
   ]
  },
  {
   "cell_type": "code",
   "execution_count": 17,
   "metadata": {},
   "outputs": [
    {
     "data": {
      "text/plain": [
       "array(['Germany', 'Turkey', 'Brazil', 'United Kingdom', 'Italy',\n",
       "       'Russian Federation', 'Canada', 'Poland', 'Netherlands',\n",
       "       'United States of America', 'France', 'Australia', 'India',\n",
       "       'Spain', 'Sweden', 'Mexico'], dtype=object)"
      ]
     },
     "execution_count": 17,
     "metadata": {},
     "output_type": "execute_result"
    }
   ],
   "source": [
    "df[\"Country\"].unique()\n",
    "countrylist = df[\"Country\"].unique()\n",
    "countrylist"
   ]
  },
  {
   "cell_type": "code",
   "execution_count": 18,
   "metadata": {},
   "outputs": [
    {
     "data": {
      "text/plain": [
       "array([ 4, 13,  1, 14,  6, 10,  2,  9,  8, 15,  3,  0,  5, 11, 12,  7])"
      ]
     },
     "execution_count": 18,
     "metadata": {},
     "output_type": "execute_result"
    }
   ],
   "source": [
    "from sklearn.preprocessing import LabelEncoder\n",
    "le_country = LabelEncoder()\n",
    "df['Country'] = le_country.fit_transform(df['Country'])\n",
    "countrylist_le = df[\"Country\"].unique()\n",
    "countrylist_le"
   ]
  },
  {
   "cell_type": "code",
   "execution_count": 19,
   "metadata": {},
   "outputs": [],
   "source": [
    "country_dict = dict(zip(countrylist, countrylist_le))"
   ]
  },
  {
   "cell_type": "markdown",
   "metadata": {},
   "source": [
    "Label Encoded Values and Countries"
   ]
  },
  {
   "cell_type": "code",
   "execution_count": 20,
   "metadata": {},
   "outputs": [
    {
     "data": {
      "text/plain": [
       "{'Germany': 4,\n",
       " 'Turkey': 13,\n",
       " 'Brazil': 1,\n",
       " 'United Kingdom': 14,\n",
       " 'Italy': 6,\n",
       " 'Russian Federation': 10,\n",
       " 'Canada': 2,\n",
       " 'Poland': 9,\n",
       " 'Netherlands': 8,\n",
       " 'United States of America': 15,\n",
       " 'France': 3,\n",
       " 'Australia': 0,\n",
       " 'India': 5,\n",
       " 'Spain': 11,\n",
       " 'Sweden': 12,\n",
       " 'Mexico': 7}"
      ]
     },
     "execution_count": 20,
     "metadata": {},
     "output_type": "execute_result"
    }
   ],
   "source": [
    "country_dict"
   ]
  },
  {
   "cell_type": "markdown",
   "metadata": {},
   "source": [
    "---\n",
    "## Label Encoding Experience column\n",
    "---"
   ]
  },
  {
   "cell_type": "code",
   "execution_count": 21,
   "metadata": {},
   "outputs": [
    {
     "data": {
      "text/plain": [
       "array(['6', '2', '15', '12', '16', '3', '10', '8', '17', '14', '1', '5',\n",
       "       '11', '25', '4', '24', '13', '9', '7', '26', '39', '20', '21',\n",
       "       '23', '30', '19', 'Less than 1 year', '33', '18', '37', '35', '31',\n",
       "       '28', '22', '27', '29', '32', '42', '40', '34', '36', '44', '41',\n",
       "       '50', '38', '47', '43', '45', 'More than 50 years'], dtype=object)"
      ]
     },
     "execution_count": 21,
     "metadata": {},
     "output_type": "execute_result"
    }
   ],
   "source": [
    "df[\"YearsCodePro\"].unique()"
   ]
  },
  {
   "cell_type": "code",
   "execution_count": 22,
   "metadata": {},
   "outputs": [],
   "source": [
    "def clean_experience(x):\n",
    "    if x ==  'More than 50 years':\n",
    "        return 50\n",
    "    if x == 'Less than 1 year':\n",
    "        return 0.5\n",
    "    return float(x)\n",
    "\n",
    "df['YearsCodePro'] = df['YearsCodePro'].apply(clean_experience)"
   ]
  },
  {
   "cell_type": "code",
   "execution_count": 23,
   "metadata": {},
   "outputs": [
    {
     "data": {
      "text/plain": [
       "array([ 6. ,  2. , 15. , 12. , 16. ,  3. , 10. ,  8. , 17. , 14. ,  1. ,\n",
       "        5. , 11. , 25. ,  4. , 24. , 13. ,  9. ,  7. , 26. , 39. , 20. ,\n",
       "       21. , 23. , 30. , 19. ,  0.5, 33. , 18. , 37. , 35. , 31. , 28. ,\n",
       "       22. , 27. , 29. , 32. , 42. , 40. , 34. , 36. , 44. , 41. , 50. ,\n",
       "       38. , 47. , 43. , 45. ])"
      ]
     },
     "execution_count": 23,
     "metadata": {},
     "output_type": "execute_result"
    }
   ],
   "source": [
    "df[\"YearsCodePro\"].unique()"
   ]
  },
  {
   "cell_type": "markdown",
   "metadata": {},
   "source": [
    "---\n",
    "## Label Encoding: Education Level\n",
    "---"
   ]
  },
  {
   "cell_type": "code",
   "execution_count": 24,
   "metadata": {},
   "outputs": [
    {
     "data": {
      "text/plain": [
       "array(['Master’s degree (M.A., M.S., M.Eng., MBA, etc.)',\n",
       "       'Bachelor’s degree (B.A., B.S., B.Eng., etc.)',\n",
       "       'Professional degree (JD, MD, etc.)',\n",
       "       'Some college/university study without earning a degree',\n",
       "       'Other doctoral degree (Ph.D., Ed.D., etc.)', 'Something else',\n",
       "       'Primary/elementary school', 'Associate degree (A.A., A.S., etc.)',\n",
       "       'Secondary school (e.g. American high school, German Realschule or Gymnasium, etc.)'],\n",
       "      dtype=object)"
      ]
     },
     "execution_count": 24,
     "metadata": {},
     "output_type": "execute_result"
    }
   ],
   "source": [
    "df[\"EdLevel\"].unique()"
   ]
  },
  {
   "cell_type": "code",
   "execution_count": 25,
   "metadata": {},
   "outputs": [],
   "source": [
    "def clean_education(x):\n",
    "    if 'Bachelor’s degree' in x:\n",
    "        return 'Bachelor’s degree'\n",
    "    if 'Master’s degree' in x:\n",
    "        return 'Master’s degree'\n",
    "    if 'Professional degree' in x or 'Other doctoral' in x:\n",
    "        return 'Post grad'\n",
    "    return 'Less than a Bachelors'\n",
    "\n",
    "df['EdLevel'] = df['EdLevel'].apply(clean_education)"
   ]
  },
  {
   "cell_type": "code",
   "execution_count": 26,
   "metadata": {},
   "outputs": [],
   "source": [
    "edulevel_list = df[\"EdLevel\"].unique()"
   ]
  },
  {
   "cell_type": "code",
   "execution_count": 27,
   "metadata": {},
   "outputs": [
    {
     "data": {
      "text/plain": [
       "array([2, 0, 3, 1])"
      ]
     },
     "execution_count": 27,
     "metadata": {},
     "output_type": "execute_result"
    }
   ],
   "source": [
    "le_education = LabelEncoder()\n",
    "df['EdLevel'] = le_education.fit_transform(df['EdLevel'])\n",
    "df[\"EdLevel\"].unique()"
   ]
  },
  {
   "cell_type": "code",
   "execution_count": 28,
   "metadata": {},
   "outputs": [
    {
     "data": {
      "text/plain": [
       "{'Master’s degree': 2,\n",
       " 'Bachelor’s degree': 0,\n",
       " 'Post grad': 3,\n",
       " 'Less than a Bachelors': 1}"
      ]
     },
     "execution_count": 28,
     "metadata": {},
     "output_type": "execute_result"
    }
   ],
   "source": [
    "edulevel_dict = dict(zip(edulevel_list, df[\"EdLevel\"].unique()))\n",
    "edulevel_dict"
   ]
  },
  {
   "cell_type": "markdown",
   "metadata": {},
   "source": [
    "---\n",
    "## Label Encoding: Developer Type\n",
    "---"
   ]
  },
  {
   "cell_type": "code",
   "execution_count": 29,
   "metadata": {},
   "outputs": [
    {
     "data": {
      "text/html": [
       "<div><div id=f638f628-465a-495e-a0ca-3ccddbcf6797 style=\"display:none; background-color:#9D6CFF; color:white; width:200px; height:30px; padding-left:5px; border-radius:4px; flex-direction:row; justify-content:space-around; align-items:center;\" onmouseover=\"this.style.backgroundColor='#BA9BF8'\" onmouseout=\"this.style.backgroundColor='#9D6CFF'\" onclick=\"window.commands?.execute('create-mitosheet-from-dataframe-output');\">See Full Dataframe in Mito</div> <script> if (window.commands.hasCommand('create-mitosheet-from-dataframe-output')) document.getElementById('f638f628-465a-495e-a0ca-3ccddbcf6797').style.display = 'flex' </script> <table border=\"1\" class=\"dataframe\">\n",
       "  <thead>\n",
       "    <tr style=\"text-align: right;\">\n",
       "      <th></th>\n",
       "      <th>Country</th>\n",
       "      <th>EdLevel</th>\n",
       "      <th>YearsCodePro</th>\n",
       "      <th>Salary</th>\n",
       "      <th>DevType</th>\n",
       "      <th>LanguageHaveWorkedWith</th>\n",
       "      <th>MiscTechHaveWorkedWith</th>\n",
       "      <th>WebframeHaveWorkedWith</th>\n",
       "    </tr>\n",
       "  </thead>\n",
       "  <tbody>\n",
       "    <tr>\n",
       "      <th>12</th>\n",
       "      <td>4</td>\n",
       "      <td>2</td>\n",
       "      <td>6.0</td>\n",
       "      <td>77290.0</td>\n",
       "      <td>Developer, desktop or enterprise applications;Developer, back-end</td>\n",
       "      <td>C;C++;Java;Perl;Ruby</td>\n",
       "      <td>Qt</td>\n",
       "      <td>Ruby on Rails</td>\n",
       "    </tr>\n",
       "    <tr>\n",
       "      <th>16</th>\n",
       "      <td>13</td>\n",
       "      <td>0</td>\n",
       "      <td>2.0</td>\n",
       "      <td>17748.0</td>\n",
       "      <td>Developer, full-stack</td>\n",
       "      <td>C#;HTML/CSS;Java;JavaScript;Node.js</td>\n",
       "      <td>.NET Core / .NET 5;Flutter</td>\n",
       "      <td>Angular;ASP.NET Core ;Spring</td>\n",
       "    </tr>\n",
       "  </tbody>\n",
       "</table></div>"
      ],
      "text/plain": [
       "    Country  EdLevel  YearsCodePro   Salary  \\\n",
       "12        4        2           6.0  77290.0   \n",
       "16       13        0           2.0  17748.0   \n",
       "\n",
       "                                              DevType  \\\n",
       "12  Developer, desktop or enterprise applications;...   \n",
       "16                              Developer, full-stack   \n",
       "\n",
       "                 LanguageHaveWorkedWith      MiscTechHaveWorkedWith  \\\n",
       "12                 C;C++;Java;Perl;Ruby                          Qt   \n",
       "16  C#;HTML/CSS;Java;JavaScript;Node.js  .NET Core / .NET 5;Flutter   \n",
       "\n",
       "          WebframeHaveWorkedWith  \n",
       "12                 Ruby on Rails  \n",
       "16  Angular;ASP.NET Core ;Spring  "
      ]
     },
     "execution_count": 29,
     "metadata": {},
     "output_type": "execute_result"
    }
   ],
   "source": [
    "df.head(2)"
   ]
  },
  {
   "cell_type": "code",
   "execution_count": 30,
   "metadata": {},
   "outputs": [
    {
     "data": {
      "text/plain": [
       "array(['Developer, desktop or enterprise applications;Developer, back-end',\n",
       "       'Developer, full-stack', 'Developer, game or graphics', ...,\n",
       "       'Developer, mobile;Developer, front-end;Developer, full-stack;Scientist;Developer, game or graphics;Engineering manager;Educator',\n",
       "       'Developer, front-end;Developer, full-stack;Developer, back-end;Database administrator;Developer, QA or test;DevOps specialist;Designer;System administrator;Product manager',\n",
       "       'Developer, front-end;Developer, desktop or enterprise applications;Developer, full-stack;Developer, back-end;Developer, QA or test;Developer, embedded applications or devices;Engineering manager;Educator'],\n",
       "      dtype=object)"
      ]
     },
     "execution_count": 30,
     "metadata": {},
     "output_type": "execute_result"
    }
   ],
   "source": [
    "df[\"DevType\"].unique()"
   ]
  },
  {
   "cell_type": "code",
   "execution_count": 31,
   "metadata": {},
   "outputs": [],
   "source": [
    "def clean_devtype(x):\n",
    "    if 'back-end' in x:\n",
    "        return 'Back-End Developer'\n",
    "    if 'full-stack' in x:\n",
    "        return 'Full-Stack Developer'\n",
    "    if 'front-end' in x:\n",
    "        return 'Front-End Developer'\n",
    "    if 'Database administrator' in x:\n",
    "        return 'Database Administrator'\n",
    "    if 'DevOps specialist' in x:\n",
    "        return 'DevOps Specialist'\n",
    "    if 'Product manager' in x:\n",
    "        return 'Product Manager'\n",
    "    if 'mobile' in x:\n",
    "        return 'Mobile Developer'\n",
    "    if 'game or graphics' in x:\n",
    "        return 'Gaming/Graphics Developer'\n",
    "    if 'Data scientist or machine learning specialist' in x:\n",
    "        return \"Data Science/Machine Learning Developer\"\n",
    "    return 'Other'\n",
    "\n",
    "df['DevType'] = df['DevType'].apply(clean_devtype)"
   ]
  },
  {
   "cell_type": "code",
   "execution_count": 32,
   "metadata": {},
   "outputs": [],
   "source": [
    "devtype_list = df[\"DevType\"].unique()"
   ]
  },
  {
   "cell_type": "code",
   "execution_count": 33,
   "metadata": {},
   "outputs": [
    {
     "data": {
      "text/plain": [
       "array([0, 5, 6, 1, 3, 4, 2, 8, 7, 9])"
      ]
     },
     "execution_count": 33,
     "metadata": {},
     "output_type": "execute_result"
    }
   ],
   "source": [
    "le_devtype = LabelEncoder()\n",
    "df[\"DevType\"] = le_devtype.fit_transform(df['DevType'])\n",
    "developers = df[\"DevType\"].unique()\n",
    "df[\"DevType\"].unique()"
   ]
  },
  {
   "cell_type": "code",
   "execution_count": 34,
   "metadata": {},
   "outputs": [
    {
     "data": {
      "text/plain": [
       "{'Back-End Developer': 0,\n",
       " 'Full-Stack Developer': 5,\n",
       " 'Gaming/Graphics Developer': 6,\n",
       " 'Data Science/Machine Learning Developer': 1,\n",
       " 'DevOps Specialist': 3,\n",
       " 'Front-End Developer': 4,\n",
       " 'Database Administrator': 2,\n",
       " 'Other': 8,\n",
       " 'Mobile Developer': 7,\n",
       " 'Product Manager': 9}"
      ]
     },
     "execution_count": 34,
     "metadata": {},
     "output_type": "execute_result"
    }
   ],
   "source": [
    "dectypedict = dict(zip(devtype_list, developers))\n",
    "dectypedict"
   ]
  },
  {
   "cell_type": "markdown",
   "metadata": {},
   "source": [
    "---\n",
    "## Label Encoding: Languages\n",
    "---"
   ]
  },
  {
   "cell_type": "code",
   "execution_count": 35,
   "metadata": {},
   "outputs": [
    {
     "data": {
      "text/html": [
       "<div><div id=b9a3c574-408a-427f-bc39-d544b7b445cd style=\"display:none; background-color:#9D6CFF; color:white; width:200px; height:30px; padding-left:5px; border-radius:4px; flex-direction:row; justify-content:space-around; align-items:center;\" onmouseover=\"this.style.backgroundColor='#BA9BF8'\" onmouseout=\"this.style.backgroundColor='#9D6CFF'\" onclick=\"window.commands?.execute('create-mitosheet-from-dataframe-output');\">See Full Dataframe in Mito</div> <script> if (window.commands.hasCommand('create-mitosheet-from-dataframe-output')) document.getElementById('b9a3c574-408a-427f-bc39-d544b7b445cd').style.display = 'flex' </script> <table border=\"1\" class=\"dataframe\">\n",
       "  <thead>\n",
       "    <tr style=\"text-align: right;\">\n",
       "      <th></th>\n",
       "      <th>Country</th>\n",
       "      <th>EdLevel</th>\n",
       "      <th>YearsCodePro</th>\n",
       "      <th>Salary</th>\n",
       "      <th>DevType</th>\n",
       "      <th>LanguageHaveWorkedWith</th>\n",
       "      <th>MiscTechHaveWorkedWith</th>\n",
       "      <th>WebframeHaveWorkedWith</th>\n",
       "    </tr>\n",
       "  </thead>\n",
       "  <tbody>\n",
       "    <tr>\n",
       "      <th>12</th>\n",
       "      <td>4</td>\n",
       "      <td>2</td>\n",
       "      <td>6.0</td>\n",
       "      <td>77290.0</td>\n",
       "      <td>0</td>\n",
       "      <td>C;C++;Java;Perl;Ruby</td>\n",
       "      <td>Qt</td>\n",
       "      <td>Ruby on Rails</td>\n",
       "    </tr>\n",
       "    <tr>\n",
       "      <th>16</th>\n",
       "      <td>13</td>\n",
       "      <td>0</td>\n",
       "      <td>2.0</td>\n",
       "      <td>17748.0</td>\n",
       "      <td>5</td>\n",
       "      <td>C#;HTML/CSS;Java;JavaScript;Node.js</td>\n",
       "      <td>.NET Core / .NET 5;Flutter</td>\n",
       "      <td>Angular;ASP.NET Core ;Spring</td>\n",
       "    </tr>\n",
       "  </tbody>\n",
       "</table></div>"
      ],
      "text/plain": [
       "    Country  EdLevel  YearsCodePro   Salary  DevType  \\\n",
       "12        4        2           6.0  77290.0        0   \n",
       "16       13        0           2.0  17748.0        5   \n",
       "\n",
       "                 LanguageHaveWorkedWith      MiscTechHaveWorkedWith  \\\n",
       "12                 C;C++;Java;Perl;Ruby                          Qt   \n",
       "16  C#;HTML/CSS;Java;JavaScript;Node.js  .NET Core / .NET 5;Flutter   \n",
       "\n",
       "          WebframeHaveWorkedWith  \n",
       "12                 Ruby on Rails  \n",
       "16  Angular;ASP.NET Core ;Spring  "
      ]
     },
     "execution_count": 35,
     "metadata": {},
     "output_type": "execute_result"
    }
   ],
   "source": [
    "df.head(2)"
   ]
  },
  {
   "cell_type": "code",
   "execution_count": 36,
   "metadata": {},
   "outputs": [
    {
     "data": {
      "text/plain": [
       "array(['C;C++;Java;Perl;Ruby', 'C#;HTML/CSS;Java;JavaScript;Node.js',\n",
       "       'Assembly;C;C#;C++;HTML/CSS;Java;JavaScript;Matlab;Node.js;SQL',\n",
       "       ..., 'Bash/Shell;F#;HTML/CSS;JavaScript;Node.js;SQL',\n",
       "       'Bash/Shell;C#;C++;Go;Groovy;HTML/CSS;Java;JavaScript;Kotlin;Node.js;PHP;Python;Scala;SQL;TypeScript',\n",
       "       'Bash/Shell;Node.js;TypeScript'], dtype=object)"
      ]
     },
     "execution_count": 36,
     "metadata": {},
     "output_type": "execute_result"
    }
   ],
   "source": [
    "df[\"LanguageHaveWorkedWith\"].unique()"
   ]
  },
  {
   "cell_type": "code",
   "execution_count": 37,
   "metadata": {},
   "outputs": [],
   "source": [
    "def clean_LanguageHaveWorkedWith(x):\n",
    "    if 'C' in x or 'C++' in x:\n",
    "        return 'C/C++'\n",
    "    if 'Java' in x:\n",
    "        return 'Java'\n",
    "    if 'Python' in x or 'Go' in x:\n",
    "        return 'Python, Go'\n",
    "    if 'HTML' in x or 'CSS' in x or 'JavaScript' in x or 'Node.js' in x:\n",
    "        return 'HTML/CSS, JavaScript, Node.js'\n",
    "    if 'Kotlin' in x or 'Swift' in x:\n",
    "        return 'Kotlin, Swift'\n",
    "    return 'Other'\n",
    "\n",
    "df['LanguageHaveWorkedWith'] = df['LanguageHaveWorkedWith'].apply(clean_LanguageHaveWorkedWith)"
   ]
  },
  {
   "cell_type": "code",
   "execution_count": 38,
   "metadata": {},
   "outputs": [],
   "source": [
    "language_list = df[\"LanguageHaveWorkedWith\"].unique()"
   ]
  },
  {
   "cell_type": "code",
   "execution_count": 39,
   "metadata": {},
   "outputs": [],
   "source": [
    "le_languges = LabelEncoder()\n",
    "df['LanguageHaveWorkedWith'] = le_languges.fit_transform(df['LanguageHaveWorkedWith'])\n",
    "df[\"LanguageHaveWorkedWith\"].unique()\n",
    "language_list_le = df[\"LanguageHaveWorkedWith\"].unique()\n"
   ]
  },
  {
   "cell_type": "code",
   "execution_count": 40,
   "metadata": {},
   "outputs": [],
   "source": [
    "language_dict = dict(zip(language_list, language_list_le))"
   ]
  },
  {
   "cell_type": "code",
   "execution_count": 41,
   "metadata": {},
   "outputs": [
    {
     "data": {
      "text/plain": [
       "{'C/C++': 0,\n",
       " 'Python, Go': 5,\n",
       " 'Java': 2,\n",
       " 'Kotlin, Swift': 3,\n",
       " 'Other': 4,\n",
       " 'HTML/CSS, JavaScript, Node.js': 1}"
      ]
     },
     "execution_count": 41,
     "metadata": {},
     "output_type": "execute_result"
    }
   ],
   "source": [
    "language_dict"
   ]
  },
  {
   "cell_type": "markdown",
   "metadata": {},
   "source": [
    "---\n",
    "## Label Encoding: technology worked with\n",
    "---"
   ]
  },
  {
   "cell_type": "code",
   "execution_count": 42,
   "metadata": {},
   "outputs": [
    {
     "data": {
      "text/html": [
       "<div><div id=3679e4ec-f5a8-4f44-ad17-e0a102c4822e style=\"display:none; background-color:#9D6CFF; color:white; width:200px; height:30px; padding-left:5px; border-radius:4px; flex-direction:row; justify-content:space-around; align-items:center;\" onmouseover=\"this.style.backgroundColor='#BA9BF8'\" onmouseout=\"this.style.backgroundColor='#9D6CFF'\" onclick=\"window.commands?.execute('create-mitosheet-from-dataframe-output');\">See Full Dataframe in Mito</div> <script> if (window.commands.hasCommand('create-mitosheet-from-dataframe-output')) document.getElementById('3679e4ec-f5a8-4f44-ad17-e0a102c4822e').style.display = 'flex' </script> <table border=\"1\" class=\"dataframe\">\n",
       "  <thead>\n",
       "    <tr style=\"text-align: right;\">\n",
       "      <th></th>\n",
       "      <th>Country</th>\n",
       "      <th>EdLevel</th>\n",
       "      <th>YearsCodePro</th>\n",
       "      <th>Salary</th>\n",
       "      <th>DevType</th>\n",
       "      <th>LanguageHaveWorkedWith</th>\n",
       "      <th>MiscTechHaveWorkedWith</th>\n",
       "      <th>WebframeHaveWorkedWith</th>\n",
       "    </tr>\n",
       "  </thead>\n",
       "  <tbody>\n",
       "    <tr>\n",
       "      <th>12</th>\n",
       "      <td>4</td>\n",
       "      <td>2</td>\n",
       "      <td>6.0</td>\n",
       "      <td>77290.0</td>\n",
       "      <td>0</td>\n",
       "      <td>0</td>\n",
       "      <td>Qt</td>\n",
       "      <td>Ruby on Rails</td>\n",
       "    </tr>\n",
       "    <tr>\n",
       "      <th>16</th>\n",
       "      <td>13</td>\n",
       "      <td>0</td>\n",
       "      <td>2.0</td>\n",
       "      <td>17748.0</td>\n",
       "      <td>5</td>\n",
       "      <td>0</td>\n",
       "      <td>.NET Core / .NET 5;Flutter</td>\n",
       "      <td>Angular;ASP.NET Core ;Spring</td>\n",
       "    </tr>\n",
       "  </tbody>\n",
       "</table></div>"
      ],
      "text/plain": [
       "    Country  EdLevel  YearsCodePro   Salary  DevType  LanguageHaveWorkedWith  \\\n",
       "12        4        2           6.0  77290.0        0                       0   \n",
       "16       13        0           2.0  17748.0        5                       0   \n",
       "\n",
       "        MiscTechHaveWorkedWith        WebframeHaveWorkedWith  \n",
       "12                          Qt                 Ruby on Rails  \n",
       "16  .NET Core / .NET 5;Flutter  Angular;ASP.NET Core ;Spring  "
      ]
     },
     "execution_count": 42,
     "metadata": {},
     "output_type": "execute_result"
    }
   ],
   "source": [
    "df.head(2)"
   ]
  },
  {
   "cell_type": "code",
   "execution_count": 43,
   "metadata": {},
   "outputs": [
    {
     "data": {
      "text/plain": [
       "array(['Qt', '.NET Core / .NET 5;Flutter',\n",
       "       '.NET Framework;.NET Core / .NET 5;Qt', '.NET Core / .NET 5',\n",
       "       'NumPy;Pandas', '.NET Framework;.NET Core / .NET 5',\n",
       "       'NumPy;Pandas;Torch/PyTorch',\n",
       "       '.NET Framework;.NET Core / .NET 5;Apache Spark;Flutter;React Native',\n",
       "       'Keras;NumPy;Pandas;TensorFlow;Torch/PyTorch',\n",
       "       'Apache Spark;Hadoop;Keras;NumPy;Pandas;TensorFlow',\n",
       "       'React Native', '.NET Framework',\n",
       "       'Flutter;React Native;TensorFlow', 'NumPy;Pandas;React Native',\n",
       "       '.NET Framework;Qt', 'NumPy;React Native;Torch/PyTorch',\n",
       "       'Keras;NumPy;Pandas;TensorFlow',\n",
       "       '.NET Framework;.NET Core / .NET 5;Apache Spark;Hadoop;Keras;Pandas;Qt;TensorFlow;Torch/PyTorch',\n",
       "       'Cordova;Flutter', 'Cordova;React Native', 'Cordova;Qt',\n",
       "       'NumPy;TensorFlow;Torch/PyTorch', 'Cordova', 'Flutter',\n",
       "       '.NET Framework;.NET Core / .NET 5;NumPy;Pandas;Qt',\n",
       "       '.NET Framework;.NET Core / .NET 5;Flutter;React Native',\n",
       "       '.NET Framework;.NET Core / .NET 5;React Native', 'TensorFlow',\n",
       "       'Apache Spark;Keras;TensorFlow', 'Hadoop;Qt;React Native',\n",
       "       'NumPy;Pandas;TensorFlow;Torch/PyTorch', 'NumPy;Pandas;Qt',\n",
       "       'NumPy;Pandas;TensorFlow', 'Torch/PyTorch', 'Pandas',\n",
       "       'NumPy;React Native;TensorFlow', 'Apache Spark',\n",
       "       'Flutter;Hadoop;NumPy;Pandas',\n",
       "       '.NET Framework;.NET Core / .NET 5;Flutter',\n",
       "       'Flutter;React Native',\n",
       "       'Flutter;NumPy;Qt;TensorFlow;Torch/PyTorch',\n",
       "       '.NET Framework;.NET Core / .NET 5;Flutter;Hadoop;Keras;NumPy;TensorFlow;Torch/PyTorch',\n",
       "       '.NET Framework;TensorFlow', 'Flutter;NumPy;Pandas;React Native',\n",
       "       '.NET Framework;.NET Core / .NET 5;NumPy;Pandas;Torch/PyTorch',\n",
       "       '.NET Framework;.NET Core / .NET 5;Cordova',\n",
       "       'Apache Spark;Hadoop;Keras;NumPy;Pandas;Qt;TensorFlow',\n",
       "       '.NET Framework;Cordova;NumPy;Pandas', 'NumPy;Qt;TensorFlow',\n",
       "       '.NET Framework;.NET Core / .NET 5;Keras;NumPy;Qt;TensorFlow',\n",
       "       '.NET Framework;.NET Core / .NET 5;NumPy;Qt;TensorFlow',\n",
       "       'Apache Spark;Pandas',\n",
       "       '.NET Framework;.NET Core / .NET 5;Apache Spark;Hadoop;Keras;NumPy;Pandas;TensorFlow;Torch/PyTorch',\n",
       "       'Hadoop', '.NET Core / .NET 5;Keras;NumPy;TensorFlow',\n",
       "       'Hadoop;NumPy;Pandas;React Native',\n",
       "       'Keras;NumPy;Pandas;Qt;TensorFlow',\n",
       "       '.NET Framework;.NET Core / .NET 5;Torch/PyTorch',\n",
       "       '.NET Core / .NET 5;NumPy', '.NET Core / .NET 5;React Native',\n",
       "       'Hadoop;NumPy;Pandas',\n",
       "       '.NET Framework;.NET Core / .NET 5;Cordova;Flutter',\n",
       "       '.NET Framework;.NET Core / .NET 5;Hadoop;NumPy;Pandas;Qt',\n",
       "       'Cordova;Keras;NumPy;Pandas;React Native;TensorFlow',\n",
       "       '.NET Framework;.NET Core / .NET 5;NumPy',\n",
       "       '.NET Framework;.NET Core / .NET 5;Pandas',\n",
       "       'NumPy;Pandas;Qt;TensorFlow', 'Hadoop;Pandas',\n",
       "       'Apache Spark;React Native',\n",
       "       'Keras;NumPy;Pandas;React Native;TensorFlow',\n",
       "       '.NET Core / .NET 5;Apache Spark;Pandas',\n",
       "       'Cordova;Keras;NumPy;Pandas;TensorFlow',\n",
       "       '.NET Core / .NET 5;Cordova',\n",
       "       'Apache Spark;NumPy;Pandas;TensorFlow;Torch/PyTorch',\n",
       "       'Keras;NumPy;Qt;TensorFlow', '.NET Framework;React Native',\n",
       "       'NumPy', 'Keras', '.NET Framework;Hadoop;NumPy;Pandas',\n",
       "       'Apache Spark;Hadoop', 'NumPy;TensorFlow', 'Qt;React Native',\n",
       "       'Apache Spark;Hadoop;Keras;NumPy;Pandas',\n",
       "       '.NET Framework;.NET Core / .NET 5;Flutter;Keras;NumPy;Pandas;TensorFlow',\n",
       "       'Apache Spark;Hadoop;NumPy;Pandas', 'Keras;TensorFlow',\n",
       "       '.NET Framework;Keras;NumPy;Pandas;TensorFlow;Torch/PyTorch',\n",
       "       'Apache Spark;Hadoop;Pandas',\n",
       "       '.NET Framework;.NET Core / .NET 5;NumPy;Pandas;TensorFlow',\n",
       "       'Cordova;Qt;React Native', '.NET Framework;NumPy;Pandas',\n",
       "       'NumPy;Qt', '.NET Framework;.NET Core / .NET 5;Hadoop',\n",
       "       '.NET Framework;.NET Core / .NET 5;Apache Spark',\n",
       "       'Hadoop;NumPy;TensorFlow',\n",
       "       'Apache Spark;Hadoop;Keras;NumPy;Pandas;TensorFlow;Torch/PyTorch',\n",
       "       '.NET Framework;NumPy;Pandas;TensorFlow;Torch/PyTorch',\n",
       "       '.NET Framework;.NET Core / .NET 5;NumPy;Pandas;TensorFlow;Torch/PyTorch',\n",
       "       'Cordova;Flutter;React Native', 'Apache Spark;NumPy;Pandas',\n",
       "       '.NET Core / .NET 5;NumPy;Pandas',\n",
       "       'Keras;NumPy;TensorFlow;Torch/PyTorch',\n",
       "       '.NET Core / .NET 5;Flutter;React Native',\n",
       "       'Apache Spark;Cordova;Flutter;Hadoop;Keras;NumPy;Pandas;React Native;TensorFlow;Torch/PyTorch',\n",
       "       '.NET Framework;Apache Spark;NumPy;Pandas;React Native',\n",
       "       '.NET Framework;Cordova', '.NET Framework;Keras;NumPy;Pandas',\n",
       "       'Flutter;NumPy;Pandas;TensorFlow', 'Pandas;React Native',\n",
       "       'React Native;TensorFlow',\n",
       "       '.NET Framework;.NET Core / .NET 5;Hadoop;NumPy;Pandas',\n",
       "       '.NET Framework;.NET Core / .NET 5;NumPy;Torch/PyTorch',\n",
       "       'NumPy;Pandas;React Native;TensorFlow;Torch/PyTorch',\n",
       "       '.NET Framework;.NET Core / .NET 5;Hadoop;TensorFlow',\n",
       "       '.NET Framework;.NET Core / .NET 5;NumPy;Pandas',\n",
       "       'Apache Spark;Keras;NumPy;Pandas;Qt;TensorFlow;Torch/PyTorch',\n",
       "       '.NET Framework;.NET Core / .NET 5;Cordova;Keras;NumPy;Pandas;TensorFlow',\n",
       "       'Apache Spark;Hadoop;Pandas;Torch/PyTorch',\n",
       "       '.NET Framework;.NET Core / .NET 5;TensorFlow',\n",
       "       '.NET Core / .NET 5;Pandas', 'NumPy;Torch/PyTorch',\n",
       "       'Flutter;Keras;NumPy;Pandas;Qt;TensorFlow;Torch/PyTorch',\n",
       "       'TensorFlow;Torch/PyTorch',\n",
       "       'Apache Spark;NumPy;Pandas;Qt;TensorFlow;Torch/PyTorch',\n",
       "       'Apache Spark;Flutter;Hadoop;NumPy;Pandas',\n",
       "       'Apache Spark;Keras;NumPy;Pandas;TensorFlow;Torch/PyTorch',\n",
       "       '.NET Framework;.NET Core / .NET 5;NumPy;TensorFlow',\n",
       "       '.NET Framework;.NET Core / .NET 5;Apache Spark;NumPy;TensorFlow',\n",
       "       'Cordova;Flutter;NumPy;Pandas',\n",
       "       'NumPy;Pandas;Qt;TensorFlow;Torch/PyTorch', 'Flutter;NumPy;Pandas',\n",
       "       'Cordova;Flutter;Keras;NumPy;Pandas;React Native;TensorFlow;Torch/PyTorch',\n",
       "       'Keras;NumPy;Qt;TensorFlow;Torch/PyTorch',\n",
       "       'Keras;NumPy;Pandas;Qt;TensorFlow;Torch/PyTorch',\n",
       "       '.NET Core / .NET 5;NumPy;TensorFlow;Torch/PyTorch',\n",
       "       'Apache Spark;Flutter;Hadoop;NumPy;Pandas;TensorFlow',\n",
       "       '.NET Framework;.NET Core / .NET 5;Apache Spark;Keras;NumPy;Pandas;TensorFlow',\n",
       "       '.NET Framework;.NET Core / .NET 5;Apache Spark;Hadoop;NumPy;Pandas',\n",
       "       'Apache Spark;Keras;NumPy;Pandas;TensorFlow',\n",
       "       '.NET Framework;Flutter',\n",
       "       '.NET Framework;NumPy;Pandas;React Native',\n",
       "       'Apache Spark;Hadoop;NumPy;Pandas;Torch/PyTorch',\n",
       "       '.NET Framework;.NET Core / .NET 5;Qt;TensorFlow',\n",
       "       'Keras;Pandas;TensorFlow',\n",
       "       '.NET Framework;.NET Core / .NET 5;Cordova;Flutter;React Native',\n",
       "       'Keras;NumPy;Pandas',\n",
       "       'Keras;React Native;TensorFlow;Torch/PyTorch',\n",
       "       'NumPy;React Native',\n",
       "       'Flutter;Keras;NumPy;TensorFlow;Torch/PyTorch',\n",
       "       'Flutter;Keras;NumPy;Pandas;Qt;TensorFlow',\n",
       "       'Flutter;Keras;NumPy;Pandas;TensorFlow;Torch/PyTorch',\n",
       "       '.NET Core / .NET 5;Apache Spark', 'Keras;NumPy;TensorFlow',\n",
       "       '.NET Core / .NET 5;Keras;TensorFlow',\n",
       "       '.NET Framework;Flutter;NumPy;TensorFlow', 'Cordova;NumPy;Pandas',\n",
       "       '.NET Framework;.NET Core / .NET 5;Keras;NumPy;Pandas;Qt;TensorFlow',\n",
       "       '.NET Framework;.NET Core / .NET 5;Cordova;NumPy;Pandas;TensorFlow',\n",
       "       '.NET Framework;.NET Core / .NET 5;Keras;NumPy;Pandas;TensorFlow;Torch/PyTorch',\n",
       "       'Apache Spark;NumPy;TensorFlow',\n",
       "       'Keras;NumPy;Pandas;React Native;TensorFlow;Torch/PyTorch',\n",
       "       'Flutter;React Native;TensorFlow;Torch/PyTorch',\n",
       "       '.NET Framework;Hadoop',\n",
       "       'Hadoop;Keras;NumPy;React Native;TensorFlow;Torch/PyTorch',\n",
       "       '.NET Core / .NET 5;Flutter;NumPy;Pandas', 'Flutter;NumPy;Qt',\n",
       "       '.NET Core / .NET 5;NumPy;Torch/PyTorch',\n",
       "       '.NET Core / .NET 5;NumPy;Pandas;Torch/PyTorch',\n",
       "       'NumPy;Pandas;React Native;Torch/PyTorch',\n",
       "       '.NET Framework;.NET Core / .NET 5;NumPy;React Native',\n",
       "       'Qt;TensorFlow',\n",
       "       '.NET Framework;.NET Core / .NET 5;Flutter;NumPy;Pandas',\n",
       "       '.NET Framework;Pandas', 'Keras;NumPy;Pandas;Qt;Torch/PyTorch',\n",
       "       'Keras;NumPy;React Native;TensorFlow',\n",
       "       '.NET Framework;.NET Core / .NET 5;Flutter;Keras;NumPy;Pandas;Qt;TensorFlow;Torch/PyTorch',\n",
       "       'Hadoop;Keras;NumPy;Pandas;Qt;TensorFlow',\n",
       "       '.NET Core / .NET 5;Keras;NumPy;Pandas;Torch/PyTorch',\n",
       "       'Flutter;NumPy', 'Keras;NumPy', 'Flutter;Qt',\n",
       "       'Cordova;Keras;NumPy;TensorFlow',\n",
       "       '.NET Framework;.NET Core / .NET 5;Hadoop;Keras;NumPy;Pandas;Qt;TensorFlow',\n",
       "       '.NET Core / .NET 5;Apache Spark;NumPy;Pandas',\n",
       "       '.NET Framework;.NET Core / .NET 5;Keras', '.NET Core / .NET 5;Qt',\n",
       "       '.NET Framework;.NET Core / .NET 5;Keras;NumPy;Pandas;Qt',\n",
       "       'NumPy;Pandas;React Native;TensorFlow',\n",
       "       '.NET Framework;.NET Core / .NET 5;NumPy;Pandas;React Native',\n",
       "       'Pandas;TensorFlow',\n",
       "       '.NET Core / .NET 5;Keras;NumPy;Pandas;TensorFlow',\n",
       "       'NumPy;Pandas;Qt;React Native;TensorFlow',\n",
       "       '.NET Core / .NET 5;Keras;NumPy;Pandas;TensorFlow;Torch/PyTorch',\n",
       "       '.NET Core / .NET 5;TensorFlow',\n",
       "       '.NET Framework;Hadoop;Keras;Qt;TensorFlow;Torch/PyTorch',\n",
       "       'Apache Spark;NumPy', '.NET Framework;NumPy;Pandas;Qt',\n",
       "       '.NET Framework;.NET Core / .NET 5;Flutter;TensorFlow',\n",
       "       'Flutter;NumPy;Pandas;React Native;TensorFlow',\n",
       "       'React Native;Torch/PyTorch',\n",
       "       '.NET Framework;.NET Core / .NET 5;Apache Spark;NumPy;Pandas',\n",
       "       '.NET Framework;.NET Core / .NET 5;Flutter;Keras;React Native;TensorFlow',\n",
       "       '.NET Framework;.NET Core / .NET 5;Cordova;Flutter;Keras;NumPy;Pandas;Qt;React Native;TensorFlow;Torch/PyTorch',\n",
       "       '.NET Core / .NET 5;React Native;TensorFlow',\n",
       "       'Cordova;Flutter;NumPy;Pandas;React Native', 'Flutter;Pandas',\n",
       "       '.NET Framework;.NET Core / .NET 5;Apache Spark;Cordova;NumPy;Pandas;Qt;TensorFlow;Torch/PyTorch',\n",
       "       'Keras;Qt;TensorFlow', 'NumPy;Qt;TensorFlow;Torch/PyTorch',\n",
       "       'Pandas;React Native;TensorFlow', 'Flutter;NumPy;Torch/PyTorch',\n",
       "       '.NET Framework;.NET Core / .NET 5;Keras;Pandas;Qt;TensorFlow',\n",
       "       'Flutter;NumPy;Qt;React Native;TensorFlow;Torch/PyTorch',\n",
       "       'Apache Spark;Keras;NumPy;TensorFlow',\n",
       "       'Apache Spark;Flutter;Hadoop;Keras;NumPy;Pandas;Qt;React Native;TensorFlow;Torch/PyTorch',\n",
       "       'Cordova;Keras;NumPy;Pandas;TensorFlow;Torch/PyTorch',\n",
       "       'Apache Spark;Flutter;NumPy;Pandas;TensorFlow;Torch/PyTorch',\n",
       "       'Keras;NumPy;Pandas;Torch/PyTorch',\n",
       "       'Keras;NumPy;Pandas;Qt;React Native;TensorFlow',\n",
       "       'Flutter;TensorFlow', '.NET Framework;Cordova;Qt;React Native',\n",
       "       'Apache Spark;Qt;TensorFlow;Torch/PyTorch',\n",
       "       '.NET Framework;Flutter;Pandas',\n",
       "       '.NET Framework;.NET Core / .NET 5;Hadoop;Keras;NumPy;Pandas;TensorFlow;Torch/PyTorch',\n",
       "       'Apache Spark;Keras;TensorFlow;Torch/PyTorch',\n",
       "       'Apache Spark;Pandas;Torch/PyTorch', '.NET Framework;Apache Spark',\n",
       "       'Apache Spark;NumPy;Pandas;TensorFlow',\n",
       "       'Apache Spark;Flutter;Hadoop;Keras;NumPy;Pandas;TensorFlow;Torch/PyTorch',\n",
       "       'Qt;TensorFlow;Torch/PyTorch',\n",
       "       '.NET Framework;.NET Core / .NET 5;Flutter;Keras;NumPy;Pandas',\n",
       "       'Hadoop;Qt', '.NET Framework;NumPy;Qt;TensorFlow',\n",
       "       '.NET Framework;.NET Core / .NET 5;Apache Spark;Cordova;Flutter;React Native',\n",
       "       '.NET Core / .NET 5;Torch/PyTorch',\n",
       "       '.NET Framework;.NET Core / .NET 5;Cordova;Flutter;NumPy;Pandas;React Native;TensorFlow',\n",
       "       'Flutter;Keras;NumPy;TensorFlow',\n",
       "       '.NET Framework;Apache Spark;Hadoop;NumPy;Pandas;TensorFlow;Torch/PyTorch',\n",
       "       '.NET Framework;Flutter;React Native',\n",
       "       '.NET Framework;Keras;NumPy;Pandas;TensorFlow',\n",
       "       'Apache Spark;Keras;NumPy;TensorFlow;Torch/PyTorch',\n",
       "       '.NET Framework;.NET Core / .NET 5;Keras;NumPy;Pandas',\n",
       "       '.NET Framework;.NET Core / .NET 5;Keras;NumPy;TensorFlow',\n",
       "       'Cordova;Pandas',\n",
       "       '.NET Framework;.NET Core / .NET 5;Cordova;Flutter;Qt',\n",
       "       'Apache Spark;Hadoop;NumPy;TensorFlow;Torch/PyTorch',\n",
       "       '.NET Core / .NET 5;Apache Spark;NumPy;Pandas;TensorFlow;Torch/PyTorch',\n",
       "       '.NET Framework;.NET Core / .NET 5;Hadoop;Keras;NumPy',\n",
       "       '.NET Framework;Flutter;NumPy;Pandas;TensorFlow',\n",
       "       'Flutter;Keras;NumPy;Pandas;TensorFlow',\n",
       "       '.NET Framework;Keras;NumPy;TensorFlow;Torch/PyTorch',\n",
       "       '.NET Framework;.NET Core / .NET 5;Flutter;NumPy;React Native;TensorFlow',\n",
       "       '.NET Framework;Cordova;Keras;NumPy;Pandas;TensorFlow;Torch/PyTorch',\n",
       "       'Apache Spark;Hadoop;Pandas;Qt',\n",
       "       '.NET Core / .NET 5;Apache Spark;Hadoop;Keras;NumPy;Pandas',\n",
       "       'Apache Spark;Hadoop;TensorFlow',\n",
       "       '.NET Core / .NET 5;Apache Spark;Hadoop;NumPy;Pandas',\n",
       "       '.NET Framework;NumPy', 'Cordova;React Native;TensorFlow',\n",
       "       '.NET Core / .NET 5;Flutter;NumPy', 'Flutter;Pandas;React Native',\n",
       "       'Flutter;TensorFlow;Torch/PyTorch',\n",
       "       '.NET Framework;.NET Core / .NET 5;Keras;NumPy;Torch/PyTorch',\n",
       "       '.NET Framework;NumPy;Pandas;TensorFlow',\n",
       "       '.NET Framework;.NET Core / .NET 5;Flutter;Qt',\n",
       "       '.NET Core / .NET 5;Cordova;NumPy;Qt',\n",
       "       'Apache Spark;Flutter;React Native',\n",
       "       '.NET Core / .NET 5;Cordova;Flutter;React Native',\n",
       "       '.NET Core / .NET 5;Cordova;Qt',\n",
       "       '.NET Framework;.NET Core / .NET 5;React Native;TensorFlow',\n",
       "       'Cordova;Flutter;Qt', 'Apache Spark;Hadoop;React Native',\n",
       "       '.NET Core / .NET 5;Keras;NumPy',\n",
       "       'Hadoop;NumPy;Pandas;TensorFlow;Torch/PyTorch',\n",
       "       'Hadoop;Keras;NumPy;Pandas;Torch/PyTorch', 'Apache Spark;Qt',\n",
       "       'NumPy;Pandas;Qt;React Native;TensorFlow;Torch/PyTorch',\n",
       "       '.NET Framework;.NET Core / .NET 5;Cordova;React Native',\n",
       "       '.NET Framework;.NET Core / .NET 5;NumPy;React Native;TensorFlow',\n",
       "       'Pandas;Torch/PyTorch',\n",
       "       '.NET Framework;.NET Core / .NET 5;Apache Spark;Flutter;Hadoop;NumPy;Pandas;React Native;TensorFlow;Torch/PyTorch',\n",
       "       'Flutter;Keras;Pandas',\n",
       "       '.NET Framework;.NET Core / .NET 5;Apache Spark;Hadoop',\n",
       "       '.NET Framework;.NET Core / .NET 5;Keras;NumPy;Pandas;TensorFlow',\n",
       "       '.NET Core / .NET 5;Qt;TensorFlow', 'Pandas;Qt',\n",
       "       '.NET Core / .NET 5;Pandas;TensorFlow;Torch/PyTorch',\n",
       "       'Flutter;Hadoop;Keras;NumPy;Pandas;TensorFlow',\n",
       "       '.NET Framework;.NET Core / .NET 5;Cordova;Flutter;Hadoop;Qt;React Native',\n",
       "       '.NET Core / .NET 5;Apache Spark;Cordova;Hadoop;React Native',\n",
       "       'Cordova;Hadoop;Keras;NumPy;Pandas;TensorFlow;Torch/PyTorch',\n",
       "       '.NET Framework;.NET Core / .NET 5;Cordova;Flutter;NumPy;Pandas',\n",
       "       'Apache Spark;Hadoop;NumPy;Pandas;Qt;TensorFlow;Torch/PyTorch',\n",
       "       'Flutter;NumPy;React Native', 'Keras;NumPy;Pandas;Qt',\n",
       "       'Apache Spark;Cordova;Hadoop;NumPy;Pandas',\n",
       "       'Hadoop;Keras;Pandas;TensorFlow;Torch/PyTorch',\n",
       "       '.NET Framework;.NET Core / .NET 5;Apache Spark;Flutter;Hadoop;React Native',\n",
       "       '.NET Framework;Cordova;NumPy;Pandas;Qt;TensorFlow;Torch/PyTorch',\n",
       "       '.NET Framework;.NET Core / .NET 5;Pandas;React Native',\n",
       "       'Flutter;Keras;NumPy;Pandas;React Native;TensorFlow',\n",
       "       'Keras;NumPy;Qt',\n",
       "       '.NET Framework;.NET Core / .NET 5;Flutter;NumPy;Pandas;React Native;TensorFlow',\n",
       "       'NumPy;Pandas;Qt;Torch/PyTorch',\n",
       "       'Apache Spark;Cordova;Keras;NumPy;Pandas;TensorFlow;Torch/PyTorch',\n",
       "       '.NET Framework;.NET Core / .NET 5;Flutter;NumPy;Pandas;TensorFlow;Torch/PyTorch',\n",
       "       '.NET Framework;Apache Spark;Hadoop;Keras;NumPy;Pandas;TensorFlow;Torch/PyTorch',\n",
       "       '.NET Framework;.NET Core / .NET 5;Keras;NumPy;Pandas;React Native;TensorFlow',\n",
       "       '.NET Framework;.NET Core / .NET 5;Pandas;TensorFlow;Torch/PyTorch',\n",
       "       '.NET Framework;.NET Core / .NET 5;Pandas;TensorFlow',\n",
       "       'Apache Spark;Hadoop;Pandas;TensorFlow',\n",
       "       '.NET Framework;.NET Core / .NET 5;Apache Spark;Hadoop;Keras;NumPy;Pandas;Qt;React Native;TensorFlow;Torch/PyTorch',\n",
       "       '.NET Core / .NET 5;Cordova;React Native',\n",
       "       '.NET Framework;.NET Core / .NET 5;TensorFlow;Torch/PyTorch',\n",
       "       'Apache Spark;Hadoop;Qt',\n",
       "       '.NET Framework;.NET Core / .NET 5;Cordova;Keras;NumPy;Pandas;TensorFlow;Torch/PyTorch',\n",
       "       '.NET Core / .NET 5;NumPy;Pandas;Qt',\n",
       "       '.NET Framework;.NET Core / .NET 5;Apache Spark;Hadoop;Keras;NumPy;Pandas;TensorFlow',\n",
       "       'Cordova;Flutter;Hadoop', 'Apache Spark;Pandas;React Native',\n",
       "       '.NET Core / .NET 5;Keras;Pandas;TensorFlow',\n",
       "       'Apache Spark;Cordova;Hadoop', 'Hadoop;NumPy;Pandas;TensorFlow',\n",
       "       '.NET Framework;.NET Core / .NET 5;Flutter;NumPy;Pandas;TensorFlow',\n",
       "       '.NET Core / .NET 5;NumPy;Pandas;Qt;Torch/PyTorch',\n",
       "       '.NET Framework;.NET Core / .NET 5;Keras;NumPy;Pandas;React Native;TensorFlow;Torch/PyTorch',\n",
       "       '.NET Framework;.NET Core / .NET 5;Qt;Torch/PyTorch',\n",
       "       '.NET Core / .NET 5;NumPy;Pandas;TensorFlow;Torch/PyTorch',\n",
       "       'Qt;Torch/PyTorch',\n",
       "       '.NET Core / .NET 5;Flutter;Hadoop;React Native',\n",
       "       '.NET Framework;NumPy;TensorFlow;Torch/PyTorch',\n",
       "       '.NET Core / .NET 5;Keras;NumPy;Pandas;React Native;TensorFlow',\n",
       "       '.NET Framework;Cordova;Flutter', 'Cordova;NumPy',\n",
       "       '.NET Framework;Apache Spark;Hadoop;Pandas',\n",
       "       'Cordova;Keras;NumPy;TensorFlow;Torch/PyTorch',\n",
       "       '.NET Framework;.NET Core / .NET 5;Apache Spark;Flutter',\n",
       "       '.NET Framework;NumPy;Pandas;React Native;TensorFlow;Torch/PyTorch',\n",
       "       '.NET Framework;.NET Core / .NET 5;Apache Spark;Cordova',\n",
       "       '.NET Framework;Flutter;Qt', '.NET Framework;Flutter;TensorFlow',\n",
       "       'Cordova;NumPy;Pandas;TensorFlow;Torch/PyTorch',\n",
       "       'Apache Spark;Flutter;Hadoop;Qt;React Native',\n",
       "       'Hadoop;Keras;NumPy;Pandas;TensorFlow;Torch/PyTorch',\n",
       "       '.NET Framework;Keras;NumPy;TensorFlow',\n",
       "       '.NET Framework;.NET Core / .NET 5;NumPy;Pandas;Qt;TensorFlow',\n",
       "       '.NET Framework;Cordova;Flutter;Hadoop;Qt;React Native',\n",
       "       '.NET Framework;NumPy;React Native',\n",
       "       '.NET Framework;.NET Core / .NET 5;Flutter;Keras;NumPy;Pandas;React Native;TensorFlow',\n",
       "       '.NET Framework;.NET Core / .NET 5;Apache Spark;Keras;NumPy;Pandas;React Native;TensorFlow;Torch/PyTorch',\n",
       "       '.NET Core / .NET 5;Flutter;Keras;NumPy;Pandas;Qt;TensorFlow',\n",
       "       '.NET Framework;Apache Spark;Hadoop;NumPy;Pandas;Qt;TensorFlow;Torch/PyTorch',\n",
       "       'Flutter;NumPy;React Native;TensorFlow', 'Apache Spark;Cordova',\n",
       "       'Apache Spark;Flutter;Keras;NumPy;Pandas',\n",
       "       '.NET Framework;.NET Core / .NET 5;Cordova;Flutter;TensorFlow',\n",
       "       'Apache Spark;Flutter;Hadoop;Keras;NumPy;Pandas;TensorFlow',\n",
       "       'Apache Spark;Hadoop;NumPy', 'Cordova;Keras;NumPy;Pandas',\n",
       "       '.NET Framework;.NET Core / .NET 5;Keras;NumPy;TensorFlow;Torch/PyTorch',\n",
       "       '.NET Framework;Flutter;NumPy;Pandas',\n",
       "       '.NET Framework;Flutter;Keras;Pandas;Qt;TensorFlow',\n",
       "       'Flutter;NumPy;Pandas;Qt', 'Cordova;NumPy;Pandas;Qt;Torch/PyTorch',\n",
       "       '.NET Framework;Cordova;Flutter;React Native',\n",
       "       'Apache Spark;Cordova;Hadoop;NumPy;React Native',\n",
       "       '.NET Framework;Flutter;Keras;NumPy;Pandas;TensorFlow;Torch/PyTorch',\n",
       "       'Keras;Pandas;React Native;TensorFlow',\n",
       "       'Hadoop;Keras;NumPy;Pandas;TensorFlow', 'Hadoop;NumPy',\n",
       "       '.NET Framework;.NET Core / .NET 5;Cordova;Qt',\n",
       "       'Apache Spark;TensorFlow', 'Flutter;Qt;React Native',\n",
       "       'Cordova;Flutter;Keras;NumPy;Pandas;TensorFlow',\n",
       "       'Hadoop;React Native',\n",
       "       '.NET Framework;.NET Core / .NET 5;Apache Spark;React Native',\n",
       "       '.NET Framework;Hadoop;Keras;NumPy;Pandas',\n",
       "       'Apache Spark;Cordova;Hadoop;React Native',\n",
       "       'Cordova;Qt;TensorFlow',\n",
       "       '.NET Framework;.NET Core / .NET 5;Cordova;Hadoop;NumPy;Qt',\n",
       "       'Cordova;NumPy;Pandas;Qt;TensorFlow', '.NET Core / .NET 5;Hadoop',\n",
       "       '.NET Framework;NumPy;Pandas;Torch/PyTorch',\n",
       "       'Apache Spark;NumPy;Pandas;Qt;TensorFlow', 'Cordova;TensorFlow',\n",
       "       '.NET Framework;.NET Core / .NET 5;NumPy;Pandas;Qt;React Native',\n",
       "       'Apache Spark;Flutter;NumPy;Pandas',\n",
       "       '.NET Framework;.NET Core / .NET 5;Apache Spark;Hadoop;Keras;NumPy;Pandas',\n",
       "       'Cordova;Keras;TensorFlow',\n",
       "       '.NET Framework;.NET Core / .NET 5;NumPy;TensorFlow;Torch/PyTorch',\n",
       "       'Pandas;Qt;TensorFlow',\n",
       "       'Flutter;NumPy;Pandas;TensorFlow;Torch/PyTorch',\n",
       "       '.NET Core / .NET 5;Hadoop;NumPy;Pandas;Qt', 'Cordova;Hadoop',\n",
       "       'NumPy;Pandas;Qt;React Native',\n",
       "       'Apache Spark;Cordova;React Native',\n",
       "       '.NET Framework;Flutter;React Native;TensorFlow',\n",
       "       '.NET Framework;Apache Spark;Pandas',\n",
       "       '.NET Framework;.NET Core / .NET 5;Apache Spark;Qt;React Native',\n",
       "       '.NET Framework;Cordova;Pandas',\n",
       "       '.NET Framework;.NET Core / .NET 5;Qt;React Native',\n",
       "       'Keras;NumPy;Pandas;React Native;Torch/PyTorch',\n",
       "       '.NET Framework;Apache Spark;React Native',\n",
       "       '.NET Framework;.NET Core / .NET 5;Flutter;NumPy;Qt;Torch/PyTorch',\n",
       "       '.NET Framework;Apache Spark;Cordova',\n",
       "       '.NET Framework;.NET Core / .NET 5;NumPy;Qt',\n",
       "       'Apache Spark;Hadoop;NumPy;Pandas;Qt;TensorFlow',\n",
       "       '.NET Framework;.NET Core / .NET 5;Apache Spark;Cordova;Hadoop',\n",
       "       'Flutter;NumPy;TensorFlow', 'Apache Spark;Cordova;Hadoop;Qt',\n",
       "       'Apache Spark;Hadoop;NumPy;Pandas;TensorFlow;Torch/PyTorch',\n",
       "       '.NET Framework;Torch/PyTorch',\n",
       "       'Flutter;Keras;NumPy;Pandas;React Native;TensorFlow;Torch/PyTorch',\n",
       "       '.NET Core / .NET 5;Hadoop;NumPy;Pandas', 'Cordova;Flutter;Pandas',\n",
       "       'Cordova;Hadoop;Keras;NumPy;Pandas;TensorFlow',\n",
       "       'Apache Spark;Flutter', 'NumPy;Qt;Torch/PyTorch',\n",
       "       '.NET Framework;NumPy;TensorFlow',\n",
       "       '.NET Framework;.NET Core / .NET 5;Keras;Pandas;Qt;TensorFlow;Torch/PyTorch',\n",
       "       '.NET Core / .NET 5;Pandas;Qt',\n",
       "       '.NET Framework;Pandas;Qt;React Native',\n",
       "       '.NET Framework;.NET Core / .NET 5;Keras;NumPy;Pandas;Qt;TensorFlow;Torch/PyTorch',\n",
       "       '.NET Framework;Cordova;Pandas;React Native',\n",
       "       '.NET Framework;Cordova;Flutter;NumPy;TensorFlow',\n",
       "       'Apache Spark;Keras;NumPy;Pandas;Torch/PyTorch',\n",
       "       '.NET Framework;.NET Core / .NET 5;Hadoop;Qt;TensorFlow',\n",
       "       'Cordova;NumPy;TensorFlow',\n",
       "       '.NET Core / .NET 5;Flutter;NumPy;Pandas;TensorFlow;Torch/PyTorch',\n",
       "       'Hadoop;Keras;NumPy;Pandas',\n",
       "       'Apache Spark;Hadoop;Keras;NumPy;Pandas;React Native;TensorFlow;Torch/PyTorch',\n",
       "       '.NET Framework;.NET Core / .NET 5;Pandas;React Native;Torch/PyTorch',\n",
       "       'Apache Spark;Hadoop;NumPy;Qt;TensorFlow',\n",
       "       '.NET Framework;Apache Spark;Flutter;React Native',\n",
       "       '.NET Framework;Hadoop;React Native',\n",
       "       'Cordova;Flutter;React Native;TensorFlow',\n",
       "       '.NET Framework;.NET Core / .NET 5;Apache Spark;React Native;TensorFlow;Torch/PyTorch',\n",
       "       'Apache Spark;Hadoop;NumPy;Pandas;Qt',\n",
       "       'Cordova;Flutter;NumPy;Pandas;Qt',\n",
       "       '.NET Core / .NET 5;Keras;NumPy;Pandas',\n",
       "       '.NET Framework;NumPy;Qt;React Native',\n",
       "       'Cordova;NumPy;React Native;TensorFlow;Torch/PyTorch',\n",
       "       '.NET Framework;Qt;React Native',\n",
       "       '.NET Core / .NET 5;Flutter;Keras;NumPy;Pandas;Torch/PyTorch',\n",
       "       'Hadoop;NumPy;Pandas;Torch/PyTorch',\n",
       "       '.NET Framework;.NET Core / .NET 5;Cordova;Qt;React Native',\n",
       "       '.NET Framework;.NET Core / .NET 5;NumPy;Qt;Torch/PyTorch',\n",
       "       '.NET Framework;.NET Core / .NET 5;Hadoop;NumPy;Pandas;Torch/PyTorch',\n",
       "       '.NET Core / .NET 5;Apache Spark;Cordova',\n",
       "       '.NET Core / .NET 5;TensorFlow;Torch/PyTorch',\n",
       "       'Apache Spark;Keras;NumPy;Pandas;Qt;TensorFlow',\n",
       "       '.NET Framework;TensorFlow;Torch/PyTorch',\n",
       "       '.NET Framework;.NET Core / .NET 5;Keras;NumPy;Pandas;Qt;Torch/PyTorch',\n",
       "       '.NET Framework;Cordova;NumPy',\n",
       "       'Flutter;Keras;NumPy;Pandas;Qt;React Native;TensorFlow',\n",
       "       'Flutter;Hadoop;Keras;NumPy;Pandas;TensorFlow;Torch/PyTorch',\n",
       "       '.NET Framework;.NET Core / .NET 5;Flutter;NumPy',\n",
       "       '.NET Core / .NET 5;NumPy;Pandas;TensorFlow',\n",
       "       'Keras;React Native;TensorFlow', 'Apache Spark;Flutter;Hadoop',\n",
       "       'Cordova;Hadoop;NumPy;Qt;React Native', 'NumPy;Qt;React Native',\n",
       "       'Apache Spark;Hadoop;Keras;NumPy;Pandas;Torch/PyTorch',\n",
       "       '.NET Core / .NET 5;Flutter;NumPy;Pandas;React Native',\n",
       "       'Keras;TensorFlow;Torch/PyTorch',\n",
       "       '.NET Framework;.NET Core / .NET 5;Apache Spark;NumPy;Pandas;React Native',\n",
       "       'Cordova;Flutter;NumPy;Qt;React Native',\n",
       "       'Apache Spark;Qt;React Native',\n",
       "       '.NET Framework;Hadoop;React Native;TensorFlow',\n",
       "       '.NET Framework;Apache Spark;Qt',\n",
       "       'Apache Spark;Hadoop;NumPy;Pandas;React Native',\n",
       "       'Apache Spark;Flutter;Pandas',\n",
       "       'Hadoop;NumPy;TensorFlow;Torch/PyTorch',\n",
       "       'Hadoop;NumPy;Qt;TensorFlow', '.NET Core / .NET 5;Cordova;Flutter',\n",
       "       'Flutter;Hadoop;React Native;TensorFlow',\n",
       "       'Cordova;Flutter;NumPy;Pandas;TensorFlow',\n",
       "       'Cordova;NumPy;Pandas;Qt;React Native;TensorFlow;Torch/PyTorch',\n",
       "       'Cordova;Flutter;Qt;React Native', 'Flutter;Torch/PyTorch',\n",
       "       '.NET Core / .NET 5;Keras',\n",
       "       '.NET Framework;Apache Spark;Qt;TensorFlow',\n",
       "       'Apache Spark;NumPy;Pandas;React Native',\n",
       "       '.NET Framework;.NET Core / .NET 5;Cordova;NumPy;Pandas;React Native',\n",
       "       'Flutter;Keras;NumPy', 'Cordova;NumPy;React Native',\n",
       "       '.NET Framework;.NET Core / .NET 5;Cordova;NumPy;Pandas;Qt;TensorFlow',\n",
       "       '.NET Framework;React Native;TensorFlow',\n",
       "       '.NET Framework;.NET Core / .NET 5;Cordova;Hadoop',\n",
       "       '.NET Framework;.NET Core / .NET 5;Apache Spark;Hadoop;Keras;NumPy;Pandas;Qt;TensorFlow;Torch/PyTorch',\n",
       "       'Apache Spark;NumPy;Pandas;Torch/PyTorch',\n",
       "       '.NET Framework;Hadoop;NumPy;Pandas;TensorFlow;Torch/PyTorch',\n",
       "       '.NET Framework;.NET Core / .NET 5;Keras;NumPy;React Native;Torch/PyTorch',\n",
       "       '.NET Framework;Cordova;NumPy;TensorFlow',\n",
       "       'Flutter;Pandas;TensorFlow',\n",
       "       'Apache Spark;Flutter;NumPy;Pandas;React Native;TensorFlow;Torch/PyTorch',\n",
       "       '.NET Framework;.NET Core / .NET 5;Hadoop;NumPy;Pandas;React Native',\n",
       "       '.NET Framework;.NET Core / .NET 5;Apache Spark;Hadoop;Keras;Pandas;TensorFlow;Torch/PyTorch',\n",
       "       'Flutter;NumPy;Pandas;Qt;TensorFlow',\n",
       "       '.NET Core / .NET 5;Cordova;TensorFlow',\n",
       "       '.NET Core / .NET 5;Cordova;NumPy;Pandas',\n",
       "       '.NET Framework;.NET Core / .NET 5;Keras;NumPy;Pandas;Qt;React Native',\n",
       "       '.NET Framework;Apache Spark;NumPy;Pandas', 'Keras;Pandas',\n",
       "       'Hadoop;NumPy;Pandas;React Native;TensorFlow',\n",
       "       'Cordova;Hadoop;React Native',\n",
       "       '.NET Framework;Apache Spark;Cordova;Flutter;Hadoop;Qt;TensorFlow',\n",
       "       'Keras;Qt', 'Apache Spark;Hadoop;NumPy;Qt',\n",
       "       '.NET Framework;.NET Core / .NET 5;Apache Spark;Hadoop;NumPy;Pandas;Qt',\n",
       "       'Apache Spark;Keras;NumPy;Pandas;React Native',\n",
       "       '.NET Framework;Keras;NumPy', '.NET Framework;Cordova;Qt',\n",
       "       'Hadoop;NumPy;Pandas;Qt', 'Pandas;TensorFlow;Torch/PyTorch',\n",
       "       '.NET Framework;.NET Core / .NET 5;NumPy;Pandas;Qt;TensorFlow;Torch/PyTorch',\n",
       "       '.NET Framework;.NET Core / .NET 5;Keras;NumPy;Pandas;Torch/PyTorch',\n",
       "       '.NET Framework;.NET Core / .NET 5;Hadoop;NumPy;Qt;TensorFlow',\n",
       "       'Flutter;NumPy;Pandas;React Native;TensorFlow;Torch/PyTorch',\n",
       "       '.NET Framework;.NET Core / .NET 5;Hadoop;NumPy;Pandas;React Native;TensorFlow;Torch/PyTorch',\n",
       "       '.NET Core / .NET 5;NumPy;React Native',\n",
       "       'Apache Spark;NumPy;TensorFlow;Torch/PyTorch', 'Hadoop;Keras',\n",
       "       '.NET Framework;.NET Core / .NET 5;Keras;Pandas;TensorFlow;Torch/PyTorch',\n",
       "       '.NET Framework;Apache Spark;TensorFlow;Torch/PyTorch',\n",
       "       'Cordova;NumPy;Pandas;React Native',\n",
       "       'Keras;NumPy;Pandas;React Native',\n",
       "       'Flutter;Keras;TensorFlow;Torch/PyTorch', 'Hadoop;TensorFlow',\n",
       "       '.NET Framework;Apache Spark;Hadoop;NumPy;Pandas',\n",
       "       '.NET Framework;.NET Core / .NET 5;Apache Spark;Hadoop;Pandas;Qt',\n",
       "       '.NET Framework;.NET Core / .NET 5;Flutter;React Native;TensorFlow',\n",
       "       '.NET Framework;Apache Spark;NumPy;Pandas;TensorFlow',\n",
       "       'Cordova;NumPy;Pandas;Qt;React Native',\n",
       "       '.NET Framework;.NET Core / .NET 5;Cordova;NumPy;Pandas',\n",
       "       '.NET Framework;.NET Core / .NET 5;Flutter;Qt;React Native',\n",
       "       'Flutter;NumPy;Pandas;Qt;React Native',\n",
       "       '.NET Core / .NET 5;NumPy;React Native;TensorFlow',\n",
       "       'Apache Spark;Keras;Pandas;TensorFlow',\n",
       "       '.NET Framework;.NET Core / .NET 5;Apache Spark;Pandas',\n",
       "       '.NET Framework;.NET Core / .NET 5;Hadoop;Pandas',\n",
       "       '.NET Framework;.NET Core / .NET 5;Cordova;TensorFlow',\n",
       "       'Apache Spark;NumPy;React Native',\n",
       "       'Apache Spark;Hadoop;Keras;NumPy;Qt;React Native;TensorFlow',\n",
       "       'Apache Spark;Keras;NumPy;Pandas',\n",
       "       '.NET Framework;Pandas;Torch/PyTorch',\n",
       "       'Cordova;Flutter;React Native;TensorFlow;Torch/PyTorch',\n",
       "       'Apache Spark;Flutter;NumPy;Pandas;Torch/PyTorch',\n",
       "       '.NET Framework;Flutter;NumPy;Pandas;Qt',\n",
       "       '.NET Framework;.NET Core / .NET 5;NumPy;Pandas;React Native;TensorFlow',\n",
       "       '.NET Core / .NET 5;NumPy;Pandas;Qt;TensorFlow',\n",
       "       'Keras;NumPy;Torch/PyTorch',\n",
       "       '.NET Framework;.NET Core / .NET 5;Pandas;Torch/PyTorch',\n",
       "       '.NET Framework;.NET Core / .NET 5;Keras;TensorFlow',\n",
       "       'Flutter;Keras', 'Apache Spark;Qt;TensorFlow',\n",
       "       '.NET Framework;.NET Core / .NET 5;Apache Spark;Keras;NumPy;Pandas;TensorFlow;Torch/PyTorch',\n",
       "       '.NET Framework;Hadoop;NumPy',\n",
       "       '.NET Framework;Pandas;React Native',\n",
       "       '.NET Core / .NET 5;Apache Spark;Flutter;React Native',\n",
       "       '.NET Framework;.NET Core / .NET 5;Apache Spark;Cordova;Flutter;React Native;TensorFlow',\n",
       "       'Flutter;NumPy;Qt;React Native',\n",
       "       '.NET Framework;.NET Core / .NET 5;Apache Spark;Hadoop;NumPy;Pandas;Qt;TensorFlow',\n",
       "       'Apache Spark;Cordova;Hadoop;Keras;NumPy;Pandas;TensorFlow;Torch/PyTorch',\n",
       "       'Cordova;Hadoop;Keras;NumPy;Pandas;React Native;TensorFlow;Torch/PyTorch',\n",
       "       'Apache Spark;Hadoop;Keras;NumPy;Pandas;Qt;TensorFlow;Torch/PyTorch',\n",
       "       '.NET Framework;.NET Core / .NET 5;Apache Spark;Cordova;Flutter;Hadoop;Keras;NumPy;Pandas;Qt;React Native;TensorFlow;Torch/PyTorch',\n",
       "       'Apache Spark;NumPy;Qt', 'Cordova;NumPy;Pandas;Torch/PyTorch',\n",
       "       '.NET Framework;Cordova;Keras;NumPy;Pandas;TensorFlow',\n",
       "       '.NET Framework;Keras;NumPy;Pandas;Qt;TensorFlow',\n",
       "       '.NET Framework;Flutter;NumPy;Qt',\n",
       "       'Cordova;Qt;React Native;TensorFlow',\n",
       "       'NumPy;React Native;TensorFlow;Torch/PyTorch',\n",
       "       '.NET Core / .NET 5;Flutter;Hadoop;Keras;NumPy;Pandas;TensorFlow',\n",
       "       '.NET Core / .NET 5;Flutter;TensorFlow',\n",
       "       '.NET Core / .NET 5;Flutter;Hadoop;Keras;NumPy;Qt;React Native;TensorFlow;Torch/PyTorch',\n",
       "       '.NET Framework;Cordova;Flutter;Pandas;Qt',\n",
       "       'Flutter;Keras;TensorFlow', 'Pandas;React Native;Torch/PyTorch',\n",
       "       'Flutter;Pandas;Qt;TensorFlow',\n",
       "       'Keras;Qt;React Native;TensorFlow;Torch/PyTorch',\n",
       "       '.NET Framework;NumPy;Pandas;Qt;TensorFlow',\n",
       "       '.NET Framework;Hadoop;Keras;NumPy;Pandas;TensorFlow;Torch/PyTorch',\n",
       "       '.NET Framework;.NET Core / .NET 5;Cordova;NumPy;React Native;TensorFlow;Torch/PyTorch',\n",
       "       'Keras;Pandas;TensorFlow;Torch/PyTorch',\n",
       "       '.NET Core / .NET 5;Keras;NumPy;Pandas;Qt;TensorFlow;Torch/PyTorch',\n",
       "       '.NET Framework;.NET Core / .NET 5;Apache Spark;NumPy;Pandas;TensorFlow',\n",
       "       'Hadoop;Keras;NumPy;Pandas;React Native',\n",
       "       '.NET Framework;.NET Core / .NET 5;Apache Spark;Hadoop;NumPy;Pandas;TensorFlow;Torch/PyTorch',\n",
       "       'Apache Spark;Cordova;Flutter;Hadoop;Keras;NumPy;Pandas;Qt;TensorFlow;Torch/PyTorch',\n",
       "       '.NET Framework;.NET Core / .NET 5;Cordova;Flutter;NumPy;TensorFlow',\n",
       "       '.NET Framework;NumPy;Torch/PyTorch',\n",
       "       '.NET Core / .NET 5;Apache Spark;Hadoop',\n",
       "       'Keras;Pandas;Torch/PyTorch', '.NET Framework;Hadoop;Qt',\n",
       "       '.NET Framework;.NET Core / .NET 5;NumPy;Pandas;Qt;React Native;TensorFlow;Torch/PyTorch',\n",
       "       '.NET Framework;.NET Core / .NET 5;Hadoop;Keras;NumPy;Pandas;Qt;React Native;TensorFlow',\n",
       "       'Apache Spark;Hadoop;Keras;NumPy;TensorFlow;Torch/PyTorch',\n",
       "       '.NET Framework;NumPy;Qt',\n",
       "       'Cordova;NumPy;Pandas;React Native;TensorFlow;Torch/PyTorch',\n",
       "       'Flutter;NumPy;Qt;TensorFlow',\n",
       "       '.NET Framework;NumPy;Pandas;Qt;Torch/PyTorch',\n",
       "       'Apache Spark;Flutter;Hadoop;Keras;NumPy;Pandas;React Native;TensorFlow;Torch/PyTorch',\n",
       "       'Hadoop;NumPy;React Native', '.NET Framework;Keras;TensorFlow',\n",
       "       'Keras;Pandas;React Native',\n",
       "       '.NET Framework;Keras;NumPy;React Native',\n",
       "       'Apache Spark;Cordova;Pandas',\n",
       "       'Apache Spark;Keras;NumPy;Pandas;Qt;React Native;TensorFlow;Torch/PyTorch',\n",
       "       '.NET Framework;NumPy;Pandas;React Native;TensorFlow',\n",
       "       '.NET Framework;.NET Core / .NET 5;Cordova;Flutter;TensorFlow;Torch/PyTorch',\n",
       "       'Hadoop;Keras;Pandas;TensorFlow',\n",
       "       'Apache Spark;Hadoop;NumPy;Pandas;React Native;TensorFlow',\n",
       "       'Keras;NumPy;Pandas;Qt;React Native;TensorFlow;Torch/PyTorch',\n",
       "       'NumPy;Pandas;Qt;React Native;Torch/PyTorch',\n",
       "       'Qt;React Native;TensorFlow',\n",
       "       'Apache Spark;Keras;NumPy;Pandas;React Native;TensorFlow;Torch/PyTorch',\n",
       "       '.NET Framework;.NET Core / .NET 5;Cordova;Flutter;Qt;React Native;TensorFlow',\n",
       "       '.NET Framework;.NET Core / .NET 5;Cordova;NumPy;Pandas;Qt;TensorFlow;Torch/PyTorch',\n",
       "       'Cordova;Flutter;Keras;Qt;TensorFlow',\n",
       "       '.NET Framework;.NET Core / .NET 5;Keras;NumPy;Pandas;React Native',\n",
       "       '.NET Framework;Apache Spark;Hadoop',\n",
       "       'Cordova;Pandas;React Native',\n",
       "       'Hadoop;Keras;NumPy;Pandas;Qt;TensorFlow;Torch/PyTorch',\n",
       "       '.NET Core / .NET 5;NumPy;Pandas;React Native',\n",
       "       'Apache Spark;Hadoop;React Native;TensorFlow',\n",
       "       '.NET Framework;Hadoop;NumPy;Pandas;TensorFlow',\n",
       "       '.NET Framework;.NET Core / .NET 5;Flutter;Keras;NumPy;Pandas;Qt;TensorFlow',\n",
       "       'Flutter;Hadoop',\n",
       "       '.NET Core / .NET 5;NumPy;React Native;Torch/PyTorch',\n",
       "       '.NET Framework;Cordova;React Native',\n",
       "       'Apache Spark;Flutter;Keras;NumPy;Pandas;TensorFlow;Torch/PyTorch',\n",
       "       'Apache Spark;React Native;TensorFlow;Torch/PyTorch',\n",
       "       '.NET Framework;.NET Core / .NET 5;Apache Spark;Flutter;Hadoop;Keras;NumPy;Pandas',\n",
       "       'Apache Spark;Keras;Qt;TensorFlow',\n",
       "       '.NET Framework;.NET Core / .NET 5;Apache Spark;NumPy;Pandas;React Native;Torch/PyTorch',\n",
       "       '.NET Framework;.NET Core / .NET 5;Flutter;NumPy;React Native;Torch/PyTorch',\n",
       "       '.NET Framework;.NET Core / .NET 5;Apache Spark;Pandas;React Native',\n",
       "       'Cordova;NumPy;TensorFlow;Torch/PyTorch',\n",
       "       '.NET Framework;Apache Spark;Hadoop;Qt',\n",
       "       '.NET Framework;Flutter;Keras;NumPy;Pandas;Qt;TensorFlow;Torch/PyTorch',\n",
       "       '.NET Core / .NET 5;Cordova;Flutter;Qt;React Native',\n",
       "       'Apache Spark;Hadoop;Keras;NumPy;Pandas;React Native;TensorFlow',\n",
       "       'Hadoop;React Native;TensorFlow', 'Hadoop;Keras;TensorFlow',\n",
       "       'Flutter;Hadoop;Keras;NumPy;Pandas;Qt;TensorFlow',\n",
       "       'Apache Spark;NumPy;Pandas;React Native;TensorFlow;Torch/PyTorch',\n",
       "       'Apache Spark;Cordova;Keras;NumPy;Pandas;Torch/PyTorch',\n",
       "       '.NET Framework;.NET Core / .NET 5;Flutter;Keras;NumPy;Pandas;TensorFlow;Torch/PyTorch',\n",
       "       'Flutter;Hadoop;Keras;NumPy;Pandas',\n",
       "       '.NET Framework;.NET Core / .NET 5;Hadoop;NumPy;TensorFlow',\n",
       "       '.NET Framework;Qt;React Native;TensorFlow',\n",
       "       '.NET Core / .NET 5;Cordova;Qt;Torch/PyTorch',\n",
       "       '.NET Framework;.NET Core / .NET 5;Apache Spark;NumPy;Pandas;Torch/PyTorch',\n",
       "       '.NET Framework;.NET Core / .NET 5;Flutter;Hadoop;NumPy;Pandas;React Native'],\n",
       "      dtype=object)"
      ]
     },
     "execution_count": 43,
     "metadata": {},
     "output_type": "execute_result"
    }
   ],
   "source": [
    "df['MiscTechHaveWorkedWith'].unique()"
   ]
  },
  {
   "cell_type": "code",
   "execution_count": 44,
   "metadata": {},
   "outputs": [],
   "source": [
    "def clean_MiscTechHaveWorkedWith(x):\n",
    "    if 'Keras' in x or 'NumPy' in x or 'Pandas' in x or 'TensorFlow' in x or 'Torch/PyTorch' in x:\n",
    "        return 'Machine Learning (NumPy, Pandas, TensorFlow, Keras, etc.)'\n",
    "    \n",
    "    if 'Apache Spark' in x or 'Hadoop' in x:\n",
    "        return 'Apache Spark, Hadoop'\n",
    "    \n",
    "    if '.NET 5' in x or '.NET Framework' in x or '.NET Core' in x:\n",
    "        return '.NET Framework'\n",
    "    \n",
    "    if 'React Native' in x or 'Flutter' in x:\n",
    "        return 'React Native/Flutter'\n",
    "\n",
    "    return 'Other'\n",
    "\n",
    "\n",
    "df['MiscTechHaveWorkedWith'] = df['MiscTechHaveWorkedWith'].apply(clean_MiscTechHaveWorkedWith)"
   ]
  },
  {
   "cell_type": "code",
   "execution_count": 45,
   "metadata": {},
   "outputs": [
    {
     "data": {
      "text/plain": [
       "array(['Other', '.NET Framework',\n",
       "       'Machine Learning (NumPy, Pandas, TensorFlow, Keras, etc.)',\n",
       "       'Apache Spark, Hadoop', 'React Native/Flutter'], dtype=object)"
      ]
     },
     "execution_count": 45,
     "metadata": {},
     "output_type": "execute_result"
    }
   ],
   "source": [
    "tech_list = df[\"MiscTechHaveWorkedWith\"].unique()\n",
    "tech_list"
   ]
  },
  {
   "cell_type": "code",
   "execution_count": 46,
   "metadata": {},
   "outputs": [
    {
     "data": {
      "text/plain": [
       "array([3, 0, 2, 1, 4])"
      ]
     },
     "execution_count": 46,
     "metadata": {},
     "output_type": "execute_result"
    }
   ],
   "source": [
    "le_misctech = LabelEncoder()\n",
    "df['MiscTechHaveWorkedWith'] = le_misctech.fit_transform(df['MiscTechHaveWorkedWith'])\n",
    "tech_list_le = df[\"MiscTechHaveWorkedWith\"].unique()\n",
    "tech_list_le"
   ]
  },
  {
   "cell_type": "code",
   "execution_count": 47,
   "metadata": {},
   "outputs": [
    {
     "data": {
      "text/plain": [
       "{'Other': 3,\n",
       " '.NET Framework': 0,\n",
       " 'Machine Learning (NumPy, Pandas, TensorFlow, Keras, etc.)': 2,\n",
       " 'Apache Spark, Hadoop': 1,\n",
       " 'React Native/Flutter': 4}"
      ]
     },
     "execution_count": 47,
     "metadata": {},
     "output_type": "execute_result"
    }
   ],
   "source": [
    "tech_list_dict = dict(zip(tech_list, tech_list_le))\n",
    "tech_list_dict"
   ]
  },
  {
   "cell_type": "markdown",
   "metadata": {},
   "source": [
    "---\n",
    "## Label Encoding: Webframe\n",
    "---"
   ]
  },
  {
   "cell_type": "code",
   "execution_count": 48,
   "metadata": {},
   "outputs": [
    {
     "data": {
      "text/html": [
       "<div><div id=fdbfa494-078e-41be-960d-a8f88ef4dcfb style=\"display:none; background-color:#9D6CFF; color:white; width:200px; height:30px; padding-left:5px; border-radius:4px; flex-direction:row; justify-content:space-around; align-items:center;\" onmouseover=\"this.style.backgroundColor='#BA9BF8'\" onmouseout=\"this.style.backgroundColor='#9D6CFF'\" onclick=\"window.commands?.execute('create-mitosheet-from-dataframe-output');\">See Full Dataframe in Mito</div> <script> if (window.commands.hasCommand('create-mitosheet-from-dataframe-output')) document.getElementById('fdbfa494-078e-41be-960d-a8f88ef4dcfb').style.display = 'flex' </script> <table border=\"1\" class=\"dataframe\">\n",
       "  <thead>\n",
       "    <tr style=\"text-align: right;\">\n",
       "      <th></th>\n",
       "      <th>Country</th>\n",
       "      <th>EdLevel</th>\n",
       "      <th>YearsCodePro</th>\n",
       "      <th>Salary</th>\n",
       "      <th>DevType</th>\n",
       "      <th>LanguageHaveWorkedWith</th>\n",
       "      <th>MiscTechHaveWorkedWith</th>\n",
       "      <th>WebframeHaveWorkedWith</th>\n",
       "    </tr>\n",
       "  </thead>\n",
       "  <tbody>\n",
       "    <tr>\n",
       "      <th>12</th>\n",
       "      <td>4</td>\n",
       "      <td>2</td>\n",
       "      <td>6.0</td>\n",
       "      <td>77290.0</td>\n",
       "      <td>0</td>\n",
       "      <td>0</td>\n",
       "      <td>3</td>\n",
       "      <td>Ruby on Rails</td>\n",
       "    </tr>\n",
       "    <tr>\n",
       "      <th>16</th>\n",
       "      <td>13</td>\n",
       "      <td>0</td>\n",
       "      <td>2.0</td>\n",
       "      <td>17748.0</td>\n",
       "      <td>5</td>\n",
       "      <td>0</td>\n",
       "      <td>0</td>\n",
       "      <td>Angular;ASP.NET Core ;Spring</td>\n",
       "    </tr>\n",
       "  </tbody>\n",
       "</table></div>"
      ],
      "text/plain": [
       "    Country  EdLevel  YearsCodePro   Salary  DevType  LanguageHaveWorkedWith  \\\n",
       "12        4        2           6.0  77290.0        0                       0   \n",
       "16       13        0           2.0  17748.0        5                       0   \n",
       "\n",
       "    MiscTechHaveWorkedWith        WebframeHaveWorkedWith  \n",
       "12                       3                 Ruby on Rails  \n",
       "16                       0  Angular;ASP.NET Core ;Spring  "
      ]
     },
     "execution_count": 48,
     "metadata": {},
     "output_type": "execute_result"
    }
   ],
   "source": [
    "df.head(2)"
   ]
  },
  {
   "cell_type": "code",
   "execution_count": 49,
   "metadata": {},
   "outputs": [
    {
     "data": {
      "text/plain": [
       "array(['Ruby on Rails', 'Angular;ASP.NET Core ;Spring', 'jQuery', ...,\n",
       "       'Django;FastAPI;Laravel', 'Django;Laravel;React.js',\n",
       "       'Flask;React.js;Ruby on Rails;Vue.js'], dtype=object)"
      ]
     },
     "execution_count": 49,
     "metadata": {},
     "output_type": "execute_result"
    }
   ],
   "source": [
    "df['WebframeHaveWorkedWith'].unique()"
   ]
  },
  {
   "cell_type": "code",
   "execution_count": 50,
   "metadata": {},
   "outputs": [],
   "source": [
    "def clean_WebframeHaveWorkedWith(x):\n",
    "    if 'Ruby on Rails' in x:\n",
    "        return 'Ruby on Rails'\n",
    "     \n",
    "    if 'jQuery' in x or 'Express' in x:\n",
    "        return 'jQuery/Express'\n",
    "    \n",
    "    if 'React.js' in x or 'Spring' in x or 'Vue.js' in x or 'Gatsby' in x:\n",
    "        return 'React.js/Spring/Vue.js/Gatsby'\n",
    "    \n",
    "    if 'Django' in x:\n",
    "        return 'Django/Flask'\n",
    "    \n",
    "    if 'Angular' in x or 'Angular.js' in x:\n",
    "        return 'Angular/Angular.js'\n",
    "\n",
    "    return 'Other'\n",
    "\n",
    "\n",
    "df['WebframeHaveWorkedWith'] = df['WebframeHaveWorkedWith'].apply(clean_WebframeHaveWorkedWith)"
   ]
  },
  {
   "cell_type": "code",
   "execution_count": 51,
   "metadata": {},
   "outputs": [
    {
     "data": {
      "text/plain": [
       "array(['Ruby on Rails', 'React.js/Spring/Vue.js/Gatsby', 'jQuery/Express',\n",
       "       'Other', 'Django/Flask', 'Angular/Angular.js'], dtype=object)"
      ]
     },
     "execution_count": 51,
     "metadata": {},
     "output_type": "execute_result"
    }
   ],
   "source": [
    "webframe_list = df['WebframeHaveWorkedWith'].unique()\n",
    "webframe_list"
   ]
  },
  {
   "cell_type": "code",
   "execution_count": 52,
   "metadata": {},
   "outputs": [
    {
     "data": {
      "text/plain": [
       "array([4, 3, 5, 2, 1, 0])"
      ]
     },
     "execution_count": 52,
     "metadata": {},
     "output_type": "execute_result"
    }
   ],
   "source": [
    "le_WebframeHaveWorkedWith = LabelEncoder()\n",
    "df['WebframeHaveWorkedWith'] = le_WebframeHaveWorkedWith.fit_transform(df['WebframeHaveWorkedWith'])\n",
    "webframe_list_le = df[\"WebframeHaveWorkedWith\"].unique()\n",
    "webframe_list_le"
   ]
  },
  {
   "cell_type": "code",
   "execution_count": 53,
   "metadata": {},
   "outputs": [],
   "source": [
    "webframe_list_dict = dict(zip(webframe_list, webframe_list_le))"
   ]
  },
  {
   "cell_type": "code",
   "execution_count": 54,
   "metadata": {},
   "outputs": [
    {
     "data": {
      "text/plain": [
       "{'Ruby on Rails': 4,\n",
       " 'React.js/Spring/Vue.js/Gatsby': 3,\n",
       " 'jQuery/Express': 5,\n",
       " 'Other': 2,\n",
       " 'Django/Flask': 1,\n",
       " 'Angular/Angular.js': 0}"
      ]
     },
     "execution_count": 54,
     "metadata": {},
     "output_type": "execute_result"
    }
   ],
   "source": [
    "webframe_list_dict"
   ]
  },
  {
   "cell_type": "code",
   "execution_count": 55,
   "metadata": {},
   "outputs": [
    {
     "data": {
      "text/html": [
       "<div><div id=1e84aa7d-29be-4e96-a6e5-658bae2b19d6 style=\"display:none; background-color:#9D6CFF; color:white; width:200px; height:30px; padding-left:5px; border-radius:4px; flex-direction:row; justify-content:space-around; align-items:center;\" onmouseover=\"this.style.backgroundColor='#BA9BF8'\" onmouseout=\"this.style.backgroundColor='#9D6CFF'\" onclick=\"window.commands?.execute('create-mitosheet-from-dataframe-output');\">See Full Dataframe in Mito</div> <script> if (window.commands.hasCommand('create-mitosheet-from-dataframe-output')) document.getElementById('1e84aa7d-29be-4e96-a6e5-658bae2b19d6').style.display = 'flex' </script> <table border=\"1\" class=\"dataframe\">\n",
       "  <thead>\n",
       "    <tr style=\"text-align: right;\">\n",
       "      <th></th>\n",
       "      <th>Country</th>\n",
       "      <th>EdLevel</th>\n",
       "      <th>YearsCodePro</th>\n",
       "      <th>Salary</th>\n",
       "      <th>DevType</th>\n",
       "      <th>LanguageHaveWorkedWith</th>\n",
       "      <th>MiscTechHaveWorkedWith</th>\n",
       "      <th>WebframeHaveWorkedWith</th>\n",
       "    </tr>\n",
       "  </thead>\n",
       "  <tbody>\n",
       "    <tr>\n",
       "      <th>12</th>\n",
       "      <td>4</td>\n",
       "      <td>2</td>\n",
       "      <td>6.0</td>\n",
       "      <td>77290.0</td>\n",
       "      <td>0</td>\n",
       "      <td>0</td>\n",
       "      <td>3</td>\n",
       "      <td>4</td>\n",
       "    </tr>\n",
       "    <tr>\n",
       "      <th>16</th>\n",
       "      <td>13</td>\n",
       "      <td>0</td>\n",
       "      <td>2.0</td>\n",
       "      <td>17748.0</td>\n",
       "      <td>5</td>\n",
       "      <td>0</td>\n",
       "      <td>0</td>\n",
       "      <td>3</td>\n",
       "    </tr>\n",
       "  </tbody>\n",
       "</table></div>"
      ],
      "text/plain": [
       "    Country  EdLevel  YearsCodePro   Salary  DevType  LanguageHaveWorkedWith  \\\n",
       "12        4        2           6.0  77290.0        0                       0   \n",
       "16       13        0           2.0  17748.0        5                       0   \n",
       "\n",
       "    MiscTechHaveWorkedWith  WebframeHaveWorkedWith  \n",
       "12                       3                       4  \n",
       "16                       0                       3  "
      ]
     },
     "execution_count": 55,
     "metadata": {},
     "output_type": "execute_result"
    }
   ],
   "source": [
    "df.head(2)"
   ]
  },
  {
   "cell_type": "markdown",
   "metadata": {},
   "source": [
    "# Model Training"
   ]
  },
  {
   "cell_type": "code",
   "execution_count": 56,
   "metadata": {},
   "outputs": [],
   "source": [
    "X = df.drop(\"Salary\", axis=1)\n",
    "y = df[\"Salary\"]"
   ]
  },
  {
   "cell_type": "code",
   "execution_count": 57,
   "metadata": {},
   "outputs": [
    {
     "data": {
      "text/html": [
       "<div><div id=13a0629b-63ce-4040-b154-b96b33c69d92 style=\"display:none; background-color:#9D6CFF; color:white; width:200px; height:30px; padding-left:5px; border-radius:4px; flex-direction:row; justify-content:space-around; align-items:center;\" onmouseover=\"this.style.backgroundColor='#BA9BF8'\" onmouseout=\"this.style.backgroundColor='#9D6CFF'\" onclick=\"window.commands?.execute('create-mitosheet-from-dataframe-output');\">See Full Dataframe in Mito</div> <script> if (window.commands.hasCommand('create-mitosheet-from-dataframe-output')) document.getElementById('13a0629b-63ce-4040-b154-b96b33c69d92').style.display = 'flex' </script> <table border=\"1\" class=\"dataframe\">\n",
       "  <thead>\n",
       "    <tr style=\"text-align: right;\">\n",
       "      <th></th>\n",
       "      <th>Country</th>\n",
       "      <th>EdLevel</th>\n",
       "      <th>YearsCodePro</th>\n",
       "      <th>DevType</th>\n",
       "      <th>LanguageHaveWorkedWith</th>\n",
       "      <th>MiscTechHaveWorkedWith</th>\n",
       "      <th>WebframeHaveWorkedWith</th>\n",
       "    </tr>\n",
       "  </thead>\n",
       "  <tbody>\n",
       "    <tr>\n",
       "      <th>12</th>\n",
       "      <td>4</td>\n",
       "      <td>2</td>\n",
       "      <td>6.0</td>\n",
       "      <td>0</td>\n",
       "      <td>0</td>\n",
       "      <td>3</td>\n",
       "      <td>4</td>\n",
       "    </tr>\n",
       "    <tr>\n",
       "      <th>16</th>\n",
       "      <td>13</td>\n",
       "      <td>0</td>\n",
       "      <td>2.0</td>\n",
       "      <td>5</td>\n",
       "      <td>0</td>\n",
       "      <td>0</td>\n",
       "      <td>3</td>\n",
       "    </tr>\n",
       "    <tr>\n",
       "      <th>33</th>\n",
       "      <td>13</td>\n",
       "      <td>0</td>\n",
       "      <td>2.0</td>\n",
       "      <td>6</td>\n",
       "      <td>0</td>\n",
       "      <td>0</td>\n",
       "      <td>5</td>\n",
       "    </tr>\n",
       "    <tr>\n",
       "      <th>45</th>\n",
       "      <td>1</td>\n",
       "      <td>0</td>\n",
       "      <td>15.0</td>\n",
       "      <td>0</td>\n",
       "      <td>0</td>\n",
       "      <td>0</td>\n",
       "      <td>3</td>\n",
       "    </tr>\n",
       "    <tr>\n",
       "      <th>55</th>\n",
       "      <td>14</td>\n",
       "      <td>2</td>\n",
       "      <td>12.0</td>\n",
       "      <td>5</td>\n",
       "      <td>0</td>\n",
       "      <td>2</td>\n",
       "      <td>3</td>\n",
       "    </tr>\n",
       "  </tbody>\n",
       "</table></div>"
      ],
      "text/plain": [
       "    Country  EdLevel  YearsCodePro  DevType  LanguageHaveWorkedWith  \\\n",
       "12        4        2           6.0        0                       0   \n",
       "16       13        0           2.0        5                       0   \n",
       "33       13        0           2.0        6                       0   \n",
       "45        1        0          15.0        0                       0   \n",
       "55       14        2          12.0        5                       0   \n",
       "\n",
       "    MiscTechHaveWorkedWith  WebframeHaveWorkedWith  \n",
       "12                       3                       4  \n",
       "16                       0                       3  \n",
       "33                       0                       5  \n",
       "45                       0                       3  \n",
       "55                       2                       3  "
      ]
     },
     "execution_count": 57,
     "metadata": {},
     "output_type": "execute_result"
    }
   ],
   "source": [
    "X.head()"
   ]
  },
  {
   "cell_type": "code",
   "execution_count": 58,
   "metadata": {},
   "outputs": [],
   "source": [
    "df.to_csv(\"label_encoded_data.csv\", index=False)"
   ]
  },
  {
   "cell_type": "markdown",
   "metadata": {},
   "source": [
    "# Model Trainig using Linear Regression"
   ]
  },
  {
   "cell_type": "code",
   "execution_count": 59,
   "metadata": {},
   "outputs": [
    {
     "data": {
      "text/plain": [
       "LinearRegression()"
      ]
     },
     "execution_count": 59,
     "metadata": {},
     "output_type": "execute_result"
    }
   ],
   "source": [
    "from sklearn.linear_model import LinearRegression\n",
    "linear_reg = LinearRegression()\n",
    "linear_reg.fit(X, y.values)"
   ]
  },
  {
   "cell_type": "code",
   "execution_count": 60,
   "metadata": {},
   "outputs": [
    {
     "data": {
      "text/plain": [
       "40860.31575159337"
      ]
     },
     "execution_count": 60,
     "metadata": {},
     "output_type": "execute_result"
    }
   ],
   "source": [
    "from sklearn.metrics import mean_squared_error, mean_absolute_error\n",
    "import numpy as np\n",
    "\n",
    "y_pred_via_linear_reg = linear_reg.predict(X)\n",
    "\n",
    "error_linear_reg = np.sqrt(mean_squared_error(y, y_pred_via_linear_reg))\n",
    "error_linear_reg"
   ]
  },
  {
   "cell_type": "code",
   "execution_count": 61,
   "metadata": {},
   "outputs": [
    {
     "data": {
      "text/plain": [
       "0.34537960662998435"
      ]
     },
     "execution_count": 61,
     "metadata": {},
     "output_type": "execute_result"
    }
   ],
   "source": [
    "from sklearn.metrics import r2_score\n",
    "r2_score(y, y_pred_via_linear_reg)"
   ]
  },
  {
   "cell_type": "markdown",
   "metadata": {},
   "source": [
    "# Model Training Using Decision Tree Regressor"
   ]
  },
  {
   "cell_type": "code",
   "execution_count": 62,
   "metadata": {},
   "outputs": [
    {
     "name": "stdout",
     "output_type": "stream",
     "text": [
      "RMS Error: 16,053.30\n",
      "R2 Score:  0.898955024347227\n"
     ]
    }
   ],
   "source": [
    "from sklearn.tree import DecisionTreeRegressor\n",
    "\n",
    "dec_tree_reg = DecisionTreeRegressor(random_state=0)\n",
    "dec_tree_reg.fit(X, y.values)\n",
    "\n",
    "y_pred_via_DTR = dec_tree_reg.predict(X)\n",
    "errorDTR = np.sqrt(mean_squared_error(y, y_pred_via_DTR))\n",
    "print(\"RMS Error: {:,.02f}\".format(errorDTR))\n",
    "print(\"R2 Score: \", r2_score(y, y_pred_via_DTR))"
   ]
  },
  {
   "cell_type": "markdown",
   "metadata": {},
   "source": [
    "# Model Trainig using Random Forest Regressor"
   ]
  },
  {
   "cell_type": "code",
   "execution_count": 63,
   "metadata": {},
   "outputs": [
    {
     "name": "stdout",
     "output_type": "stream",
     "text": [
      "RMS Error: 18,818.96\n",
      "0.8611399136961158\n"
     ]
    }
   ],
   "source": [
    "from sklearn.ensemble import RandomForestRegressor\n",
    "\n",
    "random_forest_reg = RandomForestRegressor(random_state=0)\n",
    "random_forest_reg.fit(X, y.values)\n",
    "y_pred_via_RFG = random_forest_reg.predict(X)\n",
    "\n",
    "error_via_RFG = np.sqrt(mean_squared_error(y, y_pred_via_RFG))\n",
    "print(\"RMS Error: {:,.02f}\".format(error_via_RFG))\n",
    "\n",
    "from sklearn.metrics import r2_score\n",
    "print(r2_score(y, y_pred_via_RFG))"
   ]
  },
  {
   "cell_type": "markdown",
   "metadata": {},
   "source": [
    "# using Logistic Regression"
   ]
  },
  {
   "cell_type": "code",
   "execution_count": 64,
   "metadata": {},
   "outputs": [
    {
     "data": {
      "text/plain": [
       "LogisticRegression()"
      ]
     },
     "execution_count": 64,
     "metadata": {},
     "output_type": "execute_result"
    }
   ],
   "source": [
    "import warnings\n",
    "warnings.filterwarnings(\"ignore\")\n",
    "\n",
    "from sklearn.linear_model import LogisticRegression\n",
    "log_reg = LogisticRegression()\n",
    "log_reg.fit(X, y.values)"
   ]
  },
  {
   "cell_type": "code",
   "execution_count": 65,
   "metadata": {},
   "outputs": [
    {
     "name": "stdout",
     "output_type": "stream",
     "text": [
      "RMS Error: 45,731.06\n",
      "R2 Score:  0.18000996614230957\n"
     ]
    }
   ],
   "source": [
    "y_pred_via_LG = log_reg.predict(X)\n",
    "error_via_LG = np.sqrt(mean_squared_error(y, y_pred_via_LG))\n",
    "print(\"RMS Error: {:,.02f}\".format(error_via_LG))\n",
    "\n",
    "from sklearn.metrics import r2_score\n",
    "print(\"R2 Score: \",r2_score(y, y_pred_via_LG))"
   ]
  },
  {
   "cell_type": "code",
   "execution_count": 66,
   "metadata": {},
   "outputs": [
    {
     "data": {
      "text/html": [
       "<div><div id=a3bee0cd-f2b3-4b90-8e6e-d77c9c6071bb style=\"display:none; background-color:#9D6CFF; color:white; width:200px; height:30px; padding-left:5px; border-radius:4px; flex-direction:row; justify-content:space-around; align-items:center;\" onmouseover=\"this.style.backgroundColor='#BA9BF8'\" onmouseout=\"this.style.backgroundColor='#9D6CFF'\" onclick=\"window.commands?.execute('create-mitosheet-from-dataframe-output');\">See Full Dataframe in Mito</div> <script> if (window.commands.hasCommand('create-mitosheet-from-dataframe-output')) document.getElementById('a3bee0cd-f2b3-4b90-8e6e-d77c9c6071bb').style.display = 'flex' </script> <table border=\"1\" class=\"dataframe\">\n",
       "  <thead>\n",
       "    <tr style=\"text-align: right;\">\n",
       "      <th></th>\n",
       "      <th>Model</th>\n",
       "      <th>Root Mean Square Error</th>\n",
       "      <th>Mean Square Error</th>\n",
       "      <th>Mean Absolute Error</th>\n",
       "      <th>Accuracy</th>\n",
       "    </tr>\n",
       "  </thead>\n",
       "  <tbody>\n",
       "    <tr>\n",
       "      <th>0</th>\n",
       "      <td>LinearRegression</td>\n",
       "      <td>40860.315752</td>\n",
       "      <td>1.669565e+09</td>\n",
       "      <td>31652.981739</td>\n",
       "      <td>0.345380</td>\n",
       "    </tr>\n",
       "    <tr>\n",
       "      <th>1</th>\n",
       "      <td>DecisionTreeRegressor</td>\n",
       "      <td>16053.299742</td>\n",
       "      <td>2.577084e+08</td>\n",
       "      <td>7080.333841</td>\n",
       "      <td>0.898955</td>\n",
       "    </tr>\n",
       "    <tr>\n",
       "      <th>2</th>\n",
       "      <td>RandomForestRegressor</td>\n",
       "      <td>18818.962134</td>\n",
       "      <td>3.541533e+08</td>\n",
       "      <td>12194.827125</td>\n",
       "      <td>0.861140</td>\n",
       "    </tr>\n",
       "    <tr>\n",
       "      <th>3</th>\n",
       "      <td>LogisticRegression</td>\n",
       "      <td>45731.057050</td>\n",
       "      <td>2.091330e+09</td>\n",
       "      <td>33647.410699</td>\n",
       "      <td>0.180010</td>\n",
       "    </tr>\n",
       "  </tbody>\n",
       "</table></div>"
      ],
      "text/plain": [
       "                   Model  Root Mean Square Error  Mean Square Error  \\\n",
       "0       LinearRegression            40860.315752       1.669565e+09   \n",
       "1  DecisionTreeRegressor            16053.299742       2.577084e+08   \n",
       "2  RandomForestRegressor            18818.962134       3.541533e+08   \n",
       "3     LogisticRegression            45731.057050       2.091330e+09   \n",
       "\n",
       "   Mean Absolute Error  Accuracy  \n",
       "0         31652.981739  0.345380  \n",
       "1          7080.333841  0.898955  \n",
       "2         12194.827125  0.861140  \n",
       "3         33647.410699  0.180010  "
      ]
     },
     "execution_count": 66,
     "metadata": {},
     "output_type": "execute_result"
    }
   ],
   "source": [
    "comparative_analysis = {\n",
    "    'Model' : ['LinearRegression', 'DecisionTreeRegressor', 'RandomForestRegressor', 'LogisticRegression'],\n",
    "    'Root Mean Square Error' : [error_linear_reg, errorDTR, error_via_RFG, error_via_LG],\n",
    "    'Mean Square Error' : [mean_squared_error(y, y_pred_via_linear_reg), mean_squared_error(y, y_pred_via_DTR), mean_squared_error(y, y_pred_via_RFG), mean_squared_error(y, y_pred_via_LG)],\n",
    "    'Mean Absolute Error' : [mean_absolute_error(y, y_pred_via_linear_reg), mean_absolute_error(y, y_pred_via_DTR), mean_absolute_error(y, y_pred_via_RFG), mean_absolute_error(y, y_pred_via_LG)],\n",
    "    'Accuracy' : [r2_score(y, y_pred_via_linear_reg), r2_score(y, y_pred_via_DTR), r2_score(y, y_pred_via_RFG), r2_score(y, y_pred_via_LG)]\n",
    "}\n",
    "\n",
    "comparative_analysis_df = pd.DataFrame(comparative_analysis)\n",
    "comparative_analysis_df.to_excel('comparative_analysis.xlsx', index=False)\n",
    "comparative_analysis_df"
   ]
  },
  {
   "cell_type": "code",
   "execution_count": 67,
   "metadata": {},
   "outputs": [],
   "source": [
    "comparative_analysis_df['Accuracy'].max()\n",
    "\n",
    "best_model = comparative_analysis_df[comparative_analysis_df.Accuracy == comparative_analysis_df.Accuracy.max()]"
   ]
  },
  {
   "cell_type": "code",
   "execution_count": 68,
   "metadata": {},
   "outputs": [
    {
     "data": {
      "text/html": [
       "<div><div id=6225c187-c443-4fd6-9544-f291490050ff style=\"display:none; background-color:#9D6CFF; color:white; width:200px; height:30px; padding-left:5px; border-radius:4px; flex-direction:row; justify-content:space-around; align-items:center;\" onmouseover=\"this.style.backgroundColor='#BA9BF8'\" onmouseout=\"this.style.backgroundColor='#9D6CFF'\" onclick=\"window.commands?.execute('create-mitosheet-from-dataframe-output');\">See Full Dataframe in Mito</div> <script> if (window.commands.hasCommand('create-mitosheet-from-dataframe-output')) document.getElementById('6225c187-c443-4fd6-9544-f291490050ff').style.display = 'flex' </script> <table border=\"1\" class=\"dataframe\">\n",
       "  <thead>\n",
       "    <tr style=\"text-align: right;\">\n",
       "      <th></th>\n",
       "      <th>Model</th>\n",
       "      <th>Root Mean Square Error</th>\n",
       "      <th>Mean Square Error</th>\n",
       "      <th>Mean Absolute Error</th>\n",
       "      <th>Accuracy</th>\n",
       "    </tr>\n",
       "  </thead>\n",
       "  <tbody>\n",
       "    <tr>\n",
       "      <th>1</th>\n",
       "      <td>DecisionTreeRegressor</td>\n",
       "      <td>16053.299742</td>\n",
       "      <td>2.577084e+08</td>\n",
       "      <td>7080.333841</td>\n",
       "      <td>0.898955</td>\n",
       "    </tr>\n",
       "  </tbody>\n",
       "</table></div>"
      ],
      "text/plain": [
       "                   Model  Root Mean Square Error  Mean Square Error  \\\n",
       "1  DecisionTreeRegressor            16053.299742       2.577084e+08   \n",
       "\n",
       "   Mean Absolute Error  Accuracy  \n",
       "1          7080.333841  0.898955  "
      ]
     },
     "execution_count": 68,
     "metadata": {},
     "output_type": "execute_result"
    }
   ],
   "source": [
    "best_model"
   ]
  },
  {
   "cell_type": "code",
   "execution_count": 69,
   "metadata": {},
   "outputs": [
    {
     "data": {
      "text/html": [
       "<div><div id=2ea41f8a-413e-4af0-b48a-54fd60a09662 style=\"display:none; background-color:#9D6CFF; color:white; width:200px; height:30px; padding-left:5px; border-radius:4px; flex-direction:row; justify-content:space-around; align-items:center;\" onmouseover=\"this.style.backgroundColor='#BA9BF8'\" onmouseout=\"this.style.backgroundColor='#9D6CFF'\" onclick=\"window.commands?.execute('create-mitosheet-from-dataframe-output');\">See Full Dataframe in Mito</div> <script> if (window.commands.hasCommand('create-mitosheet-from-dataframe-output')) document.getElementById('2ea41f8a-413e-4af0-b48a-54fd60a09662').style.display = 'flex' </script> <table border=\"1\" class=\"dataframe\">\n",
       "  <thead>\n",
       "    <tr style=\"text-align: right;\">\n",
       "      <th></th>\n",
       "      <th>Actual</th>\n",
       "      <th>Predicted Values</th>\n",
       "    </tr>\n",
       "  </thead>\n",
       "  <tbody>\n",
       "    <tr>\n",
       "      <th>12</th>\n",
       "      <td>77290.0</td>\n",
       "      <td>77290.000000</td>\n",
       "    </tr>\n",
       "    <tr>\n",
       "      <th>16</th>\n",
       "      <td>17748.0</td>\n",
       "      <td>17748.000000</td>\n",
       "    </tr>\n",
       "    <tr>\n",
       "      <th>33</th>\n",
       "      <td>11832.0</td>\n",
       "      <td>11832.000000</td>\n",
       "    </tr>\n",
       "    <tr>\n",
       "      <th>45</th>\n",
       "      <td>60480.0</td>\n",
       "      <td>60480.000000</td>\n",
       "    </tr>\n",
       "    <tr>\n",
       "      <th>55</th>\n",
       "      <td>64630.0</td>\n",
       "      <td>64630.000000</td>\n",
       "    </tr>\n",
       "    <tr>\n",
       "      <th>...</th>\n",
       "      <td>...</td>\n",
       "      <td>...</td>\n",
       "    </tr>\n",
       "    <tr>\n",
       "      <th>83401</th>\n",
       "      <td>70000.0</td>\n",
       "      <td>78454.181818</td>\n",
       "    </tr>\n",
       "    <tr>\n",
       "      <th>83420</th>\n",
       "      <td>35672.0</td>\n",
       "      <td>35672.000000</td>\n",
       "    </tr>\n",
       "    <tr>\n",
       "      <th>83428</th>\n",
       "      <td>41232.0</td>\n",
       "      <td>41232.000000</td>\n",
       "    </tr>\n",
       "    <tr>\n",
       "      <th>83432</th>\n",
       "      <td>80169.0</td>\n",
       "      <td>80169.000000</td>\n",
       "    </tr>\n",
       "    <tr>\n",
       "      <th>83436</th>\n",
       "      <td>90000.0</td>\n",
       "      <td>90000.000000</td>\n",
       "    </tr>\n",
       "  </tbody>\n",
       "</table></div>"
      ],
      "text/plain": [
       "        Actual  Predicted Values\n",
       "12     77290.0      77290.000000\n",
       "16     17748.0      17748.000000\n",
       "33     11832.0      11832.000000\n",
       "45     60480.0      60480.000000\n",
       "55     64630.0      64630.000000\n",
       "...        ...               ...\n",
       "83401  70000.0      78454.181818\n",
       "83420  35672.0      35672.000000\n",
       "83428  41232.0      41232.000000\n",
       "83432  80169.0      80169.000000\n",
       "83436  90000.0      90000.000000\n",
       "\n",
       "[11702 rows x 2 columns]"
      ]
     },
     "execution_count": 69,
     "metadata": {},
     "output_type": "execute_result"
    }
   ],
   "source": [
    "actual_pred_dataframe  = pd.DataFrame({'Actual': y, 'Predicted Values': y_pred_via_DTR,})\n",
    "actual_pred_dataframe"
   ]
  },
  {
   "cell_type": "code",
   "execution_count": 70,
   "metadata": {},
   "outputs": [],
   "source": [
    "import matplotlib.pyplot as plt\n",
    " \n",
    "# creating the dataset\n",
    "data = {'Linear Regression': error_linear_reg,\n",
    "        'Decision Tree': errorDTR,\n",
    "        'Random Forest': error_via_RFG,\n",
    "        'Logistic Regression': error_via_LG}\n",
    "\n",
    "model = list(data.keys())\n",
    "RMSEerrors = list(data.values())"
   ]
  },
  {
   "cell_type": "code",
   "execution_count": 71,
   "metadata": {},
   "outputs": [
    {
     "data": {
      "text/plain": [
       "Text(0.5, 1.0, 'RMS Error for Different Models')"
      ]
     },
     "execution_count": 71,
     "metadata": {},
     "output_type": "execute_result"
    },
    {
     "data": {
      "image/png": "[encoded data removed]",
      "text/plain": [
       "<Figure size 576x576 with 1 Axes>"
      ]
     },
     "metadata": {
      "needs_background": "light"
     },
     "output_type": "display_data"
    }
   ],
   "source": [
    "import seaborn as sns\n",
    "plt.figure(figsize=(8, 8))\n",
    "splot=sns.barplot(x= model,\n",
    "                  y= RMSEerrors)\n",
    "\n",
    "for p in splot.patches:\n",
    "    splot.annotate(format(p.get_height(), '.1f'), \n",
    "                   (p.get_x() + p.get_width() / 2., p.get_height()), \n",
    "                   ha = 'center', va = 'center', \n",
    "                   xytext = (0, 9), \n",
    "                   textcoords = 'offset points')\n",
    "plt.xlabel(\"Model\", size=14)\n",
    "plt.ylabel(\"RMS Error\", size=14)\n",
    "plt.title(\"RMS Error for Different Models\")"
   ]
  },
  {
   "cell_type": "code",
   "execution_count": 72,
   "metadata": {},
   "outputs": [],
   "source": [
    "accuracy_data = {\n",
    "        'Linear Regression': r2_score(y, y_pred_via_linear_reg),\n",
    "        'Decision Tree': r2_score(y, y_pred_via_DTR),\n",
    "        'Random Forest': r2_score(y, y_pred_via_RFG),\n",
    "        'Logistic Regression': r2_score(y, y_pred_via_LG)\n",
    "}"
   ]
  },
  {
   "cell_type": "code",
   "execution_count": 73,
   "metadata": {},
   "outputs": [
    {
     "data": {
      "text/plain": [
       "Text(0.5, 1.0, 'Accuracy for Different Moodel')"
      ]
     },
     "execution_count": 73,
     "metadata": {},
     "output_type": "execute_result"
    },
    {
     "data": {
      "image/png": "[encoded data removed]",
      "text/plain": [
       "<Figure size 576x576 with 1 Axes>"
      ]
     },
     "metadata": {
      "needs_background": "light"
     },
     "output_type": "display_data"
    }
   ],
   "source": [
    "plt.figure(figsize=(8, 8))\n",
    "splot=sns.barplot(x= list(accuracy_data.keys()),\n",
    "                  y= list(accuracy_data.values()))\n",
    "\n",
    "for p in splot.patches:\n",
    "    splot.annotate(format(p.get_height(), '.1f'), \n",
    "                   (p.get_x() + p.get_width() / 2., p.get_height()), \n",
    "                   ha = 'center', va = 'center', \n",
    "                   xytext = (0, 9), \n",
    "                   textcoords = 'offset points')\n",
    "plt.xlabel(\"Model\", size=14)\n",
    "plt.ylabel(\"Accuracy\", size=14)\n",
    "plt.title(\"Accuracy for Different Moodel\")"
   ]
  },
  {
   "cell_type": "code",
   "execution_count": 74,
   "metadata": {},
   "outputs": [
    {
     "data": {
      "text/plain": [
       "<seaborn.axisgrid.PairGrid at 0x1cebf7ff0d0>"
      ]
     },
     "execution_count": 74,
     "metadata": {},
     "output_type": "execute_result"
    },
    {
     "data": {
      "image/png": "[encoded data removed]",
      "text/plain": [
       "<Figure size 1440x1440 with 72 Axes>"
      ]
     },
     "metadata": {
      "needs_background": "light"
     },
     "output_type": "display_data"
    }
   ],
   "source": [
    "sns.pairplot(df)"
   ]
  },
  {
   "cell_type": "code",
   "execution_count": 75,
   "metadata": {},
   "outputs": [
    {
     "data": {
      "image/png": "[encoded data removed]",
      "text/plain": [
       "<Figure size 432x288 with 2 Axes>"
      ]
     },
     "metadata": {
      "needs_background": "light"
     },
     "output_type": "display_data"
    }
   ],
   "source": [
    "corr_matrix = df.corr()\n",
    "sns.heatmap(corr_matrix, annot = True)\n",
    "plt.show()"
   ]
  },
  {
   "cell_type": "code",
   "execution_count": 76,
   "metadata": {},
   "outputs": [
    {
     "data": {
      "text/html": [
       "<div><div id=a5b7e915-f4ab-4df3-8aea-96f0ca87ea9e style=\"display:none; background-color:#9D6CFF; color:white; width:200px; height:30px; padding-left:5px; border-radius:4px; flex-direction:row; justify-content:space-around; align-items:center;\" onmouseover=\"this.style.backgroundColor='#BA9BF8'\" onmouseout=\"this.style.backgroundColor='#9D6CFF'\" onclick=\"window.commands?.execute('create-mitosheet-from-dataframe-output');\">See Full Dataframe in Mito</div> <script> if (window.commands.hasCommand('create-mitosheet-from-dataframe-output')) document.getElementById('a5b7e915-f4ab-4df3-8aea-96f0ca87ea9e').style.display = 'flex' </script> <table border=\"1\" class=\"dataframe\">\n",
       "  <thead>\n",
       "    <tr style=\"text-align: right;\">\n",
       "      <th></th>\n",
       "      <th>Country</th>\n",
       "      <th>EdLevel</th>\n",
       "      <th>YearsCodePro</th>\n",
       "      <th>DevType</th>\n",
       "      <th>LanguageHaveWorkedWith</th>\n",
       "      <th>MiscTechHaveWorkedWith</th>\n",
       "      <th>WebframeHaveWorkedWith</th>\n",
       "    </tr>\n",
       "  </thead>\n",
       "  <tbody>\n",
       "    <tr>\n",
       "      <th>12</th>\n",
       "      <td>4</td>\n",
       "      <td>2</td>\n",
       "      <td>6.0</td>\n",
       "      <td>0</td>\n",
       "      <td>0</td>\n",
       "      <td>3</td>\n",
       "      <td>4</td>\n",
       "    </tr>\n",
       "    <tr>\n",
       "      <th>16</th>\n",
       "      <td>13</td>\n",
       "      <td>0</td>\n",
       "      <td>2.0</td>\n",
       "      <td>5</td>\n",
       "      <td>0</td>\n",
       "      <td>0</td>\n",
       "      <td>3</td>\n",
       "    </tr>\n",
       "    <tr>\n",
       "      <th>33</th>\n",
       "      <td>13</td>\n",
       "      <td>0</td>\n",
       "      <td>2.0</td>\n",
       "      <td>6</td>\n",
       "      <td>0</td>\n",
       "      <td>0</td>\n",
       "      <td>5</td>\n",
       "    </tr>\n",
       "    <tr>\n",
       "      <th>45</th>\n",
       "      <td>1</td>\n",
       "      <td>0</td>\n",
       "      <td>15.0</td>\n",
       "      <td>0</td>\n",
       "      <td>0</td>\n",
       "      <td>0</td>\n",
       "      <td>3</td>\n",
       "    </tr>\n",
       "    <tr>\n",
       "      <th>55</th>\n",
       "      <td>14</td>\n",
       "      <td>2</td>\n",
       "      <td>12.0</td>\n",
       "      <td>5</td>\n",
       "      <td>0</td>\n",
       "      <td>2</td>\n",
       "      <td>3</td>\n",
       "    </tr>\n",
       "  </tbody>\n",
       "</table></div>"
      ],
      "text/plain": [
       "    Country  EdLevel  YearsCodePro  DevType  LanguageHaveWorkedWith  \\\n",
       "12        4        2           6.0        0                       0   \n",
       "16       13        0           2.0        5                       0   \n",
       "33       13        0           2.0        6                       0   \n",
       "45        1        0          15.0        0                       0   \n",
       "55       14        2          12.0        5                       0   \n",
       "\n",
       "    MiscTechHaveWorkedWith  WebframeHaveWorkedWith  \n",
       "12                       3                       4  \n",
       "16                       0                       3  \n",
       "33                       0                       5  \n",
       "45                       0                       3  \n",
       "55                       2                       3  "
      ]
     },
     "execution_count": 76,
     "metadata": {},
     "output_type": "execute_result"
    }
   ],
   "source": [
    "X.head()"
   ]
  },
  {
   "cell_type": "code",
   "execution_count": 77,
   "metadata": {},
   "outputs": [],
   "source": [
    "import pickle\n",
    "pickle.dump(dec_tree_reg, open(\"DevSalaryPredDTR.model\", 'wb'))"
   ]
  },
  {
   "cell_type": "code",
   "execution_count": 78,
   "metadata": {},
   "outputs": [],
   "source": [
    "from pydotplus import graph_from_dot_data\n",
    "from sklearn.tree import export_graphviz"
   ]
  },
  {
   "cell_type": "code",
   "execution_count": 79,
   "metadata": {},
   "outputs": [
    {
     "data": {
      "text/plain": [
       "DecisionTreeRegressor()"
      ]
     },
     "execution_count": 79,
     "metadata": {},
     "output_type": "execute_result"
    }
   ],
   "source": [
    "regressor = DecisionTreeRegressor()\n",
    "regressor.fit(X.head(20), y.head(20).values)"
   ]
  },
  {
   "cell_type": "code",
   "execution_count": 80,
   "metadata": {},
   "outputs": [
    {
     "data": {
      "text/plain": [
       "True"
      ]
     },
     "execution_count": 80,
     "metadata": {},
     "output_type": "execute_result"
    }
   ],
   "source": [
    "dot_data = export_graphviz(regressor, filled=True, rounded=True,\n",
    "                                    feature_names=[\n",
    "                                        'Country',\n",
    "                                        'EdLevel',\n",
    "                                        'YearsCodePro',\n",
    "                                        'DevType',\n",
    "                                        'LanguageHaveWorkedWith',\n",
    "                                        'MiscTechHaveWorkedWith',\n",
    "                                        'WebframeHaveWorkedWith'],\n",
    "                                    out_file=None,)\n",
    "graph = graph_from_dot_data(dot_data)\n",
    "graph.write_png('tree.png')"
   ]
  },
  {
   "cell_type": "code",
   "execution_count": 81,
   "metadata": {},
   "outputs": [
    {
     "data": {
      "text/html": [
       "<div><div id=85a1352c-d718-4b64-9c96-89ff2f2857c1 style=\"display:none; background-color:#9D6CFF; color:white; width:200px; height:30px; padding-left:5px; border-radius:4px; flex-direction:row; justify-content:space-around; align-items:center;\" onmouseover=\"this.style.backgroundColor='#BA9BF8'\" onmouseout=\"this.style.backgroundColor='#9D6CFF'\" onclick=\"window.commands?.execute('create-mitosheet-from-dataframe-output');\">See Full Dataframe in Mito</div> <script> if (window.commands.hasCommand('create-mitosheet-from-dataframe-output')) document.getElementById('85a1352c-d718-4b64-9c96-89ff2f2857c1').style.display = 'flex' </script> <table border=\"1\" class=\"dataframe\">\n",
       "  <thead>\n",
       "    <tr style=\"text-align: right;\">\n",
       "      <th></th>\n",
       "      <th>Country</th>\n",
       "      <th>EdLevel</th>\n",
       "      <th>YearsCodePro</th>\n",
       "      <th>DevType</th>\n",
       "      <th>LanguageHaveWorkedWith</th>\n",
       "      <th>MiscTechHaveWorkedWith</th>\n",
       "      <th>WebframeHaveWorkedWith</th>\n",
       "    </tr>\n",
       "  </thead>\n",
       "  <tbody>\n",
       "    <tr>\n",
       "      <th>12</th>\n",
       "      <td>4</td>\n",
       "      <td>2</td>\n",
       "      <td>6.0</td>\n",
       "      <td>0</td>\n",
       "      <td>0</td>\n",
       "      <td>3</td>\n",
       "      <td>4</td>\n",
       "    </tr>\n",
       "    <tr>\n",
       "      <th>16</th>\n",
       "      <td>13</td>\n",
       "      <td>0</td>\n",
       "      <td>2.0</td>\n",
       "      <td>5</td>\n",
       "      <td>0</td>\n",
       "      <td>0</td>\n",
       "      <td>3</td>\n",
       "    </tr>\n",
       "    <tr>\n",
       "      <th>33</th>\n",
       "      <td>13</td>\n",
       "      <td>0</td>\n",
       "      <td>2.0</td>\n",
       "      <td>6</td>\n",
       "      <td>0</td>\n",
       "      <td>0</td>\n",
       "      <td>5</td>\n",
       "    </tr>\n",
       "    <tr>\n",
       "      <th>45</th>\n",
       "      <td>1</td>\n",
       "      <td>0</td>\n",
       "      <td>15.0</td>\n",
       "      <td>0</td>\n",
       "      <td>0</td>\n",
       "      <td>0</td>\n",
       "      <td>3</td>\n",
       "    </tr>\n",
       "    <tr>\n",
       "      <th>55</th>\n",
       "      <td>14</td>\n",
       "      <td>2</td>\n",
       "      <td>12.0</td>\n",
       "      <td>5</td>\n",
       "      <td>0</td>\n",
       "      <td>2</td>\n",
       "      <td>3</td>\n",
       "    </tr>\n",
       "  </tbody>\n",
       "</table></div>"
      ],
      "text/plain": [
       "    Country  EdLevel  YearsCodePro  DevType  LanguageHaveWorkedWith  \\\n",
       "12        4        2           6.0        0                       0   \n",
       "16       13        0           2.0        5                       0   \n",
       "33       13        0           2.0        6                       0   \n",
       "45        1        0          15.0        0                       0   \n",
       "55       14        2          12.0        5                       0   \n",
       "\n",
       "    MiscTechHaveWorkedWith  WebframeHaveWorkedWith  \n",
       "12                       3                       4  \n",
       "16                       0                       3  \n",
       "33                       0                       5  \n",
       "45                       0                       3  \n",
       "55                       2                       3  "
      ]
     },
     "execution_count": 81,
     "metadata": {},
     "output_type": "execute_result"
    }
   ],
   "source": [
    "X.head()"
   ]
  },
  {
   "cell_type": "code",
   "execution_count": null,
   "metadata": {},
   "outputs": [],
   "source": []
  }
 ],
 "metadata": {
  "interpreter": {
   "hash": "b3ba2566441a7c06988d0923437866b63cedc61552a5af99d1f4fb67d367b25f"
  },
  "kernelspec": {
   "display_name": "Python 3.8.8 64-bit ('base': conda)",
   "language": "python",
   "name": "python3"
  },
  "language_info": {
   "codemirror_mode": {
    "name": "ipython",
    "version": 3
   },
   "file_extension": ".py",
   "mimetype": "text/x-python",
   "name": "python",
   "nbconvert_exporter": "python",
   "pygments_lexer": "ipython3",
   "version": "3.9.7"
  },
  "orig_nbformat": 4
 },
 "nbformat": 4,
 "nbformat_minor": 2
}
