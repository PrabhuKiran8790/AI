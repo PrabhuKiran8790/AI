{
  "nbformat": 4,
  "nbformat_minor": 5,
  "metadata": {
    "kernelspec": {
      "display_name": "Python 3",
      "language": "python",
      "name": "python3"
    },
    "language_info": {
      "codemirror_mode": {
        "name": "ipython",
        "version": 3
      },
      "file_extension": ".py",
      "mimetype": "text/x-python",
      "name": "python",
      "nbconvert_exporter": "python",
      "pygments_lexer": "ipython3",
      "version": "3.8.8"
    },
    "colab": {
      "name": "Assignment 1.ipynb",
      "provenance": [],
      "include_colab_link": true
    }
  },
  "cells": [
    {
      "cell_type": "markdown",
      "metadata": {
        "id": "view-in-github",
        "colab_type": "text"
      },
      "source": [
        "<a href=\"https://colab.research.google.com/github/PrabhuKiran8790/AI/blob/main/Assignment_1.ipynb\" target=\"_parent\"><img src=\"https://colab.research.google.com/assets/colab-badge.svg\" alt=\"Open In Colab\"/></a>"
      ]
    },
    {
      "cell_type": "markdown",
      "metadata": {
        "id": "d269612f"
      },
      "source": [
        "# Assignment 1\n",
        "<pre><code>Prabhu Kiran<br>20K45A0215<br><a href=\"https://www.github.com/Prabhukiran8790\">Github Link</a></code></pre>\n",
        "### About Optimization using SciPy linprog\n",
        "\n",
        "\n",
        "\n"
      ],
      "id": "d269612f"
    },
    {
      "cell_type": "markdown",
      "metadata": {
        "id": "43394673"
      },
      "source": [
        "## Question:\n",
        "\n",
        "A farmer has recently acquired a 110 hectares piece of land.  He has  \n",
        "decided to grow Wheat and barley on that land. Due to the quality    \n",
        "of the sun and the region's excellent climate, the entire production of   \n",
        " Wheat and Barley can be sold. He wants to know how to plant each    \n",
        " variety in the 110 hectares, given the costs, net profits and labor   \n",
        " requirements according to the data shown below: \n",
        " \n",
        "| Crop   | Cost/Hect  | profit (Price/hect) in Rupees | Man-days / Hect |\n",
        "|--------|------------|-------------------------------|-----------------|\n",
        "| Wheat  | 7000 /-    | 50                            | 10 Days         |\n",
        "| Barley | 2000 /-    | 120                           |30               |\n",
        "\n",
        "\n",
        "The farmer has a budget of Rs. 7,00,000 and availability of 1,200  \n",
        "man-days during the planning horizon. Find the optimal solution and  \n",
        "the optimal value.  "
      ],
      "id": "43394673"
    },
    {
      "cell_type": "markdown",
      "metadata": {
        "id": "552742b3"
      },
      "source": [
        "### inequal constraints\n",
        "${10x + 30y}  \\leq  1200$  \n",
        "${7000x + 2000y}  \\leq  700000$  \n",
        "${x + y}  \\leq  110$\n",
        "### Boundaries: \n",
        "$x, y  \\geq  0$\n",
        "\n"
      ],
      "id": "552742b3"
    },
    {
      "cell_type": "code",
      "metadata": {
        "colab": {
          "base_uri": "https://localhost:8080/"
        },
        "id": "14baf113",
        "outputId": "49374f40-7a92-4717-c41c-c6e60bc3b44f"
      },
      "source": [
        "from scipy.optimize import linprog\n",
        "object = [-50,-120] # Negative objective function, as linprog is used to find the minimum. (max = min - profit)\n",
        "in_eq_left = [[10,30],[7000, 2000],[1,1]] # Inequaility constraints coeffecient Matrix \n",
        "in_eq_right = [1200, 700000, 110] # Inequaility constraints cosntant Matrix \n",
        "bnd=[(0,float(\"inf\")),(0,float(\"inf\"))] # Boundaries or limits\n",
        "opt_sol=linprog(c=object,A_ub=in_eq_left,b_ub=in_eq_right,bounds=bnd,method=\"Simplex\")\n",
        "print(f\"X(Wheat): {opt_sol.x[0]} Hectares\\nY(Barley): {opt_sol.x[1]} Hectares\")\n",
        "print(f\"To get maximum profit, the farmer should produce wheat and barley in {round(opt_sol.x[0])} and {round(opt_sol.x[1])} hectares of land respectively.\")"
      ],
      "id": "14baf113",
      "execution_count": 1,
      "outputs": [
        {
          "output_type": "stream",
          "text": [
            "X(Wheat): 97.89473684210526 Hectares\n",
            "Y(Barley): 7.368421052631579 Hectares\n",
            "To get maximum profit, the farmer should produce wheat and barley in 98 and 7 hectares of land respectively.\n"
          ],
          "name": "stdout"
        }
      ]
    }
  ]
}